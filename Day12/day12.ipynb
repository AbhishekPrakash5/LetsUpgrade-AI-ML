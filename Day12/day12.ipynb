{
 "cells": [
  {
   "cell_type": "code",
   "execution_count": 39,
   "metadata": {},
   "outputs": [],
   "source": [
    "import pandas as pd \n",
    "import seaborn as sns"
   ]
  },
  {
   "cell_type": "code",
   "execution_count": 2,
   "metadata": {},
   "outputs": [
    {
     "data": {
      "text/html": [
       "<div>\n",
       "<style scoped>\n",
       "    .dataframe tbody tr th:only-of-type {\n",
       "        vertical-align: middle;\n",
       "    }\n",
       "\n",
       "    .dataframe tbody tr th {\n",
       "        vertical-align: top;\n",
       "    }\n",
       "\n",
       "    .dataframe thead th {\n",
       "        text-align: right;\n",
       "    }\n",
       "</style>\n",
       "<table border=\"1\" class=\"dataframe\">\n",
       "  <thead>\n",
       "    <tr style=\"text-align: right;\">\n",
       "      <th></th>\n",
       "      <th>Age</th>\n",
       "      <th>Attrition</th>\n",
       "      <th>BusinessTravel</th>\n",
       "      <th>Department</th>\n",
       "      <th>DistanceFromHome</th>\n",
       "      <th>Education</th>\n",
       "      <th>EducationField</th>\n",
       "      <th>EmployeeCount</th>\n",
       "      <th>EmployeeID</th>\n",
       "      <th>Gender</th>\n",
       "      <th>...</th>\n",
       "      <th>NumCompaniesWorked</th>\n",
       "      <th>Over18</th>\n",
       "      <th>PercentSalaryHike</th>\n",
       "      <th>StandardHours</th>\n",
       "      <th>StockOptionLevel</th>\n",
       "      <th>TotalWorkingYears</th>\n",
       "      <th>TrainingTimesLastYear</th>\n",
       "      <th>YearsAtCompany</th>\n",
       "      <th>YearsSinceLastPromotion</th>\n",
       "      <th>YearsWithCurrManager</th>\n",
       "    </tr>\n",
       "  </thead>\n",
       "  <tbody>\n",
       "    <tr>\n",
       "      <th>0</th>\n",
       "      <td>51</td>\n",
       "      <td>No</td>\n",
       "      <td>Travel_Rarely</td>\n",
       "      <td>Sales</td>\n",
       "      <td>6</td>\n",
       "      <td>2</td>\n",
       "      <td>Life Sciences</td>\n",
       "      <td>1</td>\n",
       "      <td>1</td>\n",
       "      <td>Female</td>\n",
       "      <td>...</td>\n",
       "      <td>1.0</td>\n",
       "      <td>Y</td>\n",
       "      <td>11</td>\n",
       "      <td>8</td>\n",
       "      <td>0</td>\n",
       "      <td>1.0</td>\n",
       "      <td>6</td>\n",
       "      <td>1</td>\n",
       "      <td>0</td>\n",
       "      <td>0</td>\n",
       "    </tr>\n",
       "    <tr>\n",
       "      <th>1</th>\n",
       "      <td>31</td>\n",
       "      <td>Yes</td>\n",
       "      <td>Travel_Frequently</td>\n",
       "      <td>Research &amp; Development</td>\n",
       "      <td>10</td>\n",
       "      <td>1</td>\n",
       "      <td>Life Sciences</td>\n",
       "      <td>1</td>\n",
       "      <td>2</td>\n",
       "      <td>Female</td>\n",
       "      <td>...</td>\n",
       "      <td>0.0</td>\n",
       "      <td>Y</td>\n",
       "      <td>23</td>\n",
       "      <td>8</td>\n",
       "      <td>1</td>\n",
       "      <td>6.0</td>\n",
       "      <td>3</td>\n",
       "      <td>5</td>\n",
       "      <td>1</td>\n",
       "      <td>4</td>\n",
       "    </tr>\n",
       "    <tr>\n",
       "      <th>2</th>\n",
       "      <td>32</td>\n",
       "      <td>No</td>\n",
       "      <td>Travel_Frequently</td>\n",
       "      <td>Research &amp; Development</td>\n",
       "      <td>17</td>\n",
       "      <td>4</td>\n",
       "      <td>Other</td>\n",
       "      <td>1</td>\n",
       "      <td>3</td>\n",
       "      <td>Male</td>\n",
       "      <td>...</td>\n",
       "      <td>1.0</td>\n",
       "      <td>Y</td>\n",
       "      <td>15</td>\n",
       "      <td>8</td>\n",
       "      <td>3</td>\n",
       "      <td>5.0</td>\n",
       "      <td>2</td>\n",
       "      <td>5</td>\n",
       "      <td>0</td>\n",
       "      <td>3</td>\n",
       "    </tr>\n",
       "    <tr>\n",
       "      <th>3</th>\n",
       "      <td>38</td>\n",
       "      <td>No</td>\n",
       "      <td>Non-Travel</td>\n",
       "      <td>Research &amp; Development</td>\n",
       "      <td>2</td>\n",
       "      <td>5</td>\n",
       "      <td>Life Sciences</td>\n",
       "      <td>1</td>\n",
       "      <td>4</td>\n",
       "      <td>Male</td>\n",
       "      <td>...</td>\n",
       "      <td>3.0</td>\n",
       "      <td>Y</td>\n",
       "      <td>11</td>\n",
       "      <td>8</td>\n",
       "      <td>3</td>\n",
       "      <td>13.0</td>\n",
       "      <td>5</td>\n",
       "      <td>8</td>\n",
       "      <td>7</td>\n",
       "      <td>5</td>\n",
       "    </tr>\n",
       "    <tr>\n",
       "      <th>4</th>\n",
       "      <td>32</td>\n",
       "      <td>No</td>\n",
       "      <td>Travel_Rarely</td>\n",
       "      <td>Research &amp; Development</td>\n",
       "      <td>10</td>\n",
       "      <td>1</td>\n",
       "      <td>Medical</td>\n",
       "      <td>1</td>\n",
       "      <td>5</td>\n",
       "      <td>Male</td>\n",
       "      <td>...</td>\n",
       "      <td>4.0</td>\n",
       "      <td>Y</td>\n",
       "      <td>12</td>\n",
       "      <td>8</td>\n",
       "      <td>2</td>\n",
       "      <td>9.0</td>\n",
       "      <td>2</td>\n",
       "      <td>6</td>\n",
       "      <td>0</td>\n",
       "      <td>4</td>\n",
       "    </tr>\n",
       "  </tbody>\n",
       "</table>\n",
       "<p>5 rows × 24 columns</p>\n",
       "</div>"
      ],
      "text/plain": [
       "   Age Attrition     BusinessTravel              Department  DistanceFromHome  \\\n",
       "0   51        No      Travel_Rarely                   Sales                 6   \n",
       "1   31       Yes  Travel_Frequently  Research & Development                10   \n",
       "2   32        No  Travel_Frequently  Research & Development                17   \n",
       "3   38        No         Non-Travel  Research & Development                 2   \n",
       "4   32        No      Travel_Rarely  Research & Development                10   \n",
       "\n",
       "   Education EducationField  EmployeeCount  EmployeeID  Gender  ...  \\\n",
       "0          2  Life Sciences              1           1  Female  ...   \n",
       "1          1  Life Sciences              1           2  Female  ...   \n",
       "2          4          Other              1           3    Male  ...   \n",
       "3          5  Life Sciences              1           4    Male  ...   \n",
       "4          1        Medical              1           5    Male  ...   \n",
       "\n",
       "   NumCompaniesWorked Over18 PercentSalaryHike  StandardHours  \\\n",
       "0                 1.0      Y                11              8   \n",
       "1                 0.0      Y                23              8   \n",
       "2                 1.0      Y                15              8   \n",
       "3                 3.0      Y                11              8   \n",
       "4                 4.0      Y                12              8   \n",
       "\n",
       "   StockOptionLevel TotalWorkingYears  TrainingTimesLastYear  YearsAtCompany  \\\n",
       "0                 0               1.0                      6               1   \n",
       "1                 1               6.0                      3               5   \n",
       "2                 3               5.0                      2               5   \n",
       "3                 3              13.0                      5               8   \n",
       "4                 2               9.0                      2               6   \n",
       "\n",
       "   YearsSinceLastPromotion  YearsWithCurrManager  \n",
       "0                        0                     0  \n",
       "1                        1                     4  \n",
       "2                        0                     3  \n",
       "3                        7                     5  \n",
       "4                        0                     4  \n",
       "\n",
       "[5 rows x 24 columns]"
      ]
     },
     "execution_count": 2,
     "metadata": {},
     "output_type": "execute_result"
    }
   ],
   "source": [
    "df = pd.read_csv(\"general_data.csv\")\n",
    "df.head()"
   ]
  },
  {
   "cell_type": "code",
   "execution_count": 3,
   "metadata": {},
   "outputs": [
    {
     "data": {
      "text/plain": [
       "Age                         0\n",
       "Attrition                   0\n",
       "BusinessTravel              0\n",
       "Department                  0\n",
       "DistanceFromHome            0\n",
       "Education                   0\n",
       "EducationField              0\n",
       "EmployeeCount               0\n",
       "EmployeeID                  0\n",
       "Gender                      0\n",
       "JobLevel                    0\n",
       "JobRole                     0\n",
       "MaritalStatus               0\n",
       "MonthlyIncome               0\n",
       "NumCompaniesWorked         19\n",
       "Over18                      0\n",
       "PercentSalaryHike           0\n",
       "StandardHours               0\n",
       "StockOptionLevel            0\n",
       "TotalWorkingYears           9\n",
       "TrainingTimesLastYear       0\n",
       "YearsAtCompany              0\n",
       "YearsSinceLastPromotion     0\n",
       "YearsWithCurrManager        0\n",
       "dtype: int64"
      ]
     },
     "execution_count": 3,
     "metadata": {},
     "output_type": "execute_result"
    }
   ],
   "source": [
    "df.isnull().sum()"
   ]
  },
  {
   "cell_type": "code",
   "execution_count": 4,
   "metadata": {},
   "outputs": [
    {
     "data": {
      "text/html": [
       "<div>\n",
       "<style scoped>\n",
       "    .dataframe tbody tr th:only-of-type {\n",
       "        vertical-align: middle;\n",
       "    }\n",
       "\n",
       "    .dataframe tbody tr th {\n",
       "        vertical-align: top;\n",
       "    }\n",
       "\n",
       "    .dataframe thead th {\n",
       "        text-align: right;\n",
       "    }\n",
       "</style>\n",
       "<table border=\"1\" class=\"dataframe\">\n",
       "  <thead>\n",
       "    <tr style=\"text-align: right;\">\n",
       "      <th></th>\n",
       "      <th>Age</th>\n",
       "      <th>DistanceFromHome</th>\n",
       "      <th>Education</th>\n",
       "      <th>EmployeeCount</th>\n",
       "      <th>EmployeeID</th>\n",
       "      <th>JobLevel</th>\n",
       "      <th>MonthlyIncome</th>\n",
       "      <th>NumCompaniesWorked</th>\n",
       "      <th>PercentSalaryHike</th>\n",
       "      <th>StandardHours</th>\n",
       "      <th>StockOptionLevel</th>\n",
       "      <th>TotalWorkingYears</th>\n",
       "      <th>TrainingTimesLastYear</th>\n",
       "      <th>YearsAtCompany</th>\n",
       "      <th>YearsSinceLastPromotion</th>\n",
       "      <th>YearsWithCurrManager</th>\n",
       "    </tr>\n",
       "  </thead>\n",
       "  <tbody>\n",
       "    <tr>\n",
       "      <th>count</th>\n",
       "      <td>4410.000000</td>\n",
       "      <td>4410.000000</td>\n",
       "      <td>4410.000000</td>\n",
       "      <td>4410.0</td>\n",
       "      <td>4410.000000</td>\n",
       "      <td>4410.000000</td>\n",
       "      <td>4410.000000</td>\n",
       "      <td>4391.000000</td>\n",
       "      <td>4410.000000</td>\n",
       "      <td>4410.0</td>\n",
       "      <td>4410.000000</td>\n",
       "      <td>4401.000000</td>\n",
       "      <td>4410.000000</td>\n",
       "      <td>4410.000000</td>\n",
       "      <td>4410.000000</td>\n",
       "      <td>4410.000000</td>\n",
       "    </tr>\n",
       "    <tr>\n",
       "      <th>mean</th>\n",
       "      <td>36.923810</td>\n",
       "      <td>9.192517</td>\n",
       "      <td>2.912925</td>\n",
       "      <td>1.0</td>\n",
       "      <td>2205.500000</td>\n",
       "      <td>2.063946</td>\n",
       "      <td>65029.312925</td>\n",
       "      <td>2.694830</td>\n",
       "      <td>15.209524</td>\n",
       "      <td>8.0</td>\n",
       "      <td>0.793878</td>\n",
       "      <td>11.279936</td>\n",
       "      <td>2.799320</td>\n",
       "      <td>7.008163</td>\n",
       "      <td>2.187755</td>\n",
       "      <td>4.123129</td>\n",
       "    </tr>\n",
       "    <tr>\n",
       "      <th>std</th>\n",
       "      <td>9.133301</td>\n",
       "      <td>8.105026</td>\n",
       "      <td>1.023933</td>\n",
       "      <td>0.0</td>\n",
       "      <td>1273.201673</td>\n",
       "      <td>1.106689</td>\n",
       "      <td>47068.888559</td>\n",
       "      <td>2.498887</td>\n",
       "      <td>3.659108</td>\n",
       "      <td>0.0</td>\n",
       "      <td>0.851883</td>\n",
       "      <td>7.782222</td>\n",
       "      <td>1.288978</td>\n",
       "      <td>6.125135</td>\n",
       "      <td>3.221699</td>\n",
       "      <td>3.567327</td>\n",
       "    </tr>\n",
       "    <tr>\n",
       "      <th>min</th>\n",
       "      <td>18.000000</td>\n",
       "      <td>1.000000</td>\n",
       "      <td>1.000000</td>\n",
       "      <td>1.0</td>\n",
       "      <td>1.000000</td>\n",
       "      <td>1.000000</td>\n",
       "      <td>10090.000000</td>\n",
       "      <td>0.000000</td>\n",
       "      <td>11.000000</td>\n",
       "      <td>8.0</td>\n",
       "      <td>0.000000</td>\n",
       "      <td>0.000000</td>\n",
       "      <td>0.000000</td>\n",
       "      <td>0.000000</td>\n",
       "      <td>0.000000</td>\n",
       "      <td>0.000000</td>\n",
       "    </tr>\n",
       "    <tr>\n",
       "      <th>25%</th>\n",
       "      <td>30.000000</td>\n",
       "      <td>2.000000</td>\n",
       "      <td>2.000000</td>\n",
       "      <td>1.0</td>\n",
       "      <td>1103.250000</td>\n",
       "      <td>1.000000</td>\n",
       "      <td>29110.000000</td>\n",
       "      <td>1.000000</td>\n",
       "      <td>12.000000</td>\n",
       "      <td>8.0</td>\n",
       "      <td>0.000000</td>\n",
       "      <td>6.000000</td>\n",
       "      <td>2.000000</td>\n",
       "      <td>3.000000</td>\n",
       "      <td>0.000000</td>\n",
       "      <td>2.000000</td>\n",
       "    </tr>\n",
       "    <tr>\n",
       "      <th>50%</th>\n",
       "      <td>36.000000</td>\n",
       "      <td>7.000000</td>\n",
       "      <td>3.000000</td>\n",
       "      <td>1.0</td>\n",
       "      <td>2205.500000</td>\n",
       "      <td>2.000000</td>\n",
       "      <td>49190.000000</td>\n",
       "      <td>2.000000</td>\n",
       "      <td>14.000000</td>\n",
       "      <td>8.0</td>\n",
       "      <td>1.000000</td>\n",
       "      <td>10.000000</td>\n",
       "      <td>3.000000</td>\n",
       "      <td>5.000000</td>\n",
       "      <td>1.000000</td>\n",
       "      <td>3.000000</td>\n",
       "    </tr>\n",
       "    <tr>\n",
       "      <th>75%</th>\n",
       "      <td>43.000000</td>\n",
       "      <td>14.000000</td>\n",
       "      <td>4.000000</td>\n",
       "      <td>1.0</td>\n",
       "      <td>3307.750000</td>\n",
       "      <td>3.000000</td>\n",
       "      <td>83800.000000</td>\n",
       "      <td>4.000000</td>\n",
       "      <td>18.000000</td>\n",
       "      <td>8.0</td>\n",
       "      <td>1.000000</td>\n",
       "      <td>15.000000</td>\n",
       "      <td>3.000000</td>\n",
       "      <td>9.000000</td>\n",
       "      <td>3.000000</td>\n",
       "      <td>7.000000</td>\n",
       "    </tr>\n",
       "    <tr>\n",
       "      <th>max</th>\n",
       "      <td>60.000000</td>\n",
       "      <td>29.000000</td>\n",
       "      <td>5.000000</td>\n",
       "      <td>1.0</td>\n",
       "      <td>4410.000000</td>\n",
       "      <td>5.000000</td>\n",
       "      <td>199990.000000</td>\n",
       "      <td>9.000000</td>\n",
       "      <td>25.000000</td>\n",
       "      <td>8.0</td>\n",
       "      <td>3.000000</td>\n",
       "      <td>40.000000</td>\n",
       "      <td>6.000000</td>\n",
       "      <td>40.000000</td>\n",
       "      <td>15.000000</td>\n",
       "      <td>17.000000</td>\n",
       "    </tr>\n",
       "  </tbody>\n",
       "</table>\n",
       "</div>"
      ],
      "text/plain": [
       "               Age  DistanceFromHome    Education  EmployeeCount   EmployeeID  \\\n",
       "count  4410.000000       4410.000000  4410.000000         4410.0  4410.000000   \n",
       "mean     36.923810          9.192517     2.912925            1.0  2205.500000   \n",
       "std       9.133301          8.105026     1.023933            0.0  1273.201673   \n",
       "min      18.000000          1.000000     1.000000            1.0     1.000000   \n",
       "25%      30.000000          2.000000     2.000000            1.0  1103.250000   \n",
       "50%      36.000000          7.000000     3.000000            1.0  2205.500000   \n",
       "75%      43.000000         14.000000     4.000000            1.0  3307.750000   \n",
       "max      60.000000         29.000000     5.000000            1.0  4410.000000   \n",
       "\n",
       "          JobLevel  MonthlyIncome  NumCompaniesWorked  PercentSalaryHike  \\\n",
       "count  4410.000000    4410.000000         4391.000000        4410.000000   \n",
       "mean      2.063946   65029.312925            2.694830          15.209524   \n",
       "std       1.106689   47068.888559            2.498887           3.659108   \n",
       "min       1.000000   10090.000000            0.000000          11.000000   \n",
       "25%       1.000000   29110.000000            1.000000          12.000000   \n",
       "50%       2.000000   49190.000000            2.000000          14.000000   \n",
       "75%       3.000000   83800.000000            4.000000          18.000000   \n",
       "max       5.000000  199990.000000            9.000000          25.000000   \n",
       "\n",
       "       StandardHours  StockOptionLevel  TotalWorkingYears  \\\n",
       "count         4410.0       4410.000000        4401.000000   \n",
       "mean             8.0          0.793878          11.279936   \n",
       "std              0.0          0.851883           7.782222   \n",
       "min              8.0          0.000000           0.000000   \n",
       "25%              8.0          0.000000           6.000000   \n",
       "50%              8.0          1.000000          10.000000   \n",
       "75%              8.0          1.000000          15.000000   \n",
       "max              8.0          3.000000          40.000000   \n",
       "\n",
       "       TrainingTimesLastYear  YearsAtCompany  YearsSinceLastPromotion  \\\n",
       "count            4410.000000     4410.000000              4410.000000   \n",
       "mean                2.799320        7.008163                 2.187755   \n",
       "std                 1.288978        6.125135                 3.221699   \n",
       "min                 0.000000        0.000000                 0.000000   \n",
       "25%                 2.000000        3.000000                 0.000000   \n",
       "50%                 3.000000        5.000000                 1.000000   \n",
       "75%                 3.000000        9.000000                 3.000000   \n",
       "max                 6.000000       40.000000                15.000000   \n",
       "\n",
       "       YearsWithCurrManager  \n",
       "count           4410.000000  \n",
       "mean               4.123129  \n",
       "std                3.567327  \n",
       "min                0.000000  \n",
       "25%                2.000000  \n",
       "50%                3.000000  \n",
       "75%                7.000000  \n",
       "max               17.000000  "
      ]
     },
     "execution_count": 4,
     "metadata": {},
     "output_type": "execute_result"
    }
   ],
   "source": [
    "df.describe()"
   ]
  },
  {
   "cell_type": "code",
   "execution_count": 5,
   "metadata": {},
   "outputs": [],
   "source": [
    "# Filling NA with mean of that column\n",
    "df['TotalWorkingYears'] = df['TotalWorkingYears'].fillna(11.28)"
   ]
  },
  {
   "cell_type": "code",
   "execution_count": 6,
   "metadata": {},
   "outputs": [
    {
     "data": {
      "text/plain": [
       "Age                         0\n",
       "Attrition                   0\n",
       "BusinessTravel              0\n",
       "Department                  0\n",
       "DistanceFromHome            0\n",
       "Education                   0\n",
       "EducationField              0\n",
       "EmployeeCount               0\n",
       "EmployeeID                  0\n",
       "Gender                      0\n",
       "JobLevel                    0\n",
       "JobRole                     0\n",
       "MaritalStatus               0\n",
       "MonthlyIncome               0\n",
       "NumCompaniesWorked         19\n",
       "Over18                      0\n",
       "PercentSalaryHike           0\n",
       "StandardHours               0\n",
       "StockOptionLevel            0\n",
       "TotalWorkingYears           0\n",
       "TrainingTimesLastYear       0\n",
       "YearsAtCompany              0\n",
       "YearsSinceLastPromotion     0\n",
       "YearsWithCurrManager        0\n",
       "dtype: int64"
      ]
     },
     "execution_count": 6,
     "metadata": {},
     "output_type": "execute_result"
    }
   ],
   "source": [
    "df.isnull().sum()"
   ]
  },
  {
   "cell_type": "code",
   "execution_count": 7,
   "metadata": {},
   "outputs": [
    {
     "data": {
      "text/plain": [
       "0       False\n",
       "1       False\n",
       "2       False\n",
       "3       False\n",
       "4       False\n",
       "        ...  \n",
       "4405    False\n",
       "4406    False\n",
       "4407    False\n",
       "4408    False\n",
       "4409    False\n",
       "Length: 4410, dtype: bool"
      ]
     },
     "execution_count": 7,
     "metadata": {},
     "output_type": "execute_result"
    }
   ],
   "source": [
    "df.duplicated()"
   ]
  },
  {
   "cell_type": "code",
   "execution_count": 8,
   "metadata": {},
   "outputs": [],
   "source": [
    "df = df.drop_duplicates()"
   ]
  },
  {
   "cell_type": "code",
   "execution_count": 9,
   "metadata": {},
   "outputs": [
    {
     "data": {
      "text/html": [
       "<div>\n",
       "<style scoped>\n",
       "    .dataframe tbody tr th:only-of-type {\n",
       "        vertical-align: middle;\n",
       "    }\n",
       "\n",
       "    .dataframe tbody tr th {\n",
       "        vertical-align: top;\n",
       "    }\n",
       "\n",
       "    .dataframe thead th {\n",
       "        text-align: right;\n",
       "    }\n",
       "</style>\n",
       "<table border=\"1\" class=\"dataframe\">\n",
       "  <thead>\n",
       "    <tr style=\"text-align: right;\">\n",
       "      <th></th>\n",
       "      <th>Age</th>\n",
       "      <th>DistanceFromHome</th>\n",
       "      <th>Education</th>\n",
       "      <th>EmployeeCount</th>\n",
       "      <th>EmployeeID</th>\n",
       "      <th>JobLevel</th>\n",
       "      <th>MonthlyIncome</th>\n",
       "      <th>NumCompaniesWorked</th>\n",
       "      <th>PercentSalaryHike</th>\n",
       "      <th>StandardHours</th>\n",
       "      <th>StockOptionLevel</th>\n",
       "      <th>TotalWorkingYears</th>\n",
       "      <th>TrainingTimesLastYear</th>\n",
       "      <th>YearsAtCompany</th>\n",
       "      <th>YearsSinceLastPromotion</th>\n",
       "      <th>YearsWithCurrManager</th>\n",
       "    </tr>\n",
       "  </thead>\n",
       "  <tbody>\n",
       "    <tr>\n",
       "      <th>count</th>\n",
       "      <td>4410.000000</td>\n",
       "      <td>4410.000000</td>\n",
       "      <td>4410.000000</td>\n",
       "      <td>4410.0</td>\n",
       "      <td>4410.000000</td>\n",
       "      <td>4410.000000</td>\n",
       "      <td>4410.000000</td>\n",
       "      <td>4391.000000</td>\n",
       "      <td>4410.000000</td>\n",
       "      <td>4410.0</td>\n",
       "      <td>4410.000000</td>\n",
       "      <td>4410.000000</td>\n",
       "      <td>4410.000000</td>\n",
       "      <td>4410.000000</td>\n",
       "      <td>4410.000000</td>\n",
       "      <td>4410.000000</td>\n",
       "    </tr>\n",
       "    <tr>\n",
       "      <th>mean</th>\n",
       "      <td>36.923810</td>\n",
       "      <td>9.192517</td>\n",
       "      <td>2.912925</td>\n",
       "      <td>1.0</td>\n",
       "      <td>2205.500000</td>\n",
       "      <td>2.063946</td>\n",
       "      <td>65029.312925</td>\n",
       "      <td>2.694830</td>\n",
       "      <td>15.209524</td>\n",
       "      <td>8.0</td>\n",
       "      <td>0.793878</td>\n",
       "      <td>11.279937</td>\n",
       "      <td>2.799320</td>\n",
       "      <td>7.008163</td>\n",
       "      <td>2.187755</td>\n",
       "      <td>4.123129</td>\n",
       "    </tr>\n",
       "    <tr>\n",
       "      <th>std</th>\n",
       "      <td>9.133301</td>\n",
       "      <td>8.105026</td>\n",
       "      <td>1.023933</td>\n",
       "      <td>0.0</td>\n",
       "      <td>1273.201673</td>\n",
       "      <td>1.106689</td>\n",
       "      <td>47068.888559</td>\n",
       "      <td>2.498887</td>\n",
       "      <td>3.659108</td>\n",
       "      <td>0.0</td>\n",
       "      <td>0.851883</td>\n",
       "      <td>7.774275</td>\n",
       "      <td>1.288978</td>\n",
       "      <td>6.125135</td>\n",
       "      <td>3.221699</td>\n",
       "      <td>3.567327</td>\n",
       "    </tr>\n",
       "    <tr>\n",
       "      <th>min</th>\n",
       "      <td>18.000000</td>\n",
       "      <td>1.000000</td>\n",
       "      <td>1.000000</td>\n",
       "      <td>1.0</td>\n",
       "      <td>1.000000</td>\n",
       "      <td>1.000000</td>\n",
       "      <td>10090.000000</td>\n",
       "      <td>0.000000</td>\n",
       "      <td>11.000000</td>\n",
       "      <td>8.0</td>\n",
       "      <td>0.000000</td>\n",
       "      <td>0.000000</td>\n",
       "      <td>0.000000</td>\n",
       "      <td>0.000000</td>\n",
       "      <td>0.000000</td>\n",
       "      <td>0.000000</td>\n",
       "    </tr>\n",
       "    <tr>\n",
       "      <th>25%</th>\n",
       "      <td>30.000000</td>\n",
       "      <td>2.000000</td>\n",
       "      <td>2.000000</td>\n",
       "      <td>1.0</td>\n",
       "      <td>1103.250000</td>\n",
       "      <td>1.000000</td>\n",
       "      <td>29110.000000</td>\n",
       "      <td>1.000000</td>\n",
       "      <td>12.000000</td>\n",
       "      <td>8.0</td>\n",
       "      <td>0.000000</td>\n",
       "      <td>6.000000</td>\n",
       "      <td>2.000000</td>\n",
       "      <td>3.000000</td>\n",
       "      <td>0.000000</td>\n",
       "      <td>2.000000</td>\n",
       "    </tr>\n",
       "    <tr>\n",
       "      <th>50%</th>\n",
       "      <td>36.000000</td>\n",
       "      <td>7.000000</td>\n",
       "      <td>3.000000</td>\n",
       "      <td>1.0</td>\n",
       "      <td>2205.500000</td>\n",
       "      <td>2.000000</td>\n",
       "      <td>49190.000000</td>\n",
       "      <td>2.000000</td>\n",
       "      <td>14.000000</td>\n",
       "      <td>8.0</td>\n",
       "      <td>1.000000</td>\n",
       "      <td>10.000000</td>\n",
       "      <td>3.000000</td>\n",
       "      <td>5.000000</td>\n",
       "      <td>1.000000</td>\n",
       "      <td>3.000000</td>\n",
       "    </tr>\n",
       "    <tr>\n",
       "      <th>75%</th>\n",
       "      <td>43.000000</td>\n",
       "      <td>14.000000</td>\n",
       "      <td>4.000000</td>\n",
       "      <td>1.0</td>\n",
       "      <td>3307.750000</td>\n",
       "      <td>3.000000</td>\n",
       "      <td>83800.000000</td>\n",
       "      <td>4.000000</td>\n",
       "      <td>18.000000</td>\n",
       "      <td>8.0</td>\n",
       "      <td>1.000000</td>\n",
       "      <td>15.000000</td>\n",
       "      <td>3.000000</td>\n",
       "      <td>9.000000</td>\n",
       "      <td>3.000000</td>\n",
       "      <td>7.000000</td>\n",
       "    </tr>\n",
       "    <tr>\n",
       "      <th>max</th>\n",
       "      <td>60.000000</td>\n",
       "      <td>29.000000</td>\n",
       "      <td>5.000000</td>\n",
       "      <td>1.0</td>\n",
       "      <td>4410.000000</td>\n",
       "      <td>5.000000</td>\n",
       "      <td>199990.000000</td>\n",
       "      <td>9.000000</td>\n",
       "      <td>25.000000</td>\n",
       "      <td>8.0</td>\n",
       "      <td>3.000000</td>\n",
       "      <td>40.000000</td>\n",
       "      <td>6.000000</td>\n",
       "      <td>40.000000</td>\n",
       "      <td>15.000000</td>\n",
       "      <td>17.000000</td>\n",
       "    </tr>\n",
       "  </tbody>\n",
       "</table>\n",
       "</div>"
      ],
      "text/plain": [
       "               Age  DistanceFromHome    Education  EmployeeCount   EmployeeID  \\\n",
       "count  4410.000000       4410.000000  4410.000000         4410.0  4410.000000   \n",
       "mean     36.923810          9.192517     2.912925            1.0  2205.500000   \n",
       "std       9.133301          8.105026     1.023933            0.0  1273.201673   \n",
       "min      18.000000          1.000000     1.000000            1.0     1.000000   \n",
       "25%      30.000000          2.000000     2.000000            1.0  1103.250000   \n",
       "50%      36.000000          7.000000     3.000000            1.0  2205.500000   \n",
       "75%      43.000000         14.000000     4.000000            1.0  3307.750000   \n",
       "max      60.000000         29.000000     5.000000            1.0  4410.000000   \n",
       "\n",
       "          JobLevel  MonthlyIncome  NumCompaniesWorked  PercentSalaryHike  \\\n",
       "count  4410.000000    4410.000000         4391.000000        4410.000000   \n",
       "mean      2.063946   65029.312925            2.694830          15.209524   \n",
       "std       1.106689   47068.888559            2.498887           3.659108   \n",
       "min       1.000000   10090.000000            0.000000          11.000000   \n",
       "25%       1.000000   29110.000000            1.000000          12.000000   \n",
       "50%       2.000000   49190.000000            2.000000          14.000000   \n",
       "75%       3.000000   83800.000000            4.000000          18.000000   \n",
       "max       5.000000  199990.000000            9.000000          25.000000   \n",
       "\n",
       "       StandardHours  StockOptionLevel  TotalWorkingYears  \\\n",
       "count         4410.0       4410.000000        4410.000000   \n",
       "mean             8.0          0.793878          11.279937   \n",
       "std              0.0          0.851883           7.774275   \n",
       "min              8.0          0.000000           0.000000   \n",
       "25%              8.0          0.000000           6.000000   \n",
       "50%              8.0          1.000000          10.000000   \n",
       "75%              8.0          1.000000          15.000000   \n",
       "max              8.0          3.000000          40.000000   \n",
       "\n",
       "       TrainingTimesLastYear  YearsAtCompany  YearsSinceLastPromotion  \\\n",
       "count            4410.000000     4410.000000              4410.000000   \n",
       "mean                2.799320        7.008163                 2.187755   \n",
       "std                 1.288978        6.125135                 3.221699   \n",
       "min                 0.000000        0.000000                 0.000000   \n",
       "25%                 2.000000        3.000000                 0.000000   \n",
       "50%                 3.000000        5.000000                 1.000000   \n",
       "75%                 3.000000        9.000000                 3.000000   \n",
       "max                 6.000000       40.000000                15.000000   \n",
       "\n",
       "       YearsWithCurrManager  \n",
       "count           4410.000000  \n",
       "mean               4.123129  \n",
       "std                3.567327  \n",
       "min                0.000000  \n",
       "25%                2.000000  \n",
       "50%                3.000000  \n",
       "75%                7.000000  \n",
       "max               17.000000  "
      ]
     },
     "execution_count": 9,
     "metadata": {},
     "output_type": "execute_result"
    }
   ],
   "source": [
    "df.describe()"
   ]
  },
  {
   "cell_type": "code",
   "execution_count": 10,
   "metadata": {},
   "outputs": [
    {
     "data": {
      "text/plain": [
       "Index(['Age', 'Attrition', 'BusinessTravel', 'Department', 'DistanceFromHome',\n",
       "       'Education', 'EducationField', 'EmployeeCount', 'EmployeeID', 'Gender',\n",
       "       'JobLevel', 'JobRole', 'MaritalStatus', 'MonthlyIncome',\n",
       "       'NumCompaniesWorked', 'Over18', 'PercentSalaryHike', 'StandardHours',\n",
       "       'StockOptionLevel', 'TotalWorkingYears', 'TrainingTimesLastYear',\n",
       "       'YearsAtCompany', 'YearsSinceLastPromotion', 'YearsWithCurrManager'],\n",
       "      dtype='object')"
      ]
     },
     "execution_count": 10,
     "metadata": {},
     "output_type": "execute_result"
    }
   ],
   "source": [
    "df.columns"
   ]
  },
  {
   "cell_type": "code",
   "execution_count": 11,
   "metadata": {},
   "outputs": [
    {
     "data": {
      "text/plain": [
       "Age                           36.0\n",
       "DistanceFromHome               7.0\n",
       "Education                      3.0\n",
       "MonthlyIncome              49190.0\n",
       "NumCompaniesWorked             2.0\n",
       "PercentSalaryHike             14.0\n",
       "TotalWorkingYears             10.0\n",
       "TrainingTimesLastYear          3.0\n",
       "YearsAtCompany                 5.0\n",
       "YearsSinceLastPromotion        1.0\n",
       "YearsWithCurrManager           3.0\n",
       "dtype: float64"
      ]
     },
     "execution_count": 11,
     "metadata": {},
     "output_type": "execute_result"
    }
   ],
   "source": [
    "df[['Age', 'DistanceFromHome','Education', 'MonthlyIncome',\n",
    "    'NumCompaniesWorked', 'PercentSalaryHike',\n",
    "    'TotalWorkingYears', 'TrainingTimesLastYear',\n",
    "       'YearsAtCompany', 'YearsSinceLastPromotion',\n",
    "    'YearsWithCurrManager']].median()"
   ]
  },
  {
   "cell_type": "code",
   "execution_count": 12,
   "metadata": {},
   "outputs": [
    {
     "data": {
      "text/html": [
       "<div>\n",
       "<style scoped>\n",
       "    .dataframe tbody tr th:only-of-type {\n",
       "        vertical-align: middle;\n",
       "    }\n",
       "\n",
       "    .dataframe tbody tr th {\n",
       "        vertical-align: top;\n",
       "    }\n",
       "\n",
       "    .dataframe thead th {\n",
       "        text-align: right;\n",
       "    }\n",
       "</style>\n",
       "<table border=\"1\" class=\"dataframe\">\n",
       "  <thead>\n",
       "    <tr style=\"text-align: right;\">\n",
       "      <th></th>\n",
       "      <th>Age</th>\n",
       "      <th>DistanceFromHome</th>\n",
       "      <th>Education</th>\n",
       "      <th>MonthlyIncome</th>\n",
       "      <th>NumCompaniesWorked</th>\n",
       "      <th>PercentSalaryHike</th>\n",
       "      <th>TotalWorkingYears</th>\n",
       "      <th>TrainingTimesLastYear</th>\n",
       "      <th>YearsAtCompany</th>\n",
       "      <th>YearsSinceLastPromotion</th>\n",
       "      <th>YearsWithCurrManager</th>\n",
       "    </tr>\n",
       "  </thead>\n",
       "  <tbody>\n",
       "    <tr>\n",
       "      <th>0</th>\n",
       "      <td>35</td>\n",
       "      <td>2</td>\n",
       "      <td>3</td>\n",
       "      <td>23420</td>\n",
       "      <td>1.0</td>\n",
       "      <td>11</td>\n",
       "      <td>10.0</td>\n",
       "      <td>2</td>\n",
       "      <td>5</td>\n",
       "      <td>0</td>\n",
       "      <td>2</td>\n",
       "    </tr>\n",
       "  </tbody>\n",
       "</table>\n",
       "</div>"
      ],
      "text/plain": [
       "   Age  DistanceFromHome  Education  MonthlyIncome  NumCompaniesWorked  \\\n",
       "0   35                 2          3          23420                 1.0   \n",
       "\n",
       "   PercentSalaryHike  TotalWorkingYears  TrainingTimesLastYear  \\\n",
       "0                 11               10.0                      2   \n",
       "\n",
       "   YearsAtCompany  YearsSinceLastPromotion  YearsWithCurrManager  \n",
       "0               5                        0                     2  "
      ]
     },
     "execution_count": 12,
     "metadata": {},
     "output_type": "execute_result"
    }
   ],
   "source": [
    "df[['Age', 'DistanceFromHome','Education', 'MonthlyIncome',\n",
    "    'NumCompaniesWorked', 'PercentSalaryHike',\n",
    "    'TotalWorkingYears', 'TrainingTimesLastYear',\n",
    "       'YearsAtCompany', 'YearsSinceLastPromotion',\n",
    "    'YearsWithCurrManager']].mode()"
   ]
  },
  {
   "cell_type": "code",
   "execution_count": 13,
   "metadata": {},
   "outputs": [
    {
     "data": {
      "text/plain": [
       "Age                        8.341719e+01\n",
       "DistanceFromHome           6.569144e+01\n",
       "Education                  1.048438e+00\n",
       "MonthlyIncome              2.215480e+09\n",
       "NumCompaniesWorked         6.244436e+00\n",
       "PercentSalaryHike          1.338907e+01\n",
       "TotalWorkingYears          6.043936e+01\n",
       "TrainingTimesLastYear      1.661465e+00\n",
       "YearsAtCompany             3.751728e+01\n",
       "YearsSinceLastPromotion    1.037935e+01\n",
       "YearsWithCurrManager       1.272582e+01\n",
       "dtype: float64"
      ]
     },
     "execution_count": 13,
     "metadata": {},
     "output_type": "execute_result"
    }
   ],
   "source": [
    "df[['Age', 'DistanceFromHome','Education', 'MonthlyIncome',\n",
    "    'NumCompaniesWorked', 'PercentSalaryHike',\n",
    "    'TotalWorkingYears', 'TrainingTimesLastYear',\n",
    "       'YearsAtCompany', 'YearsSinceLastPromotion',\n",
    "    'YearsWithCurrManager']].var()"
   ]
  },
  {
   "cell_type": "code",
   "execution_count": 14,
   "metadata": {},
   "outputs": [
    {
     "data": {
      "text/plain": [
       "Age                        0.413005\n",
       "DistanceFromHome           0.957466\n",
       "Education                 -0.289484\n",
       "MonthlyIncome              1.368884\n",
       "NumCompaniesWorked         1.026767\n",
       "PercentSalaryHike          0.820569\n",
       "TotalWorkingYears          1.117972\n",
       "TrainingTimesLastYear      0.552748\n",
       "YearsAtCompany             1.763328\n",
       "YearsSinceLastPromotion    1.982939\n",
       "YearsWithCurrManager       0.832884\n",
       "dtype: float64"
      ]
     },
     "execution_count": 14,
     "metadata": {},
     "output_type": "execute_result"
    }
   ],
   "source": [
    "df[['Age', 'DistanceFromHome','Education', 'MonthlyIncome',\n",
    "    'NumCompaniesWorked', 'PercentSalaryHike',\n",
    "    'TotalWorkingYears', 'TrainingTimesLastYear',\n",
    "       'YearsAtCompany', 'YearsSinceLastPromotion',\n",
    "    'YearsWithCurrManager']].skew()"
   ]
  },
  {
   "cell_type": "code",
   "execution_count": 15,
   "metadata": {},
   "outputs": [
    {
     "data": {
      "text/plain": [
       "Age                       -0.405951\n",
       "DistanceFromHome          -0.227045\n",
       "Education                 -0.560569\n",
       "MonthlyIncome              1.000232\n",
       "NumCompaniesWorked         0.007287\n",
       "PercentSalaryHike         -0.302638\n",
       "TotalWorkingYears          0.920937\n",
       "TrainingTimesLastYear      0.491149\n",
       "YearsAtCompany             3.923864\n",
       "YearsSinceLastPromotion    3.601761\n",
       "YearsWithCurrManager       0.167949\n",
       "dtype: float64"
      ]
     },
     "execution_count": 15,
     "metadata": {},
     "output_type": "execute_result"
    }
   ],
   "source": [
    "df[['Age', 'DistanceFromHome','Education', 'MonthlyIncome',\n",
    "    'NumCompaniesWorked', 'PercentSalaryHike',\n",
    "    'TotalWorkingYears', 'TrainingTimesLastYear',\n",
    "       'YearsAtCompany', 'YearsSinceLastPromotion',\n",
    "    'YearsWithCurrManager']].kurt()"
   ]
  },
  {
   "cell_type": "markdown",
   "metadata": {},
   "source": [
    "### Inference from above results\n",
    "- All variables from above show positive skewness other than education.\n",
    "- Age, DistanceFromHome, Education, PercentSalaryHike are leptokurtic and other variables are platykurtic."
   ]
  },
  {
   "cell_type": "code",
   "execution_count": 40,
   "metadata": {},
   "outputs": [
    {
     "data": {
      "text/plain": [
       "<matplotlib.axes._subplots.AxesSubplot at 0x7fdee1ce9e10>"
      ]
     },
     "execution_count": 40,
     "metadata": {},
     "output_type": "execute_result"
    },
    {
     "data": {
      "image/png": "[encoded data removed]",
      "text/plain": [
       "<Figure size 432x288 with 1 Axes>"
      ]
     },
     "metadata": {
      "needs_background": "light"
     },
     "output_type": "display_data"
    }
   ],
   "source": [
    "sns.boxplot(df.Age)"
   ]
  },
  {
   "cell_type": "markdown",
   "metadata": {},
   "source": [
    "- Age is normally distributed"
   ]
  },
  {
   "cell_type": "code",
   "execution_count": 41,
   "metadata": {},
   "outputs": [
    {
     "data": {
      "text/plain": [
       "<matplotlib.axes._subplots.AxesSubplot at 0x7fdee1e10f10>"
      ]
     },
     "execution_count": 41,
     "metadata": {},
     "output_type": "execute_result"
    },
    {
     "data": {
      "image/png": "[encoded data removed]",
      "text/plain": [
       "<Figure size 432x288 with 1 Axes>"
      ]
     },
     "metadata": {
      "needs_background": "light"
     },
     "output_type": "display_data"
    }
   ],
   "source": [
    "sns.boxplot(df.MonthlyIncome)"
   ]
  },
  {
   "cell_type": "markdown",
   "metadata": {},
   "source": [
    "- MonthyIncome is right skewed with multiple outliers"
   ]
  },
  {
   "cell_type": "code",
   "execution_count": 42,
   "metadata": {},
   "outputs": [
    {
     "data": {
      "text/plain": [
       "<matplotlib.axes._subplots.AxesSubplot at 0x7fdee1c7dcd0>"
      ]
     },
     "execution_count": 42,
     "metadata": {},
     "output_type": "execute_result"
    },
    {
     "data": {
      "image/png": "[encoded data removed]",
      "text/plain": [
       "<Figure size 432x288 with 1 Axes>"
      ]
     },
     "metadata": {
      "needs_background": "light"
     },
     "output_type": "display_data"
    }
   ],
   "source": [
    "sns.boxplot(df.YearsAtCompany)"
   ]
  },
  {
   "cell_type": "markdown",
   "metadata": {},
   "source": [
    "- YearsAtCompany is right skewed with several outliers"
   ]
  },
  {
   "cell_type": "code",
   "execution_count": 19,
   "metadata": {},
   "outputs": [],
   "source": [
    "df_yes = df[df['Attrition'] == 'Yes']\n",
    "df_no = df[df['Attrition'] == 'No']"
   ]
  },
  {
   "cell_type": "code",
   "execution_count": 20,
   "metadata": {},
   "outputs": [
    {
     "data": {
      "text/html": [
       "<div>\n",
       "<style scoped>\n",
       "    .dataframe tbody tr th:only-of-type {\n",
       "        vertical-align: middle;\n",
       "    }\n",
       "\n",
       "    .dataframe tbody tr th {\n",
       "        vertical-align: top;\n",
       "    }\n",
       "\n",
       "    .dataframe thead th {\n",
       "        text-align: right;\n",
       "    }\n",
       "</style>\n",
       "<table border=\"1\" class=\"dataframe\">\n",
       "  <thead>\n",
       "    <tr style=\"text-align: right;\">\n",
       "      <th></th>\n",
       "      <th>Age</th>\n",
       "      <th>Attrition</th>\n",
       "      <th>BusinessTravel</th>\n",
       "      <th>Department</th>\n",
       "      <th>DistanceFromHome</th>\n",
       "      <th>Education</th>\n",
       "      <th>EducationField</th>\n",
       "      <th>EmployeeCount</th>\n",
       "      <th>EmployeeID</th>\n",
       "      <th>Gender</th>\n",
       "      <th>...</th>\n",
       "      <th>NumCompaniesWorked</th>\n",
       "      <th>Over18</th>\n",
       "      <th>PercentSalaryHike</th>\n",
       "      <th>StandardHours</th>\n",
       "      <th>StockOptionLevel</th>\n",
       "      <th>TotalWorkingYears</th>\n",
       "      <th>TrainingTimesLastYear</th>\n",
       "      <th>YearsAtCompany</th>\n",
       "      <th>YearsSinceLastPromotion</th>\n",
       "      <th>YearsWithCurrManager</th>\n",
       "    </tr>\n",
       "  </thead>\n",
       "  <tbody>\n",
       "    <tr>\n",
       "      <th>1</th>\n",
       "      <td>31</td>\n",
       "      <td>Yes</td>\n",
       "      <td>Travel_Frequently</td>\n",
       "      <td>Research &amp; Development</td>\n",
       "      <td>10</td>\n",
       "      <td>1</td>\n",
       "      <td>Life Sciences</td>\n",
       "      <td>1</td>\n",
       "      <td>2</td>\n",
       "      <td>Female</td>\n",
       "      <td>...</td>\n",
       "      <td>0.0</td>\n",
       "      <td>Y</td>\n",
       "      <td>23</td>\n",
       "      <td>8</td>\n",
       "      <td>1</td>\n",
       "      <td>6.0</td>\n",
       "      <td>3</td>\n",
       "      <td>5</td>\n",
       "      <td>1</td>\n",
       "      <td>4</td>\n",
       "    </tr>\n",
       "    <tr>\n",
       "      <th>6</th>\n",
       "      <td>28</td>\n",
       "      <td>Yes</td>\n",
       "      <td>Travel_Rarely</td>\n",
       "      <td>Research &amp; Development</td>\n",
       "      <td>11</td>\n",
       "      <td>2</td>\n",
       "      <td>Medical</td>\n",
       "      <td>1</td>\n",
       "      <td>7</td>\n",
       "      <td>Male</td>\n",
       "      <td>...</td>\n",
       "      <td>2.0</td>\n",
       "      <td>Y</td>\n",
       "      <td>20</td>\n",
       "      <td>8</td>\n",
       "      <td>1</td>\n",
       "      <td>5.0</td>\n",
       "      <td>2</td>\n",
       "      <td>0</td>\n",
       "      <td>0</td>\n",
       "      <td>0</td>\n",
       "    </tr>\n",
       "    <tr>\n",
       "      <th>13</th>\n",
       "      <td>47</td>\n",
       "      <td>Yes</td>\n",
       "      <td>Non-Travel</td>\n",
       "      <td>Research &amp; Development</td>\n",
       "      <td>1</td>\n",
       "      <td>1</td>\n",
       "      <td>Medical</td>\n",
       "      <td>1</td>\n",
       "      <td>14</td>\n",
       "      <td>Male</td>\n",
       "      <td>...</td>\n",
       "      <td>1.0</td>\n",
       "      <td>Y</td>\n",
       "      <td>11</td>\n",
       "      <td>8</td>\n",
       "      <td>2</td>\n",
       "      <td>10.0</td>\n",
       "      <td>4</td>\n",
       "      <td>10</td>\n",
       "      <td>9</td>\n",
       "      <td>9</td>\n",
       "    </tr>\n",
       "    <tr>\n",
       "      <th>28</th>\n",
       "      <td>44</td>\n",
       "      <td>Yes</td>\n",
       "      <td>Travel_Frequently</td>\n",
       "      <td>Research &amp; Development</td>\n",
       "      <td>1</td>\n",
       "      <td>2</td>\n",
       "      <td>Medical</td>\n",
       "      <td>1</td>\n",
       "      <td>29</td>\n",
       "      <td>Male</td>\n",
       "      <td>...</td>\n",
       "      <td>3.0</td>\n",
       "      <td>Y</td>\n",
       "      <td>14</td>\n",
       "      <td>8</td>\n",
       "      <td>1</td>\n",
       "      <td>19.0</td>\n",
       "      <td>2</td>\n",
       "      <td>1</td>\n",
       "      <td>0</td>\n",
       "      <td>0</td>\n",
       "    </tr>\n",
       "    <tr>\n",
       "      <th>30</th>\n",
       "      <td>26</td>\n",
       "      <td>Yes</td>\n",
       "      <td>Travel_Rarely</td>\n",
       "      <td>Research &amp; Development</td>\n",
       "      <td>4</td>\n",
       "      <td>3</td>\n",
       "      <td>Medical</td>\n",
       "      <td>1</td>\n",
       "      <td>31</td>\n",
       "      <td>Male</td>\n",
       "      <td>...</td>\n",
       "      <td>2.0</td>\n",
       "      <td>Y</td>\n",
       "      <td>11</td>\n",
       "      <td>8</td>\n",
       "      <td>0</td>\n",
       "      <td>5.0</td>\n",
       "      <td>5</td>\n",
       "      <td>3</td>\n",
       "      <td>0</td>\n",
       "      <td>2</td>\n",
       "    </tr>\n",
       "  </tbody>\n",
       "</table>\n",
       "<p>5 rows × 24 columns</p>\n",
       "</div>"
      ],
      "text/plain": [
       "    Age Attrition     BusinessTravel              Department  \\\n",
       "1    31       Yes  Travel_Frequently  Research & Development   \n",
       "6    28       Yes      Travel_Rarely  Research & Development   \n",
       "13   47       Yes         Non-Travel  Research & Development   \n",
       "28   44       Yes  Travel_Frequently  Research & Development   \n",
       "30   26       Yes      Travel_Rarely  Research & Development   \n",
       "\n",
       "    DistanceFromHome  Education EducationField  EmployeeCount  EmployeeID  \\\n",
       "1                 10          1  Life Sciences              1           2   \n",
       "6                 11          2        Medical              1           7   \n",
       "13                 1          1        Medical              1          14   \n",
       "28                 1          2        Medical              1          29   \n",
       "30                 4          3        Medical              1          31   \n",
       "\n",
       "    Gender  ...  NumCompaniesWorked Over18 PercentSalaryHike  StandardHours  \\\n",
       "1   Female  ...                 0.0      Y                23              8   \n",
       "6     Male  ...                 2.0      Y                20              8   \n",
       "13    Male  ...                 1.0      Y                11              8   \n",
       "28    Male  ...                 3.0      Y                14              8   \n",
       "30    Male  ...                 2.0      Y                11              8   \n",
       "\n",
       "    StockOptionLevel TotalWorkingYears  TrainingTimesLastYear  YearsAtCompany  \\\n",
       "1                  1               6.0                      3               5   \n",
       "6                  1               5.0                      2               0   \n",
       "13                 2              10.0                      4              10   \n",
       "28                 1              19.0                      2               1   \n",
       "30                 0               5.0                      5               3   \n",
       "\n",
       "    YearsSinceLastPromotion  YearsWithCurrManager  \n",
       "1                         1                     4  \n",
       "6                         0                     0  \n",
       "13                        9                     9  \n",
       "28                        0                     0  \n",
       "30                        0                     2  \n",
       "\n",
       "[5 rows x 24 columns]"
      ]
     },
     "execution_count": 20,
     "metadata": {},
     "output_type": "execute_result"
    }
   ],
   "source": [
    "df_yes.head()"
   ]
  },
  {
   "cell_type": "code",
   "execution_count": 21,
   "metadata": {},
   "outputs": [
    {
     "data": {
      "text/html": [
       "<div>\n",
       "<style scoped>\n",
       "    .dataframe tbody tr th:only-of-type {\n",
       "        vertical-align: middle;\n",
       "    }\n",
       "\n",
       "    .dataframe tbody tr th {\n",
       "        vertical-align: top;\n",
       "    }\n",
       "\n",
       "    .dataframe thead th {\n",
       "        text-align: right;\n",
       "    }\n",
       "</style>\n",
       "<table border=\"1\" class=\"dataframe\">\n",
       "  <thead>\n",
       "    <tr style=\"text-align: right;\">\n",
       "      <th></th>\n",
       "      <th>Age</th>\n",
       "      <th>Attrition</th>\n",
       "      <th>BusinessTravel</th>\n",
       "      <th>Department</th>\n",
       "      <th>DistanceFromHome</th>\n",
       "      <th>Education</th>\n",
       "      <th>EducationField</th>\n",
       "      <th>EmployeeCount</th>\n",
       "      <th>EmployeeID</th>\n",
       "      <th>Gender</th>\n",
       "      <th>...</th>\n",
       "      <th>NumCompaniesWorked</th>\n",
       "      <th>Over18</th>\n",
       "      <th>PercentSalaryHike</th>\n",
       "      <th>StandardHours</th>\n",
       "      <th>StockOptionLevel</th>\n",
       "      <th>TotalWorkingYears</th>\n",
       "      <th>TrainingTimesLastYear</th>\n",
       "      <th>YearsAtCompany</th>\n",
       "      <th>YearsSinceLastPromotion</th>\n",
       "      <th>YearsWithCurrManager</th>\n",
       "    </tr>\n",
       "  </thead>\n",
       "  <tbody>\n",
       "    <tr>\n",
       "      <th>0</th>\n",
       "      <td>51</td>\n",
       "      <td>No</td>\n",
       "      <td>Travel_Rarely</td>\n",
       "      <td>Sales</td>\n",
       "      <td>6</td>\n",
       "      <td>2</td>\n",
       "      <td>Life Sciences</td>\n",
       "      <td>1</td>\n",
       "      <td>1</td>\n",
       "      <td>Female</td>\n",
       "      <td>...</td>\n",
       "      <td>1.0</td>\n",
       "      <td>Y</td>\n",
       "      <td>11</td>\n",
       "      <td>8</td>\n",
       "      <td>0</td>\n",
       "      <td>1.0</td>\n",
       "      <td>6</td>\n",
       "      <td>1</td>\n",
       "      <td>0</td>\n",
       "      <td>0</td>\n",
       "    </tr>\n",
       "    <tr>\n",
       "      <th>2</th>\n",
       "      <td>32</td>\n",
       "      <td>No</td>\n",
       "      <td>Travel_Frequently</td>\n",
       "      <td>Research &amp; Development</td>\n",
       "      <td>17</td>\n",
       "      <td>4</td>\n",
       "      <td>Other</td>\n",
       "      <td>1</td>\n",
       "      <td>3</td>\n",
       "      <td>Male</td>\n",
       "      <td>...</td>\n",
       "      <td>1.0</td>\n",
       "      <td>Y</td>\n",
       "      <td>15</td>\n",
       "      <td>8</td>\n",
       "      <td>3</td>\n",
       "      <td>5.0</td>\n",
       "      <td>2</td>\n",
       "      <td>5</td>\n",
       "      <td>0</td>\n",
       "      <td>3</td>\n",
       "    </tr>\n",
       "    <tr>\n",
       "      <th>3</th>\n",
       "      <td>38</td>\n",
       "      <td>No</td>\n",
       "      <td>Non-Travel</td>\n",
       "      <td>Research &amp; Development</td>\n",
       "      <td>2</td>\n",
       "      <td>5</td>\n",
       "      <td>Life Sciences</td>\n",
       "      <td>1</td>\n",
       "      <td>4</td>\n",
       "      <td>Male</td>\n",
       "      <td>...</td>\n",
       "      <td>3.0</td>\n",
       "      <td>Y</td>\n",
       "      <td>11</td>\n",
       "      <td>8</td>\n",
       "      <td>3</td>\n",
       "      <td>13.0</td>\n",
       "      <td>5</td>\n",
       "      <td>8</td>\n",
       "      <td>7</td>\n",
       "      <td>5</td>\n",
       "    </tr>\n",
       "    <tr>\n",
       "      <th>4</th>\n",
       "      <td>32</td>\n",
       "      <td>No</td>\n",
       "      <td>Travel_Rarely</td>\n",
       "      <td>Research &amp; Development</td>\n",
       "      <td>10</td>\n",
       "      <td>1</td>\n",
       "      <td>Medical</td>\n",
       "      <td>1</td>\n",
       "      <td>5</td>\n",
       "      <td>Male</td>\n",
       "      <td>...</td>\n",
       "      <td>4.0</td>\n",
       "      <td>Y</td>\n",
       "      <td>12</td>\n",
       "      <td>8</td>\n",
       "      <td>2</td>\n",
       "      <td>9.0</td>\n",
       "      <td>2</td>\n",
       "      <td>6</td>\n",
       "      <td>0</td>\n",
       "      <td>4</td>\n",
       "    </tr>\n",
       "    <tr>\n",
       "      <th>5</th>\n",
       "      <td>46</td>\n",
       "      <td>No</td>\n",
       "      <td>Travel_Rarely</td>\n",
       "      <td>Research &amp; Development</td>\n",
       "      <td>8</td>\n",
       "      <td>3</td>\n",
       "      <td>Life Sciences</td>\n",
       "      <td>1</td>\n",
       "      <td>6</td>\n",
       "      <td>Female</td>\n",
       "      <td>...</td>\n",
       "      <td>3.0</td>\n",
       "      <td>Y</td>\n",
       "      <td>13</td>\n",
       "      <td>8</td>\n",
       "      <td>0</td>\n",
       "      <td>28.0</td>\n",
       "      <td>5</td>\n",
       "      <td>7</td>\n",
       "      <td>7</td>\n",
       "      <td>7</td>\n",
       "    </tr>\n",
       "  </tbody>\n",
       "</table>\n",
       "<p>5 rows × 24 columns</p>\n",
       "</div>"
      ],
      "text/plain": [
       "   Age Attrition     BusinessTravel              Department  DistanceFromHome  \\\n",
       "0   51        No      Travel_Rarely                   Sales                 6   \n",
       "2   32        No  Travel_Frequently  Research & Development                17   \n",
       "3   38        No         Non-Travel  Research & Development                 2   \n",
       "4   32        No      Travel_Rarely  Research & Development                10   \n",
       "5   46        No      Travel_Rarely  Research & Development                 8   \n",
       "\n",
       "   Education EducationField  EmployeeCount  EmployeeID  Gender  ...  \\\n",
       "0          2  Life Sciences              1           1  Female  ...   \n",
       "2          4          Other              1           3    Male  ...   \n",
       "3          5  Life Sciences              1           4    Male  ...   \n",
       "4          1        Medical              1           5    Male  ...   \n",
       "5          3  Life Sciences              1           6  Female  ...   \n",
       "\n",
       "   NumCompaniesWorked Over18 PercentSalaryHike  StandardHours  \\\n",
       "0                 1.0      Y                11              8   \n",
       "2                 1.0      Y                15              8   \n",
       "3                 3.0      Y                11              8   \n",
       "4                 4.0      Y                12              8   \n",
       "5                 3.0      Y                13              8   \n",
       "\n",
       "   StockOptionLevel TotalWorkingYears  TrainingTimesLastYear  YearsAtCompany  \\\n",
       "0                 0               1.0                      6               1   \n",
       "2                 3               5.0                      2               5   \n",
       "3                 3              13.0                      5               8   \n",
       "4                 2               9.0                      2               6   \n",
       "5                 0              28.0                      5               7   \n",
       "\n",
       "   YearsSinceLastPromotion  YearsWithCurrManager  \n",
       "0                        0                     0  \n",
       "2                        0                     3  \n",
       "3                        7                     5  \n",
       "4                        0                     4  \n",
       "5                        7                     7  \n",
       "\n",
       "[5 rows x 24 columns]"
      ]
     },
     "execution_count": 21,
     "metadata": {},
     "output_type": "execute_result"
    }
   ],
   "source": [
    "df_no.head()"
   ]
  },
  {
   "cell_type": "markdown",
   "metadata": {},
   "source": [
    "## Mann-Whitney Test"
   ]
  },
  {
   "cell_type": "code",
   "execution_count": 22,
   "metadata": {},
   "outputs": [],
   "source": [
    "from scipy.stats import mannwhitneyu"
   ]
  },
  {
   "cell_type": "markdown",
   "metadata": {},
   "source": [
    "### DistanceFromHome and Attrition \n",
    "- H0 = There is no significant difference in the DistanceFromHome between Attrition(Yes) and Attrition(No)\n",
    "- Ha = H0 = There is significant difference in the DistanceFromHome between Attrition(Yes) and Attrition(No)"
   ]
  },
  {
   "cell_type": "code",
   "execution_count": 25,
   "metadata": {},
   "outputs": [
    {
     "name": "stdout",
     "output_type": "stream",
     "text": [
      "1312110.0 0.4629185205822659\n",
      "H0 is accepted\n",
      "Ha is rejected\n"
     ]
    }
   ],
   "source": [
    "stats, p = mannwhitneyu(df_yes.DistanceFromHome, df_no.DistanceFromHome)\n",
    "print(stats, p)\n",
    "if p < 0.05:\n",
    "    print(\"H0 is rejected\")\n",
    "    print(\"Ha is accepted\")\n",
    "else:\n",
    "    print(\"H0 is accepted\")\n",
    "    print(\"Ha is rejected\")"
   ]
  },
  {
   "cell_type": "markdown",
   "metadata": {},
   "source": [
    "### Inference \n",
    "- As we can see p >= 0.05 H0 is accepted"
   ]
  },
  {
   "cell_type": "markdown",
   "metadata": {},
   "source": [
    "### MonthlyIncome and Attrition \n",
    "- H0 = There is no significant difference in the MonthlyIncome between Attrition(Yes) and Attrition(No)\n",
    "- Ha = H0 = There is significant difference in the MonthlyIncome between Attrition(Yes) and Attrition(No)"
   ]
  },
  {
   "cell_type": "code",
   "execution_count": 26,
   "metadata": {},
   "outputs": [
    {
     "name": "stdout",
     "output_type": "stream",
     "text": [
      "1264900.5 0.053577283839938566\n",
      "H0 is accepted\n",
      "Ha is rejected\n"
     ]
    }
   ],
   "source": [
    "stats, p = mannwhitneyu(df_yes.MonthlyIncome, df_no.MonthlyIncome)\n",
    "print(stats, p)\n",
    "if p < 0.05:\n",
    "    print(\"H0 is rejected\")\n",
    "    print(\"Ha is accepted\")\n",
    "else:\n",
    "    print(\"H0 is accepted\")\n",
    "    print(\"Ha is rejected\")"
   ]
  },
  {
   "cell_type": "markdown",
   "metadata": {},
   "source": [
    "### Inference \n",
    "- As we can see p >= 0.05 H0 is accepted"
   ]
  },
  {
   "cell_type": "markdown",
   "metadata": {},
   "source": [
    "### YearsAtCompany and Attrition \n",
    "- H0 = There is no significant difference in the YearsAtCompany between Attrition(Yes) and Attrition(No)\n",
    "- Ha = H0 = There is significant difference in the YearsAtCompany between Attrition(Yes) and Attrition(No)"
   ]
  },
  {
   "cell_type": "code",
   "execution_count": 28,
   "metadata": {},
   "outputs": [
    {
     "name": "stdout",
     "output_type": "stream",
     "text": [
      "923238.0 6.047598261692858e-37\n",
      "H0 is rejected\n",
      "Ha is accepted\n"
     ]
    }
   ],
   "source": [
    "stats, p = mannwhitneyu(df_yes.YearsAtCompany, df_no.YearsAtCompany)\n",
    "print(stats, p)\n",
    "if p < 0.05:\n",
    "    print(\"H0 is rejected\")\n",
    "    print(\"Ha is accepted\")\n",
    "else:\n",
    "    print(\"H0 is accepted\")\n",
    "    print(\"Ha is rejected\")"
   ]
  },
  {
   "cell_type": "markdown",
   "metadata": {},
   "source": [
    "### Inference \n",
    "- As we can see p < 0.05 Ha is accepted"
   ]
  },
  {
   "cell_type": "markdown",
   "metadata": {},
   "source": [
    "### YearsWithCurrentManager and Attrition \n",
    "- H0 = There is no significant difference in the YearsWithCurrentManager between Attrition(Yes) and Attrition(No)\n",
    "- Ha = H0 = There is significant difference in the YearsWithCurrentManager between Attrition(Yes) and Attrition(No)"
   ]
  },
  {
   "cell_type": "code",
   "execution_count": 29,
   "metadata": {},
   "outputs": [
    {
     "name": "stdout",
     "output_type": "stream",
     "text": [
      "957253.5 1.2365483142169853e-31\n",
      "H0 is rejected\n",
      "Ha is accepted\n"
     ]
    }
   ],
   "source": [
    "stats, p = mannwhitneyu(df_yes.YearsWithCurrManager, df_no.YearsWithCurrManager)\n",
    "print(stats, p)\n",
    "if p < 0.05:\n",
    "    print(\"H0 is rejected\")\n",
    "    print(\"Ha is accepted\")\n",
    "else:\n",
    "    print(\"H0 is accepted\")\n",
    "    print(\"Ha is rejected\")"
   ]
  },
  {
   "cell_type": "markdown",
   "metadata": {},
   "source": [
    "### Inference \n",
    "- As we can see p < 0.05 Ha is accepted"
   ]
  },
  {
   "cell_type": "markdown",
   "metadata": {},
   "source": [
    "## Two Sample Indepented T-Test"
   ]
  },
  {
   "cell_type": "code",
   "execution_count": 30,
   "metadata": {},
   "outputs": [],
   "source": [
    "from scipy.stats import ttest_ind"
   ]
  },
  {
   "cell_type": "markdown",
   "metadata": {},
   "source": [
    "### DistanceFromHome and Attrition \n",
    "- H0 = There is no significant difference in the DistanceFromHome between Attrition(Yes) and Attrition(No)\n",
    "- Ha = H0 = There is significant difference in the DistanceFromHome between Attrition(Yes) and Attrition(No)"
   ]
  },
  {
   "cell_type": "code",
   "execution_count": 31,
   "metadata": {},
   "outputs": [
    {
     "name": "stdout",
     "output_type": "stream",
     "text": [
      "-0.6460416038042738 0.518286042805572\n",
      "H0 is accepted\n",
      "Ha is rejected\n"
     ]
    }
   ],
   "source": [
    "stats, p = ttest_ind(df_yes.DistanceFromHome, df_no.DistanceFromHome)\n",
    "print(stats, p)\n",
    "if p < 0.05:\n",
    "    print(\"H0 is rejected\")\n",
    "    print(\"Ha is accepted\")\n",
    "else:\n",
    "    print(\"H0 is accepted\")\n",
    "    print(\"Ha is rejected\")"
   ]
  },
  {
   "cell_type": "markdown",
   "metadata": {},
   "source": [
    "### Inference \n",
    "- As we can see p >= 0.05 H0 is accepted"
   ]
  },
  {
   "cell_type": "markdown",
   "metadata": {},
   "source": [
    "### MonthlyIncome and Attrition \n",
    "- H0 = There is no significant difference in the MonthlyIncome between Attrition(Yes) and Attrition(No)\n",
    "- Ha = H0 = There is significant difference in the MonthlyIncome between Attrition(Yes) and Attrition(No)"
   ]
  },
  {
   "cell_type": "code",
   "execution_count": 33,
   "metadata": {},
   "outputs": [
    {
     "name": "stdout",
     "output_type": "stream",
     "text": [
      "-2.0708863763619316 0.03842748490605113\n",
      "H0 is rejected\n",
      "Ha is accepted\n"
     ]
    }
   ],
   "source": [
    "stats, p = ttest_ind(df_yes.MonthlyIncome, df_no.MonthlyIncome)\n",
    "print(stats, p)\n",
    "if p < 0.05:\n",
    "    print(\"H0 is rejected\")\n",
    "    print(\"Ha is accepted\")\n",
    "else:\n",
    "    print(\"H0 is accepted\")\n",
    "    print(\"Ha is rejected\")"
   ]
  },
  {
   "cell_type": "markdown",
   "metadata": {},
   "source": [
    "### Inference \n",
    "- As we can see p >= 0.05 H0 is accepted"
   ]
  },
  {
   "cell_type": "markdown",
   "metadata": {},
   "source": [
    "### YearsAtCompany and Attrition \n",
    "- H0 = There is no significant difference in the YearsAtCompany between Attrition(Yes) and Attrition(No)\n",
    "- Ha = H0 = There is significant difference in the YearsAtCompany between Attrition(Yes) and Attrition(No)"
   ]
  },
  {
   "cell_type": "code",
   "execution_count": 35,
   "metadata": {},
   "outputs": [
    {
     "name": "stdout",
     "output_type": "stream",
     "text": [
      "-9.004357011787226 3.163883122491456e-19\n",
      "H0 is rejected\n",
      "Ha is accepted\n"
     ]
    }
   ],
   "source": [
    "stats, p = ttest_ind(df_yes.YearsAtCompany, df_no.YearsAtCompany)\n",
    "print(stats, p)\n",
    "if p < 0.05:\n",
    "    print(\"H0 is rejected\")\n",
    "    print(\"Ha is accepted\")\n",
    "else:\n",
    "    print(\"H0 is accepted\")\n",
    "    print(\"Ha is rejected\")"
   ]
  },
  {
   "cell_type": "markdown",
   "metadata": {},
   "source": [
    "### Inference \n",
    "- As we can see p < 0.05 Ha is accepted"
   ]
  },
  {
   "cell_type": "markdown",
   "metadata": {},
   "source": [
    "### YearsWithCurrentManager and Attrition \n",
    "- H0 = There is no significant difference in the YearsWithCurrentManager between Attrition(Yes) and Attrition(No)\n",
    "- Ha = H0 = There is significant difference in the YearsWithCurrentManager between Attrition(Yes) and Attrition(No)"
   ]
  },
  {
   "cell_type": "code",
   "execution_count": 36,
   "metadata": {},
   "outputs": [
    {
     "name": "stdout",
     "output_type": "stream",
     "text": [
      "-10.499379408703438 1.7339322652918153e-25\n",
      "H0 is rejected\n",
      "Ha is accepted\n"
     ]
    }
   ],
   "source": [
    "stats, p = ttest_ind(df_yes.YearsWithCurrManager, df_no.YearsWithCurrManager)\n",
    "print(stats, p)\n",
    "if p < 0.05:\n",
    "    print(\"H0 is rejected\")\n",
    "    print(\"Ha is accepted\")\n",
    "else:\n",
    "    print(\"H0 is accepted\")\n",
    "    print(\"Ha is rejected\")"
   ]
  },
  {
   "cell_type": "markdown",
   "metadata": {},
   "source": [
    "### Inference \n",
    "- As we can see p < 0.05 Ha is accepted"
   ]
  },
  {
   "cell_type": "code",
   "execution_count": null,
   "metadata": {},
   "outputs": [],
   "source": []
  }
 ],
 "metadata": {
  "kernelspec": {
   "display_name": "Python 3",
   "language": "python",
   "name": "python3"
  },
  "language_info": {
   "codemirror_mode": {
    "name": "ipython",
    "version": 3
   },
   "file_extension": ".py",
   "mimetype": "text/x-python",
   "name": "python",
   "nbconvert_exporter": "python",
   "pygments_lexer": "ipython3",
   "version": "3.7.6"
  }
 },
 "nbformat": 4,
 "nbformat_minor": 4
}
