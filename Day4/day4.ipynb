{
 "cells": [
  {
   "cell_type": "markdown",
   "metadata": {},
   "source": [
    "# Question 1 :\n",
    "Operation on Complex numbers\n",
    "# Answer :\n",
    "So according to the research we can use these functions\n",
    "- Addition \n",
    "- Subtraction\n",
    "- Multiplication\n",
    "- Division\n",
    " But for doing modulo and floor we have to implent our own functions"
   ]
  },
  {
   "cell_type": "code",
   "execution_count": 1,
   "metadata": {},
   "outputs": [
    {
     "name": "stdout",
     "output_type": "stream",
     "text": [
      "(6+5j)\n",
      "(-2+1j)\n",
      "(2+16j)\n",
      "(0.7+0.4j)\n"
     ]
    }
   ],
   "source": [
    "# Complex numbers\n",
    "c = 2+3j\n",
    "d = 4+2j\n",
    "\n",
    "# Addition\n",
    "print(c + d)\n",
    "\n",
    "# Subtraction\n",
    "print(c - d)\n",
    "\n",
    "# Multiplication\n",
    "print(c * d)\n",
    "\n",
    "# Division\n",
    "print(c / d)"
   ]
  },
  {
   "cell_type": "markdown",
   "metadata": {},
   "source": [
    "# Question 2 :\n",
    "Range Function\n",
    "# Answer :\n",
    "- range() has 3 parameters\n",
    "- 1st is the starting number\n",
    "- 2nd is the ending number (not including)\n",
    "- 3rd is the step size (how much to increment or decrement)\n",
    "- It can be used as :\n",
    "### range(end_index)\n",
    "### range(start_index, end_index)\n",
    "### range(start_index, end_index, step_size)"
   ]
  },
  {
   "cell_type": "code",
   "execution_count": 2,
   "metadata": {},
   "outputs": [
    {
     "name": "stdout",
     "output_type": "stream",
     "text": [
      "Printing from 20 till 25(not including)\n",
      "20\n",
      "21\n",
      "22\n",
      "23\n",
      "24\n",
      "Printing till 5\n",
      "0\n",
      "1\n",
      "2\n",
      "3\n",
      "4\n",
      "Printing with increment 2\n",
      "0\n",
      "2\n",
      "4\n",
      "6\n",
      "8\n",
      "Printing with decrement 1\n",
      "10\n",
      "9\n",
      "8\n",
      "7\n",
      "6\n",
      "5\n",
      "4\n",
      "3\n",
      "2\n",
      "1\n"
     ]
    }
   ],
   "source": [
    "print(\"Printing from 20 till 25(not including)\")\n",
    "for i in range(20,25):\n",
    "    print(i)\n",
    "print(\"Printing till 5\")\n",
    "for i in range(5):\n",
    "    print(i)\n",
    "print(\"Printing with increment 2\")\n",
    "for i in range(0, 10, 2):\n",
    "    print(i)\n",
    "print(\"Printing with decrement 1\")\n",
    "for i in range(10,0,-1):\n",
    "    print(i)"
   ]
  },
  {
   "cell_type": "markdown",
   "metadata": {},
   "source": [
    "# Question 3 :\n",
    "Perform subtraction and compare with 25\n",
    "# Answer :"
   ]
  },
  {
   "cell_type": "code",
   "execution_count": 3,
   "metadata": {},
   "outputs": [
    {
     "name": "stdout",
     "output_type": "stream",
     "text": [
      "1045\n"
     ]
    }
   ],
   "source": [
    "a = 55\n",
    "b = 19\n",
    "if((a - b) > 25):\n",
    "    print(a * b)\n",
    "else:\n",
    "    print(a / b)"
   ]
  },
  {
   "cell_type": "markdown",
   "metadata": {},
   "source": [
    "# Question 4 :\n",
    "List of int \n",
    "# Answer :"
   ]
  },
  {
   "cell_type": "code",
   "execution_count": 4,
   "metadata": {},
   "outputs": [
    {
     "name": "stdout",
     "output_type": "stream",
     "text": [
      "2\n",
      "14\n",
      "34\n",
      "62\n",
      "98\n"
     ]
    }
   ],
   "source": [
    "l = [1,2,3,4,5,6,7,8,9,10]\n",
    "for i in l:\n",
    "    if(i % 2 == 0):\n",
    "        print(i * i - 2)"
   ]
  },
  {
   "cell_type": "markdown",
   "metadata": {},
   "source": [
    "# Question 5 :\n",
    "List of 10 numbers\n",
    "# Answer :"
   ]
  },
  {
   "cell_type": "code",
   "execution_count": 5,
   "metadata": {},
   "outputs": [
    {
     "name": "stdout",
     "output_type": "stream",
     "text": [
      "15\n",
      "32\n",
      "16\n"
     ]
    }
   ],
   "source": [
    "l2 = [15,3,6,14,8,9,32,12,16,11]\n",
    "for i in l2:\n",
    "    if(i / 2 > 7):\n",
    "        print(i)"
   ]
  },
  {
   "cell_type": "code",
   "execution_count": null,
   "metadata": {},
   "outputs": [],
   "source": []
  }
 ],
 "metadata": {
  "kernelspec": {
   "display_name": "Python 3",
   "language": "python",
   "name": "python3"
  },
  "language_info": {
   "codemirror_mode": {
    "name": "ipython",
    "version": 3
   },
   "file_extension": ".py",
   "mimetype": "text/x-python",
   "name": "python",
   "nbconvert_exporter": "python",
   "pygments_lexer": "ipython3",
   "version": "3.7.6"
  }
 },
 "nbformat": 4,
 "nbformat_minor": 4
}
