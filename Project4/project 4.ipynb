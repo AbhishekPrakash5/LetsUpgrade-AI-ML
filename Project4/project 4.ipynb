{
 "cells": [
  {
   "cell_type": "code",
   "execution_count": 2,
   "metadata": {},
   "outputs": [],
   "source": [
    "import numpy as np\n",
    "import pandas as pd \n",
    "import tweepy\n",
    "import json\n",
    "from tweepy import OAuthHandler"
   ]
  },
  {
   "cell_type": "code",
   "execution_count": 3,
   "metadata": {},
   "outputs": [],
   "source": [
    "# for my credentials\n",
    "import twitter_credentials"
   ]
  },
  {
   "cell_type": "code",
   "execution_count": 4,
   "metadata": {},
   "outputs": [],
   "source": [
    "auth = tweepy.OAuthHandler(twitter_credentials.consumer_key, twitter_credentials.consumer_secret)\n",
    "auth.set_access_token(twitter_credentials.access_token, twitter_credentials.access_secret)\n",
    "api = tweepy.API(auth)"
   ]
  },
  {
   "cell_type": "code",
   "execution_count": 5,
   "metadata": {},
   "outputs": [],
   "source": [
    "query = \"Bihar Election\""
   ]
  },
  {
   "cell_type": "code",
   "execution_count": 6,
   "metadata": {},
   "outputs": [
    {
     "name": "stdout",
     "output_type": "stream",
     "text": [
      "Status(_api=<tweepy.api.API object at 0x00000200B4D69D30>, _json={'created_at': 'Sat Nov 21 17:06:09 +0000 2020', 'id': 1330195810873729031, 'id_str': '1330195810873729031', 'full_text': '@rsprasad @narendramodi @MoHFW_INDIA @PMOIndia @BJP4India Bihar election 🗳 one month before https://t.co/TvFBPMqv1i', 'truncated': False, 'display_text_range': [58, 91], 'entities': {'hashtags': [], 'symbols': [], 'user_mentions': [{'screen_name': 'rsprasad', 'name': 'Ravi Shankar Prasad', 'id': 2222673457, 'id_str': '2222673457', 'indices': [0, 9]}, {'screen_name': 'narendramodi', 'name': 'Narendra Modi', 'id': 18839785, 'id_str': '18839785', 'indices': [10, 23]}, {'screen_name': 'MoHFW_INDIA', 'name': 'Ministry of Health', 'id': 2596143056, 'id_str': '2596143056', 'indices': [24, 36]}, {'screen_name': 'PMOIndia', 'name': 'PMO India', 'id': 471741741, 'id_str': '471741741', 'indices': [37, 46]}, {'screen_name': 'BJP4India', 'name': 'BJP', 'id': 207809313, 'id_str': '207809313', 'indices': [47, 57]}], 'urls': [], 'media': [{'id': 1330195801285537798, 'id_str': '1330195801285537798', 'indices': [92, 115], 'media_url': 'http://pbs.twimg.com/media/EnXOCJlXMAY3vxV.jpg', 'media_url_https': 'https://pbs.twimg.com/media/EnXOCJlXMAY3vxV.jpg', 'url': 'https://t.co/TvFBPMqv1i', 'display_url': 'pic.twitter.com/TvFBPMqv1i', 'expanded_url': 'https://twitter.com/kaushikNchauhan/status/1330195810873729031/photo/1', 'type': 'photo', 'sizes': {'thumb': {'w': 150, 'h': 150, 'resize': 'crop'}, 'small': {'w': 620, 'h': 376, 'resize': 'fit'}, 'medium': {'w': 620, 'h': 376, 'resize': 'fit'}, 'large': {'w': 620, 'h': 376, 'resize': 'fit'}}}]}, 'extended_entities': {'media': [{'id': 1330195801285537798, 'id_str': '1330195801285537798', 'indices': [92, 115], 'media_url': 'http://pbs.twimg.com/media/EnXOCJlXMAY3vxV.jpg', 'media_url_https': 'https://pbs.twimg.com/media/EnXOCJlXMAY3vxV.jpg', 'url': 'https://t.co/TvFBPMqv1i', 'display_url': 'pic.twitter.com/TvFBPMqv1i', 'expanded_url': 'https://twitter.com/kaushikNchauhan/status/1330195810873729031/photo/1', 'type': 'photo', 'sizes': {'thumb': {'w': 150, 'h': 150, 'resize': 'crop'}, 'small': {'w': 620, 'h': 376, 'resize': 'fit'}, 'medium': {'w': 620, 'h': 376, 'resize': 'fit'}, 'large': {'w': 620, 'h': 376, 'resize': 'fit'}}}, {'id': 1330195801314910210, 'id_str': '1330195801314910210', 'indices': [92, 115], 'media_url': 'http://pbs.twimg.com/media/EnXOCJsXYAIewCf.jpg', 'media_url_https': 'https://pbs.twimg.com/media/EnXOCJsXYAIewCf.jpg', 'url': 'https://t.co/TvFBPMqv1i', 'display_url': 'pic.twitter.com/TvFBPMqv1i', 'expanded_url': 'https://twitter.com/kaushikNchauhan/status/1330195810873729031/photo/1', 'type': 'photo', 'sizes': {'thumb': {'w': 150, 'h': 150, 'resize': 'crop'}, 'large': {'w': 400, 'h': 224, 'resize': 'fit'}, 'medium': {'w': 400, 'h': 224, 'resize': 'fit'}, 'small': {'w': 400, 'h': 224, 'resize': 'fit'}}}, {'id': 1330195801352654853, 'id_str': '1330195801352654853', 'indices': [92, 115], 'media_url': 'http://pbs.twimg.com/media/EnXOCJ1XUAUKjUH.jpg', 'media_url_https': 'https://pbs.twimg.com/media/EnXOCJ1XUAUKjUH.jpg', 'url': 'https://t.co/TvFBPMqv1i', 'display_url': 'pic.twitter.com/TvFBPMqv1i', 'expanded_url': 'https://twitter.com/kaushikNchauhan/status/1330195810873729031/photo/1', 'type': 'photo', 'sizes': {'large': {'w': 1200, 'h': 800, 'resize': 'fit'}, 'medium': {'w': 1200, 'h': 800, 'resize': 'fit'}, 'small': {'w': 680, 'h': 453, 'resize': 'fit'}, 'thumb': {'w': 150, 'h': 150, 'resize': 'crop'}}}]}, 'metadata': {'iso_language_code': 'en', 'result_type': 'recent'}, 'source': '<a href=\"http://twitter.com/download/iphone\" rel=\"nofollow\">Twitter for iPhone</a>', 'in_reply_to_status_id': 1330127834367602689, 'in_reply_to_status_id_str': '1330127834367602689', 'in_reply_to_user_id': 2222673457, 'in_reply_to_user_id_str': '2222673457', 'in_reply_to_screen_name': 'rsprasad', 'user': {'id': 2598043754, 'id_str': '2598043754', 'name': 'kaushik Chauhan', 'screen_name': 'kaushikNchauhan', 'location': '', 'description': '', 'url': None, 'entities': {'description': {'urls': []}}, 'protected': False, 'followers_count': 15, 'friends_count': 285, 'listed_count': 0, 'created_at': 'Tue Jul 01 14:02:57 +0000 2014', 'favourites_count': 1409, 'utc_offset': None, 'time_zone': None, 'geo_enabled': True, 'verified': False, 'statuses_count': 1283, 'lang': None, 'contributors_enabled': False, 'is_translator': False, 'is_translation_enabled': False, 'profile_background_color': 'C0DEED', 'profile_background_image_url': 'http://abs.twimg.com/images/themes/theme1/bg.png', 'profile_background_image_url_https': 'https://abs.twimg.com/images/themes/theme1/bg.png', 'profile_background_tile': False, 'profile_image_url': 'http://pbs.twimg.com/profile_images/1221866996423450625/RqB-kMfD_normal.jpg', 'profile_image_url_https': 'https://pbs.twimg.com/profile_images/1221866996423450625/RqB-kMfD_normal.jpg', 'profile_banner_url': 'https://pbs.twimg.com/profile_banners/2598043754/1580317991', 'profile_link_color': '1DA1F2', 'profile_sidebar_border_color': 'C0DEED', 'profile_sidebar_fill_color': 'DDEEF6', 'profile_text_color': '333333', 'profile_use_background_image': True, 'has_extended_profile': False, 'default_profile': True, 'default_profile_image': False, 'following': False, 'follow_request_sent': False, 'notifications': False, 'translator_type': 'none'}, 'geo': None, 'coordinates': None, 'place': {'id': '00f24ae701a1207b', 'url': 'https://api.twitter.com/1.1/geo/id/00f24ae701a1207b.json', 'place_type': 'admin', 'name': 'Abu Dhabi', 'full_name': 'Abu Dhabi, United Arab Emirates', 'country_code': 'AE', 'country': 'United Arab Emirates', 'contained_within': [], 'bounding_box': {'type': 'Polygon', 'coordinates': [[[51.2938738, 22.6261387], [56.0175464, 22.6261387], [56.0175464, 25.1639588], [51.2938738, 25.1639588]]]}, 'attributes': {}}, 'contributors': None, 'is_quote_status': False, 'retweet_count': 0, 'favorite_count': 0, 'favorited': False, 'retweeted': False, 'possibly_sensitive': True, 'lang': 'en'}, created_at=datetime.datetime(2020, 11, 21, 17, 6, 9), id=1330195810873729031, id_str='1330195810873729031', full_text='@rsprasad @narendramodi @MoHFW_INDIA @PMOIndia @BJP4India Bihar election 🗳 one month before https://t.co/TvFBPMqv1i', truncated=False, display_text_range=[58, 91], entities={'hashtags': [], 'symbols': [], 'user_mentions': [{'screen_name': 'rsprasad', 'name': 'Ravi Shankar Prasad', 'id': 2222673457, 'id_str': '2222673457', 'indices': [0, 9]}, {'screen_name': 'narendramodi', 'name': 'Narendra Modi', 'id': 18839785, 'id_str': '18839785', 'indices': [10, 23]}, {'screen_name': 'MoHFW_INDIA', 'name': 'Ministry of Health', 'id': 2596143056, 'id_str': '2596143056', 'indices': [24, 36]}, {'screen_name': 'PMOIndia', 'name': 'PMO India', 'id': 471741741, 'id_str': '471741741', 'indices': [37, 46]}, {'screen_name': 'BJP4India', 'name': 'BJP', 'id': 207809313, 'id_str': '207809313', 'indices': [47, 57]}], 'urls': [], 'media': [{'id': 1330195801285537798, 'id_str': '1330195801285537798', 'indices': [92, 115], 'media_url': 'http://pbs.twimg.com/media/EnXOCJlXMAY3vxV.jpg', 'media_url_https': 'https://pbs.twimg.com/media/EnXOCJlXMAY3vxV.jpg', 'url': 'https://t.co/TvFBPMqv1i', 'display_url': 'pic.twitter.com/TvFBPMqv1i', 'expanded_url': 'https://twitter.com/kaushikNchauhan/status/1330195810873729031/photo/1', 'type': 'photo', 'sizes': {'thumb': {'w': 150, 'h': 150, 'resize': 'crop'}, 'small': {'w': 620, 'h': 376, 'resize': 'fit'}, 'medium': {'w': 620, 'h': 376, 'resize': 'fit'}, 'large': {'w': 620, 'h': 376, 'resize': 'fit'}}}]}, extended_entities={'media': [{'id': 1330195801285537798, 'id_str': '1330195801285537798', 'indices': [92, 115], 'media_url': 'http://pbs.twimg.com/media/EnXOCJlXMAY3vxV.jpg', 'media_url_https': 'https://pbs.twimg.com/media/EnXOCJlXMAY3vxV.jpg', 'url': 'https://t.co/TvFBPMqv1i', 'display_url': 'pic.twitter.com/TvFBPMqv1i', 'expanded_url': 'https://twitter.com/kaushikNchauhan/status/1330195810873729031/photo/1', 'type': 'photo', 'sizes': {'thumb': {'w': 150, 'h': 150, 'resize': 'crop'}, 'small': {'w': 620, 'h': 376, 'resize': 'fit'}, 'medium': {'w': 620, 'h': 376, 'resize': 'fit'}, 'large': {'w': 620, 'h': 376, 'resize': 'fit'}}}, {'id': 1330195801314910210, 'id_str': '1330195801314910210', 'indices': [92, 115], 'media_url': 'http://pbs.twimg.com/media/EnXOCJsXYAIewCf.jpg', 'media_url_https': 'https://pbs.twimg.com/media/EnXOCJsXYAIewCf.jpg', 'url': 'https://t.co/TvFBPMqv1i', 'display_url': 'pic.twitter.com/TvFBPMqv1i', 'expanded_url': 'https://twitter.com/kaushikNchauhan/status/1330195810873729031/photo/1', 'type': 'photo', 'sizes': {'thumb': {'w': 150, 'h': 150, 'resize': 'crop'}, 'large': {'w': 400, 'h': 224, 'resize': 'fit'}, 'medium': {'w': 400, 'h': 224, 'resize': 'fit'}, 'small': {'w': 400, 'h': 224, 'resize': 'fit'}}}, {'id': 1330195801352654853, 'id_str': '1330195801352654853', 'indices': [92, 115], 'media_url': 'http://pbs.twimg.com/media/EnXOCJ1XUAUKjUH.jpg', 'media_url_https': 'https://pbs.twimg.com/media/EnXOCJ1XUAUKjUH.jpg', 'url': 'https://t.co/TvFBPMqv1i', 'display_url': 'pic.twitter.com/TvFBPMqv1i', 'expanded_url': 'https://twitter.com/kaushikNchauhan/status/1330195810873729031/photo/1', 'type': 'photo', 'sizes': {'large': {'w': 1200, 'h': 800, 'resize': 'fit'}, 'medium': {'w': 1200, 'h': 800, 'resize': 'fit'}, 'small': {'w': 680, 'h': 453, 'resize': 'fit'}, 'thumb': {'w': 150, 'h': 150, 'resize': 'crop'}}}]}, metadata={'iso_language_code': 'en', 'result_type': 'recent'}, source='Twitter for iPhone', source_url='http://twitter.com/download/iphone', in_reply_to_status_id=1330127834367602689, in_reply_to_status_id_str='1330127834367602689', in_reply_to_user_id=2222673457, in_reply_to_user_id_str='2222673457', in_reply_to_screen_name='rsprasad', author=User(_api=<tweepy.api.API object at 0x00000200B4D69D30>, _json={'id': 2598043754, 'id_str': '2598043754', 'name': 'kaushik Chauhan', 'screen_name': 'kaushikNchauhan', 'location': '', 'description': '', 'url': None, 'entities': {'description': {'urls': []}}, 'protected': False, 'followers_count': 15, 'friends_count': 285, 'listed_count': 0, 'created_at': 'Tue Jul 01 14:02:57 +0000 2014', 'favourites_count': 1409, 'utc_offset': None, 'time_zone': None, 'geo_enabled': True, 'verified': False, 'statuses_count': 1283, 'lang': None, 'contributors_enabled': False, 'is_translator': False, 'is_translation_enabled': False, 'profile_background_color': 'C0DEED', 'profile_background_image_url': 'http://abs.twimg.com/images/themes/theme1/bg.png', 'profile_background_image_url_https': 'https://abs.twimg.com/images/themes/theme1/bg.png', 'profile_background_tile': False, 'profile_image_url': 'http://pbs.twimg.com/profile_images/1221866996423450625/RqB-kMfD_normal.jpg', 'profile_image_url_https': 'https://pbs.twimg.com/profile_images/1221866996423450625/RqB-kMfD_normal.jpg', 'profile_banner_url': 'https://pbs.twimg.com/profile_banners/2598043754/1580317991', 'profile_link_color': '1DA1F2', 'profile_sidebar_border_color': 'C0DEED', 'profile_sidebar_fill_color': 'DDEEF6', 'profile_text_color': '333333', 'profile_use_background_image': True, 'has_extended_profile': False, 'default_profile': True, 'default_profile_image': False, 'following': False, 'follow_request_sent': False, 'notifications': False, 'translator_type': 'none'}, id=2598043754, id_str='2598043754', name='kaushik Chauhan', screen_name='kaushikNchauhan', location='', description='', url=None, entities={'description': {'urls': []}}, protected=False, followers_count=15, friends_count=285, listed_count=0, created_at=datetime.datetime(2014, 7, 1, 14, 2, 57), favourites_count=1409, utc_offset=None, time_zone=None, geo_enabled=True, verified=False, statuses_count=1283, lang=None, contributors_enabled=False, is_translator=False, is_translation_enabled=False, profile_background_color='C0DEED', profile_background_image_url='http://abs.twimg.com/images/themes/theme1/bg.png', profile_background_image_url_https='https://abs.twimg.com/images/themes/theme1/bg.png', profile_background_tile=False, profile_image_url='http://pbs.twimg.com/profile_images/1221866996423450625/RqB-kMfD_normal.jpg', profile_image_url_https='https://pbs.twimg.com/profile_images/1221866996423450625/RqB-kMfD_normal.jpg', profile_banner_url='https://pbs.twimg.com/profile_banners/2598043754/1580317991', profile_link_color='1DA1F2', profile_sidebar_border_color='C0DEED', profile_sidebar_fill_color='DDEEF6', profile_text_color='333333', profile_use_background_image=True, has_extended_profile=False, default_profile=True, default_profile_image=False, following=False, follow_request_sent=False, notifications=False, translator_type='none'), user=User(_api=<tweepy.api.API object at 0x00000200B4D69D30>, _json={'id': 2598043754, 'id_str': '2598043754', 'name': 'kaushik Chauhan', 'screen_name': 'kaushikNchauhan', 'location': '', 'description': '', 'url': None, 'entities': {'description': {'urls': []}}, 'protected': False, 'followers_count': 15, 'friends_count': 285, 'listed_count': 0, 'created_at': 'Tue Jul 01 14:02:57 +0000 2014', 'favourites_count': 1409, 'utc_offset': None, 'time_zone': None, 'geo_enabled': True, 'verified': False, 'statuses_count': 1283, 'lang': None, 'contributors_enabled': False, 'is_translator': False, 'is_translation_enabled': False, 'profile_background_color': 'C0DEED', 'profile_background_image_url': 'http://abs.twimg.com/images/themes/theme1/bg.png', 'profile_background_image_url_https': 'https://abs.twimg.com/images/themes/theme1/bg.png', 'profile_background_tile': False, 'profile_image_url': 'http://pbs.twimg.com/profile_images/1221866996423450625/RqB-kMfD_normal.jpg', 'profile_image_url_https': 'https://pbs.twimg.com/profile_images/1221866996423450625/RqB-kMfD_normal.jpg', 'profile_banner_url': 'https://pbs.twimg.com/profile_banners/2598043754/1580317991', 'profile_link_color': '1DA1F2', 'profile_sidebar_border_color': 'C0DEED', 'profile_sidebar_fill_color': 'DDEEF6', 'profile_text_color': '333333', 'profile_use_background_image': True, 'has_extended_profile': False, 'default_profile': True, 'default_profile_image': False, 'following': False, 'follow_request_sent': False, 'notifications': False, 'translator_type': 'none'}, id=2598043754, id_str='2598043754', name='kaushik Chauhan', screen_name='kaushikNchauhan', location='', description='', url=None, entities={'description': {'urls': []}}, protected=False, followers_count=15, friends_count=285, listed_count=0, created_at=datetime.datetime(2014, 7, 1, 14, 2, 57), favourites_count=1409, utc_offset=None, time_zone=None, geo_enabled=True, verified=False, statuses_count=1283, lang=None, contributors_enabled=False, is_translator=False, is_translation_enabled=False, profile_background_color='C0DEED', profile_background_image_url='http://abs.twimg.com/images/themes/theme1/bg.png', profile_background_image_url_https='https://abs.twimg.com/images/themes/theme1/bg.png', profile_background_tile=False, profile_image_url='http://pbs.twimg.com/profile_images/1221866996423450625/RqB-kMfD_normal.jpg', profile_image_url_https='https://pbs.twimg.com/profile_images/1221866996423450625/RqB-kMfD_normal.jpg', profile_banner_url='https://pbs.twimg.com/profile_banners/2598043754/1580317991', profile_link_color='1DA1F2', profile_sidebar_border_color='C0DEED', profile_sidebar_fill_color='DDEEF6', profile_text_color='333333', profile_use_background_image=True, has_extended_profile=False, default_profile=True, default_profile_image=False, following=False, follow_request_sent=False, notifications=False, translator_type='none'), geo=None, coordinates=None, place=Place(_api=<tweepy.api.API object at 0x00000200B4D69D30>, id='00f24ae701a1207b', url='https://api.twitter.com/1.1/geo/id/00f24ae701a1207b.json', place_type='admin', name='Abu Dhabi', full_name='Abu Dhabi, United Arab Emirates', country_code='AE', country='United Arab Emirates', contained_within=[], bounding_box=BoundingBox(_api=<tweepy.api.API object at 0x00000200B4D69D30>, type='Polygon', coordinates=[[[51.2938738, 22.6261387], [56.0175464, 22.6261387], [56.0175464, 25.1639588], [51.2938738, 25.1639588]]]), attributes={}), contributors=None, is_quote_status=False, retweet_count=0, favorite_count=0, favorited=False, retweeted=False, possibly_sensitive=True, lang='en') \n",
      "\n",
      "--------------------------------------------------\n",
      "\n",
      "Status(_api=<tweepy.api.API object at 0x00000200B4D69D30>, _json={'created_at': 'Sat Nov 21 16:57:58 +0000 2020', 'id': 1330193748987404293, 'id_str': '1330193748987404293', 'full_text': \"@DrGauravGarg4 What's the opinion of right center political parties ?\\nThe leftists ideology and right centers ideology were under one roof , in the recently concluded Bihar election under coalition termed as  Mahagatbandhan.\", 'truncated': False, 'display_text_range': [15, 224], 'entities': {'hashtags': [], 'symbols': [], 'user_mentions': [{'screen_name': 'DrGauravGarg4', 'name': 'Dr Gaurav Garg', 'id': 1297793920340905984, 'id_str': '1297793920340905984', 'indices': [0, 14]}], 'urls': []}, 'metadata': {'iso_language_code': 'en', 'result_type': 'recent'}, 'source': '<a href=\"http://twitter.com/download/android\" rel=\"nofollow\">Twitter for Android</a>', 'in_reply_to_status_id': 1330179424176779264, 'in_reply_to_status_id_str': '1330179424176779264', 'in_reply_to_user_id': 1297793920340905984, 'in_reply_to_user_id_str': '1297793920340905984', 'in_reply_to_screen_name': 'DrGauravGarg4', 'user': {'id': 1241733793016213510, 'id_str': '1241733793016213510', 'name': 'Sachi Mahapatra', 'screen_name': 'SachiMahapatra', 'location': 'ଓଡିଶା, ଭାରତ ବର୍ଷ', 'description': 'ଇଶ୍ୱରଙ୍କ ସନ୍ତାନ , ଇଶ୍ୱରଙ୍କୁ ଭୟଭୀତ କରନାହିଁ,\\n\\nମନ ଭଜୁଥା ତୁଇ ରାତିଦିନ ହରେକୃଷ୍ଣ ହରେରାମ ।\\nସଙ୍କଟ ମୋଚନ ଜୟ ହନୁମାନ ।', 'url': None, 'entities': {'description': {'urls': []}}, 'protected': False, 'followers_count': 16, 'friends_count': 23, 'listed_count': 0, 'created_at': 'Sun Mar 22 14:30:13 +0000 2020', 'favourites_count': 305, 'utc_offset': None, 'time_zone': None, 'geo_enabled': False, 'verified': False, 'statuses_count': 921, 'lang': None, 'contributors_enabled': False, 'is_translator': False, 'is_translation_enabled': False, 'profile_background_color': 'F5F8FA', 'profile_background_image_url': None, 'profile_background_image_url_https': None, 'profile_background_tile': False, 'profile_image_url': 'http://pbs.twimg.com/profile_images/1289189955567116288/NUc1PaR-_normal.jpg', 'profile_image_url_https': 'https://pbs.twimg.com/profile_images/1289189955567116288/NUc1PaR-_normal.jpg', 'profile_banner_url': 'https://pbs.twimg.com/profile_banners/1241733793016213510/1603553945', 'profile_link_color': '1DA1F2', 'profile_sidebar_border_color': 'C0DEED', 'profile_sidebar_fill_color': 'DDEEF6', 'profile_text_color': '333333', 'profile_use_background_image': True, 'has_extended_profile': False, 'default_profile': True, 'default_profile_image': False, 'following': False, 'follow_request_sent': False, 'notifications': False, 'translator_type': 'none'}, 'geo': None, 'coordinates': None, 'place': None, 'contributors': None, 'is_quote_status': False, 'retweet_count': 0, 'favorite_count': 0, 'favorited': False, 'retweeted': False, 'lang': 'en'}, created_at=datetime.datetime(2020, 11, 21, 16, 57, 58), id=1330193748987404293, id_str='1330193748987404293', full_text=\"@DrGauravGarg4 What's the opinion of right center political parties ?\\nThe leftists ideology and right centers ideology were under one roof , in the recently concluded Bihar election under coalition termed as  Mahagatbandhan.\", truncated=False, display_text_range=[15, 224], entities={'hashtags': [], 'symbols': [], 'user_mentions': [{'screen_name': 'DrGauravGarg4', 'name': 'Dr Gaurav Garg', 'id': 1297793920340905984, 'id_str': '1297793920340905984', 'indices': [0, 14]}], 'urls': []}, metadata={'iso_language_code': 'en', 'result_type': 'recent'}, source='Twitter for Android', source_url='http://twitter.com/download/android', in_reply_to_status_id=1330179424176779264, in_reply_to_status_id_str='1330179424176779264', in_reply_to_user_id=1297793920340905984, in_reply_to_user_id_str='1297793920340905984', in_reply_to_screen_name='DrGauravGarg4', author=User(_api=<tweepy.api.API object at 0x00000200B4D69D30>, _json={'id': 1241733793016213510, 'id_str': '1241733793016213510', 'name': 'Sachi Mahapatra', 'screen_name': 'SachiMahapatra', 'location': 'ଓଡିଶା, ଭାରତ ବର୍ଷ', 'description': 'ଇଶ୍ୱରଙ୍କ ସନ୍ତାନ , ଇଶ୍ୱରଙ୍କୁ ଭୟଭୀତ କରନାହିଁ,\\n\\nମନ ଭଜୁଥା ତୁଇ ରାତିଦିନ ହରେକୃଷ୍ଣ ହରେରାମ ।\\nସଙ୍କଟ ମୋଚନ ଜୟ ହନୁମାନ ।', 'url': None, 'entities': {'description': {'urls': []}}, 'protected': False, 'followers_count': 16, 'friends_count': 23, 'listed_count': 0, 'created_at': 'Sun Mar 22 14:30:13 +0000 2020', 'favourites_count': 305, 'utc_offset': None, 'time_zone': None, 'geo_enabled': False, 'verified': False, 'statuses_count': 921, 'lang': None, 'contributors_enabled': False, 'is_translator': False, 'is_translation_enabled': False, 'profile_background_color': 'F5F8FA', 'profile_background_image_url': None, 'profile_background_image_url_https': None, 'profile_background_tile': False, 'profile_image_url': 'http://pbs.twimg.com/profile_images/1289189955567116288/NUc1PaR-_normal.jpg', 'profile_image_url_https': 'https://pbs.twimg.com/profile_images/1289189955567116288/NUc1PaR-_normal.jpg', 'profile_banner_url': 'https://pbs.twimg.com/profile_banners/1241733793016213510/1603553945', 'profile_link_color': '1DA1F2', 'profile_sidebar_border_color': 'C0DEED', 'profile_sidebar_fill_color': 'DDEEF6', 'profile_text_color': '333333', 'profile_use_background_image': True, 'has_extended_profile': False, 'default_profile': True, 'default_profile_image': False, 'following': False, 'follow_request_sent': False, 'notifications': False, 'translator_type': 'none'}, id=1241733793016213510, id_str='1241733793016213510', name='Sachi Mahapatra', screen_name='SachiMahapatra', location='ଓଡିଶା, ଭାରତ ବର୍ଷ', description='ଇଶ୍ୱରଙ୍କ ସନ୍ତାନ , ଇଶ୍ୱରଙ୍କୁ ଭୟଭୀତ କରନାହିଁ,\\n\\nମନ ଭଜୁଥା ତୁଇ ରାତିଦିନ ହରେକୃଷ୍ଣ ହରେରାମ ।\\nସଙ୍କଟ ମୋଚନ ଜୟ ହନୁମାନ ।', url=None, entities={'description': {'urls': []}}, protected=False, followers_count=16, friends_count=23, listed_count=0, created_at=datetime.datetime(2020, 3, 22, 14, 30, 13), favourites_count=305, utc_offset=None, time_zone=None, geo_enabled=False, verified=False, statuses_count=921, lang=None, contributors_enabled=False, is_translator=False, is_translation_enabled=False, profile_background_color='F5F8FA', profile_background_image_url=None, profile_background_image_url_https=None, profile_background_tile=False, profile_image_url='http://pbs.twimg.com/profile_images/1289189955567116288/NUc1PaR-_normal.jpg', profile_image_url_https='https://pbs.twimg.com/profile_images/1289189955567116288/NUc1PaR-_normal.jpg', profile_banner_url='https://pbs.twimg.com/profile_banners/1241733793016213510/1603553945', profile_link_color='1DA1F2', profile_sidebar_border_color='C0DEED', profile_sidebar_fill_color='DDEEF6', profile_text_color='333333', profile_use_background_image=True, has_extended_profile=False, default_profile=True, default_profile_image=False, following=False, follow_request_sent=False, notifications=False, translator_type='none'), user=User(_api=<tweepy.api.API object at 0x00000200B4D69D30>, _json={'id': 1241733793016213510, 'id_str': '1241733793016213510', 'name': 'Sachi Mahapatra', 'screen_name': 'SachiMahapatra', 'location': 'ଓଡିଶା, ଭାରତ ବର୍ଷ', 'description': 'ଇଶ୍ୱରଙ୍କ ସନ୍ତାନ , ଇଶ୍ୱରଙ୍କୁ ଭୟଭୀତ କରନାହିଁ,\\n\\nମନ ଭଜୁଥା ତୁଇ ରାତିଦିନ ହରେକୃଷ୍ଣ ହରେରାମ ।\\nସଙ୍କଟ ମୋଚନ ଜୟ ହନୁମାନ ।', 'url': None, 'entities': {'description': {'urls': []}}, 'protected': False, 'followers_count': 16, 'friends_count': 23, 'listed_count': 0, 'created_at': 'Sun Mar 22 14:30:13 +0000 2020', 'favourites_count': 305, 'utc_offset': None, 'time_zone': None, 'geo_enabled': False, 'verified': False, 'statuses_count': 921, 'lang': None, 'contributors_enabled': False, 'is_translator': False, 'is_translation_enabled': False, 'profile_background_color': 'F5F8FA', 'profile_background_image_url': None, 'profile_background_image_url_https': None, 'profile_background_tile': False, 'profile_image_url': 'http://pbs.twimg.com/profile_images/1289189955567116288/NUc1PaR-_normal.jpg', 'profile_image_url_https': 'https://pbs.twimg.com/profile_images/1289189955567116288/NUc1PaR-_normal.jpg', 'profile_banner_url': 'https://pbs.twimg.com/profile_banners/1241733793016213510/1603553945', 'profile_link_color': '1DA1F2', 'profile_sidebar_border_color': 'C0DEED', 'profile_sidebar_fill_color': 'DDEEF6', 'profile_text_color': '333333', 'profile_use_background_image': True, 'has_extended_profile': False, 'default_profile': True, 'default_profile_image': False, 'following': False, 'follow_request_sent': False, 'notifications': False, 'translator_type': 'none'}, id=1241733793016213510, id_str='1241733793016213510', name='Sachi Mahapatra', screen_name='SachiMahapatra', location='ଓଡିଶା, ଭାରତ ବର୍ଷ', description='ଇଶ୍ୱରଙ୍କ ସନ୍ତାନ , ଇଶ୍ୱରଙ୍କୁ ଭୟଭୀତ କରନାହିଁ,\\n\\nମନ ଭଜୁଥା ତୁଇ ରାତିଦିନ ହରେକୃଷ୍ଣ ହରେରାମ ।\\nସଙ୍କଟ ମୋଚନ ଜୟ ହନୁମାନ ।', url=None, entities={'description': {'urls': []}}, protected=False, followers_count=16, friends_count=23, listed_count=0, created_at=datetime.datetime(2020, 3, 22, 14, 30, 13), favourites_count=305, utc_offset=None, time_zone=None, geo_enabled=False, verified=False, statuses_count=921, lang=None, contributors_enabled=False, is_translator=False, is_translation_enabled=False, profile_background_color='F5F8FA', profile_background_image_url=None, profile_background_image_url_https=None, profile_background_tile=False, profile_image_url='http://pbs.twimg.com/profile_images/1289189955567116288/NUc1PaR-_normal.jpg', profile_image_url_https='https://pbs.twimg.com/profile_images/1289189955567116288/NUc1PaR-_normal.jpg', profile_banner_url='https://pbs.twimg.com/profile_banners/1241733793016213510/1603553945', profile_link_color='1DA1F2', profile_sidebar_border_color='C0DEED', profile_sidebar_fill_color='DDEEF6', profile_text_color='333333', profile_use_background_image=True, has_extended_profile=False, default_profile=True, default_profile_image=False, following=False, follow_request_sent=False, notifications=False, translator_type='none'), geo=None, coordinates=None, place=None, contributors=None, is_quote_status=False, retweet_count=0, favorite_count=0, favorited=False, retweeted=False, lang='en') \n",
      "\n",
      "--------------------------------------------------\n",
      "\n",
      "Status(_api=<tweepy.api.API object at 0x00000200B4D69D30>, _json={'created_at': 'Sat Nov 21 16:57:16 +0000 2020', 'id': 1330193575192178688, 'id_str': '1330193575192178688', 'full_text': '#Congress vs #BJP after 2010\\nIn 2010, Bihar Election \\nBJP - 102(Total Seats) - 91(Won)\\nCongress - 243(Total Seats) - 4(Won)', 'truncated': False, 'display_text_range': [0, 123], 'entities': {'hashtags': [{'text': 'Congress', 'indices': [0, 9]}, {'text': 'BJP', 'indices': [13, 17]}], 'symbols': [], 'user_mentions': [], 'urls': []}, 'metadata': {'iso_language_code': 'en', 'result_type': 'recent'}, 'source': '<a href=\"https://mobile.twitter.com\" rel=\"nofollow\">Twitter Web App</a>', 'in_reply_to_status_id': None, 'in_reply_to_status_id_str': None, 'in_reply_to_user_id': None, 'in_reply_to_user_id_str': None, 'in_reply_to_screen_name': None, 'user': {'id': 1305149319599669248, 'id_str': '1305149319599669248', 'name': 'Harishchandra', 'screen_name': 'Harishc94614675', 'location': '', 'description': 'Speak the truth. Sach kadwa hota hai', 'url': None, 'entities': {'description': {'urls': []}}, 'protected': False, 'followers_count': 1, 'friends_count': 63, 'listed_count': 0, 'created_at': 'Sun Sep 13 14:20:32 +0000 2020', 'favourites_count': 39, 'utc_offset': None, 'time_zone': None, 'geo_enabled': False, 'verified': False, 'statuses_count': 165, 'lang': None, 'contributors_enabled': False, 'is_translator': False, 'is_translation_enabled': False, 'profile_background_color': 'F5F8FA', 'profile_background_image_url': None, 'profile_background_image_url_https': None, 'profile_background_tile': False, 'profile_image_url': 'http://pbs.twimg.com/profile_images/1309532256923455488/2pC9rVkc_normal.jpg', 'profile_image_url_https': 'https://pbs.twimg.com/profile_images/1309532256923455488/2pC9rVkc_normal.jpg', 'profile_link_color': '1DA1F2', 'profile_sidebar_border_color': 'C0DEED', 'profile_sidebar_fill_color': 'DDEEF6', 'profile_text_color': '333333', 'profile_use_background_image': True, 'has_extended_profile': True, 'default_profile': True, 'default_profile_image': False, 'following': False, 'follow_request_sent': False, 'notifications': False, 'translator_type': 'none'}, 'geo': None, 'coordinates': None, 'place': None, 'contributors': None, 'is_quote_status': False, 'retweet_count': 0, 'favorite_count': 0, 'favorited': False, 'retweeted': False, 'lang': 'en'}, created_at=datetime.datetime(2020, 11, 21, 16, 57, 16), id=1330193575192178688, id_str='1330193575192178688', full_text='#Congress vs #BJP after 2010\\nIn 2010, Bihar Election \\nBJP - 102(Total Seats) - 91(Won)\\nCongress - 243(Total Seats) - 4(Won)', truncated=False, display_text_range=[0, 123], entities={'hashtags': [{'text': 'Congress', 'indices': [0, 9]}, {'text': 'BJP', 'indices': [13, 17]}], 'symbols': [], 'user_mentions': [], 'urls': []}, metadata={'iso_language_code': 'en', 'result_type': 'recent'}, source='Twitter Web App', source_url='https://mobile.twitter.com', in_reply_to_status_id=None, in_reply_to_status_id_str=None, in_reply_to_user_id=None, in_reply_to_user_id_str=None, in_reply_to_screen_name=None, author=User(_api=<tweepy.api.API object at 0x00000200B4D69D30>, _json={'id': 1305149319599669248, 'id_str': '1305149319599669248', 'name': 'Harishchandra', 'screen_name': 'Harishc94614675', 'location': '', 'description': 'Speak the truth. Sach kadwa hota hai', 'url': None, 'entities': {'description': {'urls': []}}, 'protected': False, 'followers_count': 1, 'friends_count': 63, 'listed_count': 0, 'created_at': 'Sun Sep 13 14:20:32 +0000 2020', 'favourites_count': 39, 'utc_offset': None, 'time_zone': None, 'geo_enabled': False, 'verified': False, 'statuses_count': 165, 'lang': None, 'contributors_enabled': False, 'is_translator': False, 'is_translation_enabled': False, 'profile_background_color': 'F5F8FA', 'profile_background_image_url': None, 'profile_background_image_url_https': None, 'profile_background_tile': False, 'profile_image_url': 'http://pbs.twimg.com/profile_images/1309532256923455488/2pC9rVkc_normal.jpg', 'profile_image_url_https': 'https://pbs.twimg.com/profile_images/1309532256923455488/2pC9rVkc_normal.jpg', 'profile_link_color': '1DA1F2', 'profile_sidebar_border_color': 'C0DEED', 'profile_sidebar_fill_color': 'DDEEF6', 'profile_text_color': '333333', 'profile_use_background_image': True, 'has_extended_profile': True, 'default_profile': True, 'default_profile_image': False, 'following': False, 'follow_request_sent': False, 'notifications': False, 'translator_type': 'none'}, id=1305149319599669248, id_str='1305149319599669248', name='Harishchandra', screen_name='Harishc94614675', location='', description='Speak the truth. Sach kadwa hota hai', url=None, entities={'description': {'urls': []}}, protected=False, followers_count=1, friends_count=63, listed_count=0, created_at=datetime.datetime(2020, 9, 13, 14, 20, 32), favourites_count=39, utc_offset=None, time_zone=None, geo_enabled=False, verified=False, statuses_count=165, lang=None, contributors_enabled=False, is_translator=False, is_translation_enabled=False, profile_background_color='F5F8FA', profile_background_image_url=None, profile_background_image_url_https=None, profile_background_tile=False, profile_image_url='http://pbs.twimg.com/profile_images/1309532256923455488/2pC9rVkc_normal.jpg', profile_image_url_https='https://pbs.twimg.com/profile_images/1309532256923455488/2pC9rVkc_normal.jpg', profile_link_color='1DA1F2', profile_sidebar_border_color='C0DEED', profile_sidebar_fill_color='DDEEF6', profile_text_color='333333', profile_use_background_image=True, has_extended_profile=True, default_profile=True, default_profile_image=False, following=False, follow_request_sent=False, notifications=False, translator_type='none'), user=User(_api=<tweepy.api.API object at 0x00000200B4D69D30>, _json={'id': 1305149319599669248, 'id_str': '1305149319599669248', 'name': 'Harishchandra', 'screen_name': 'Harishc94614675', 'location': '', 'description': 'Speak the truth. Sach kadwa hota hai', 'url': None, 'entities': {'description': {'urls': []}}, 'protected': False, 'followers_count': 1, 'friends_count': 63, 'listed_count': 0, 'created_at': 'Sun Sep 13 14:20:32 +0000 2020', 'favourites_count': 39, 'utc_offset': None, 'time_zone': None, 'geo_enabled': False, 'verified': False, 'statuses_count': 165, 'lang': None, 'contributors_enabled': False, 'is_translator': False, 'is_translation_enabled': False, 'profile_background_color': 'F5F8FA', 'profile_background_image_url': None, 'profile_background_image_url_https': None, 'profile_background_tile': False, 'profile_image_url': 'http://pbs.twimg.com/profile_images/1309532256923455488/2pC9rVkc_normal.jpg', 'profile_image_url_https': 'https://pbs.twimg.com/profile_images/1309532256923455488/2pC9rVkc_normal.jpg', 'profile_link_color': '1DA1F2', 'profile_sidebar_border_color': 'C0DEED', 'profile_sidebar_fill_color': 'DDEEF6', 'profile_text_color': '333333', 'profile_use_background_image': True, 'has_extended_profile': True, 'default_profile': True, 'default_profile_image': False, 'following': False, 'follow_request_sent': False, 'notifications': False, 'translator_type': 'none'}, id=1305149319599669248, id_str='1305149319599669248', name='Harishchandra', screen_name='Harishc94614675', location='', description='Speak the truth. Sach kadwa hota hai', url=None, entities={'description': {'urls': []}}, protected=False, followers_count=1, friends_count=63, listed_count=0, created_at=datetime.datetime(2020, 9, 13, 14, 20, 32), favourites_count=39, utc_offset=None, time_zone=None, geo_enabled=False, verified=False, statuses_count=165, lang=None, contributors_enabled=False, is_translator=False, is_translation_enabled=False, profile_background_color='F5F8FA', profile_background_image_url=None, profile_background_image_url_https=None, profile_background_tile=False, profile_image_url='http://pbs.twimg.com/profile_images/1309532256923455488/2pC9rVkc_normal.jpg', profile_image_url_https='https://pbs.twimg.com/profile_images/1309532256923455488/2pC9rVkc_normal.jpg', profile_link_color='1DA1F2', profile_sidebar_border_color='C0DEED', profile_sidebar_fill_color='DDEEF6', profile_text_color='333333', profile_use_background_image=True, has_extended_profile=True, default_profile=True, default_profile_image=False, following=False, follow_request_sent=False, notifications=False, translator_type='none'), geo=None, coordinates=None, place=None, contributors=None, is_quote_status=False, retweet_count=0, favorite_count=0, favorited=False, retweeted=False, lang='en') \n",
      "\n",
      "--------------------------------------------------\n",
      "\n",
      "Status(_api=<tweepy.api.API object at 0x00000200B4D69D30>, _json={'created_at': 'Sat Nov 21 16:50:54 +0000 2020', 'id': 1330191970094952448, 'id_str': '1330191970094952448', 'full_text': 'Is Ganja a drug? If so really then I think that Ganjeris can outnumber Darubazs . Why not Survey agencies try to get opinion poll on this, it will be a good damage control of Bihar Election.', 'truncated': False, 'display_text_range': [0, 190], 'entities': {'hashtags': [], 'symbols': [], 'user_mentions': [], 'urls': []}, 'metadata': {'iso_language_code': 'en', 'result_type': 'recent'}, 'source': '<a href=\"https://mobile.twitter.com\" rel=\"nofollow\">Twitter Web App</a>', 'in_reply_to_status_id': None, 'in_reply_to_status_id_str': None, 'in_reply_to_user_id': None, 'in_reply_to_user_id_str': None, 'in_reply_to_screen_name': None, 'user': {'id': 995541860, 'id_str': '995541860', 'name': 'Paramendra Mohan', 'screen_name': 'paramendramohan', 'location': 'New Delhi, India', 'description': 'Journalist. Ex Deputy Executive Editor INDIA TV, D.E.P. Zee Media, Content Head IBC24 Digital, Worked in Zee News, AAJ TAK, Sahara Samay, ETV, Swatantra Vaarta.', 'url': None, 'entities': {'description': {'urls': []}}, 'protected': False, 'followers_count': 293, 'friends_count': 215, 'listed_count': 2, 'created_at': 'Fri Dec 07 17:49:42 +0000 2012', 'favourites_count': 1481, 'utc_offset': None, 'time_zone': None, 'geo_enabled': True, 'verified': False, 'statuses_count': 2871, 'lang': None, 'contributors_enabled': False, 'is_translator': False, 'is_translation_enabled': False, 'profile_background_color': '000000', 'profile_background_image_url': 'http://abs.twimg.com/images/themes/theme1/bg.png', 'profile_background_image_url_https': 'https://abs.twimg.com/images/themes/theme1/bg.png', 'profile_background_tile': False, 'profile_image_url': 'http://pbs.twimg.com/profile_images/560435800320393216/EZpQEj-3_normal.jpeg', 'profile_image_url_https': 'https://pbs.twimg.com/profile_images/560435800320393216/EZpQEj-3_normal.jpeg', 'profile_link_color': '1B95E0', 'profile_sidebar_border_color': '000000', 'profile_sidebar_fill_color': '000000', 'profile_text_color': '000000', 'profile_use_background_image': False, 'has_extended_profile': True, 'default_profile': False, 'default_profile_image': False, 'following': False, 'follow_request_sent': False, 'notifications': False, 'translator_type': 'none'}, 'geo': None, 'coordinates': None, 'place': None, 'contributors': None, 'is_quote_status': False, 'retweet_count': 0, 'favorite_count': 0, 'favorited': False, 'retweeted': False, 'lang': 'en'}, created_at=datetime.datetime(2020, 11, 21, 16, 50, 54), id=1330191970094952448, id_str='1330191970094952448', full_text='Is Ganja a drug? If so really then I think that Ganjeris can outnumber Darubazs . Why not Survey agencies try to get opinion poll on this, it will be a good damage control of Bihar Election.', truncated=False, display_text_range=[0, 190], entities={'hashtags': [], 'symbols': [], 'user_mentions': [], 'urls': []}, metadata={'iso_language_code': 'en', 'result_type': 'recent'}, source='Twitter Web App', source_url='https://mobile.twitter.com', in_reply_to_status_id=None, in_reply_to_status_id_str=None, in_reply_to_user_id=None, in_reply_to_user_id_str=None, in_reply_to_screen_name=None, author=User(_api=<tweepy.api.API object at 0x00000200B4D69D30>, _json={'id': 995541860, 'id_str': '995541860', 'name': 'Paramendra Mohan', 'screen_name': 'paramendramohan', 'location': 'New Delhi, India', 'description': 'Journalist. Ex Deputy Executive Editor INDIA TV, D.E.P. Zee Media, Content Head IBC24 Digital, Worked in Zee News, AAJ TAK, Sahara Samay, ETV, Swatantra Vaarta.', 'url': None, 'entities': {'description': {'urls': []}}, 'protected': False, 'followers_count': 293, 'friends_count': 215, 'listed_count': 2, 'created_at': 'Fri Dec 07 17:49:42 +0000 2012', 'favourites_count': 1481, 'utc_offset': None, 'time_zone': None, 'geo_enabled': True, 'verified': False, 'statuses_count': 2871, 'lang': None, 'contributors_enabled': False, 'is_translator': False, 'is_translation_enabled': False, 'profile_background_color': '000000', 'profile_background_image_url': 'http://abs.twimg.com/images/themes/theme1/bg.png', 'profile_background_image_url_https': 'https://abs.twimg.com/images/themes/theme1/bg.png', 'profile_background_tile': False, 'profile_image_url': 'http://pbs.twimg.com/profile_images/560435800320393216/EZpQEj-3_normal.jpeg', 'profile_image_url_https': 'https://pbs.twimg.com/profile_images/560435800320393216/EZpQEj-3_normal.jpeg', 'profile_link_color': '1B95E0', 'profile_sidebar_border_color': '000000', 'profile_sidebar_fill_color': '000000', 'profile_text_color': '000000', 'profile_use_background_image': False, 'has_extended_profile': True, 'default_profile': False, 'default_profile_image': False, 'following': False, 'follow_request_sent': False, 'notifications': False, 'translator_type': 'none'}, id=995541860, id_str='995541860', name='Paramendra Mohan', screen_name='paramendramohan', location='New Delhi, India', description='Journalist. Ex Deputy Executive Editor INDIA TV, D.E.P. Zee Media, Content Head IBC24 Digital, Worked in Zee News, AAJ TAK, Sahara Samay, ETV, Swatantra Vaarta.', url=None, entities={'description': {'urls': []}}, protected=False, followers_count=293, friends_count=215, listed_count=2, created_at=datetime.datetime(2012, 12, 7, 17, 49, 42), favourites_count=1481, utc_offset=None, time_zone=None, geo_enabled=True, verified=False, statuses_count=2871, lang=None, contributors_enabled=False, is_translator=False, is_translation_enabled=False, profile_background_color='000000', profile_background_image_url='http://abs.twimg.com/images/themes/theme1/bg.png', profile_background_image_url_https='https://abs.twimg.com/images/themes/theme1/bg.png', profile_background_tile=False, profile_image_url='http://pbs.twimg.com/profile_images/560435800320393216/EZpQEj-3_normal.jpeg', profile_image_url_https='https://pbs.twimg.com/profile_images/560435800320393216/EZpQEj-3_normal.jpeg', profile_link_color='1B95E0', profile_sidebar_border_color='000000', profile_sidebar_fill_color='000000', profile_text_color='000000', profile_use_background_image=False, has_extended_profile=True, default_profile=False, default_profile_image=False, following=False, follow_request_sent=False, notifications=False, translator_type='none'), user=User(_api=<tweepy.api.API object at 0x00000200B4D69D30>, _json={'id': 995541860, 'id_str': '995541860', 'name': 'Paramendra Mohan', 'screen_name': 'paramendramohan', 'location': 'New Delhi, India', 'description': 'Journalist. Ex Deputy Executive Editor INDIA TV, D.E.P. Zee Media, Content Head IBC24 Digital, Worked in Zee News, AAJ TAK, Sahara Samay, ETV, Swatantra Vaarta.', 'url': None, 'entities': {'description': {'urls': []}}, 'protected': False, 'followers_count': 293, 'friends_count': 215, 'listed_count': 2, 'created_at': 'Fri Dec 07 17:49:42 +0000 2012', 'favourites_count': 1481, 'utc_offset': None, 'time_zone': None, 'geo_enabled': True, 'verified': False, 'statuses_count': 2871, 'lang': None, 'contributors_enabled': False, 'is_translator': False, 'is_translation_enabled': False, 'profile_background_color': '000000', 'profile_background_image_url': 'http://abs.twimg.com/images/themes/theme1/bg.png', 'profile_background_image_url_https': 'https://abs.twimg.com/images/themes/theme1/bg.png', 'profile_background_tile': False, 'profile_image_url': 'http://pbs.twimg.com/profile_images/560435800320393216/EZpQEj-3_normal.jpeg', 'profile_image_url_https': 'https://pbs.twimg.com/profile_images/560435800320393216/EZpQEj-3_normal.jpeg', 'profile_link_color': '1B95E0', 'profile_sidebar_border_color': '000000', 'profile_sidebar_fill_color': '000000', 'profile_text_color': '000000', 'profile_use_background_image': False, 'has_extended_profile': True, 'default_profile': False, 'default_profile_image': False, 'following': False, 'follow_request_sent': False, 'notifications': False, 'translator_type': 'none'}, id=995541860, id_str='995541860', name='Paramendra Mohan', screen_name='paramendramohan', location='New Delhi, India', description='Journalist. Ex Deputy Executive Editor INDIA TV, D.E.P. Zee Media, Content Head IBC24 Digital, Worked in Zee News, AAJ TAK, Sahara Samay, ETV, Swatantra Vaarta.', url=None, entities={'description': {'urls': []}}, protected=False, followers_count=293, friends_count=215, listed_count=2, created_at=datetime.datetime(2012, 12, 7, 17, 49, 42), favourites_count=1481, utc_offset=None, time_zone=None, geo_enabled=True, verified=False, statuses_count=2871, lang=None, contributors_enabled=False, is_translator=False, is_translation_enabled=False, profile_background_color='000000', profile_background_image_url='http://abs.twimg.com/images/themes/theme1/bg.png', profile_background_image_url_https='https://abs.twimg.com/images/themes/theme1/bg.png', profile_background_tile=False, profile_image_url='http://pbs.twimg.com/profile_images/560435800320393216/EZpQEj-3_normal.jpeg', profile_image_url_https='https://pbs.twimg.com/profile_images/560435800320393216/EZpQEj-3_normal.jpeg', profile_link_color='1B95E0', profile_sidebar_border_color='000000', profile_sidebar_fill_color='000000', profile_text_color='000000', profile_use_background_image=False, has_extended_profile=True, default_profile=False, default_profile_image=False, following=False, follow_request_sent=False, notifications=False, translator_type='none'), geo=None, coordinates=None, place=None, contributors=None, is_quote_status=False, retweet_count=0, favorite_count=0, favorited=False, retweeted=False, lang='en') \n",
      "\n",
      "--------------------------------------------------\n",
      "\n",
      "Status(_api=<tweepy.api.API object at 0x00000200B4D69D30>, _json={'created_at': 'Sat Nov 21 16:44:29 +0000 2020', 'id': 1330190355896147969, 'id_str': '1330190355896147969', 'full_text': \"Today, NDTV journalist was saying that Bihar's higher immunity may be the reason for lower corona cases otherwise the way things were during #Bihar election, situation could be dangerous. But, nothing has happened. #COVID https://t.co/WxNOmtdsOG\", 'truncated': False, 'display_text_range': [0, 221], 'entities': {'hashtags': [{'text': 'Bihar', 'indices': [141, 147]}, {'text': 'COVID', 'indices': [215, 221]}], 'symbols': [], 'user_mentions': [], 'urls': [{'url': 'https://t.co/WxNOmtdsOG', 'expanded_url': 'https://twitter.com/KomalNahta/status/1330117823029522434', 'display_url': 'twitter.com/KomalNahta/sta…', 'indices': [222, 245]}]}, 'metadata': {'iso_language_code': 'en', 'result_type': 'recent'}, 'source': '<a href=\"http://twitter.com/download/android\" rel=\"nofollow\">Twitter for Android</a>', 'in_reply_to_status_id': None, 'in_reply_to_status_id_str': None, 'in_reply_to_user_id': None, 'in_reply_to_user_id_str': None, 'in_reply_to_screen_name': None, 'user': {'id': 6464852, 'id_str': '6464852', 'name': 'Satya Prakash', 'screen_name': 'sa8ypr', 'location': 'India', 'description': \"Stock Market • Economy • Social • Once Web Tech Experts • BCA & MCA, '99 - 03 • I'm the proof; Alive to reveal that BJP n RSS inject chemical poison and infect.\", 'url': 'https://t.co/qlAeTxVWvg', 'entities': {'url': {'urls': [{'url': 'https://t.co/qlAeTxVWvg', 'expanded_url': 'http://newsviews.satya-weblog.com', 'display_url': 'newsviews.satya-weblog.com', 'indices': [0, 23]}]}, 'description': {'urls': []}}, 'protected': False, 'followers_count': 1143, 'friends_count': 521, 'listed_count': 53, 'created_at': 'Thu May 31 07:43:35 +0000 2007', 'favourites_count': 13164, 'utc_offset': None, 'time_zone': None, 'geo_enabled': True, 'verified': False, 'statuses_count': 36471, 'lang': None, 'contributors_enabled': False, 'is_translator': False, 'is_translation_enabled': False, 'profile_background_color': 'ACDED6', 'profile_background_image_url': 'http://abs.twimg.com/images/themes/theme18/bg.gif', 'profile_background_image_url_https': 'https://abs.twimg.com/images/themes/theme18/bg.gif', 'profile_background_tile': False, 'profile_image_url': 'http://pbs.twimg.com/profile_images/1276569920977788928/5pZK1rvN_normal.jpg', 'profile_image_url_https': 'https://pbs.twimg.com/profile_images/1276569920977788928/5pZK1rvN_normal.jpg', 'profile_banner_url': 'https://pbs.twimg.com/profile_banners/6464852/1572082252', 'profile_link_color': 'E1771E', 'profile_sidebar_border_color': '000000', 'profile_sidebar_fill_color': 'F6F6F6', 'profile_text_color': '333333', 'profile_use_background_image': True, 'has_extended_profile': False, 'default_profile': False, 'default_profile_image': False, 'following': False, 'follow_request_sent': False, 'notifications': False, 'translator_type': 'none'}, 'geo': None, 'coordinates': None, 'place': None, 'contributors': None, 'is_quote_status': True, 'quoted_status_id': 1330117823029522434, 'quoted_status_id_str': '1330117823029522434', 'quoted_status': {'created_at': 'Sat Nov 21 11:56:16 +0000 2020', 'id': 1330117823029522434, 'id_str': '1330117823029522434', 'full_text': 'Chhatth proves bountiful for the box-office in Bihar. Bhojpuri film ‘Dostana’ opens today to full houses. Bhojpuri film ‘Pawan Putra’ also opens to excellent houses. Good mass-appealing films will revive cinemas, it seems!', 'truncated': False, 'display_text_range': [0, 222], 'entities': {'hashtags': [], 'symbols': [], 'user_mentions': [], 'urls': []}, 'metadata': {'iso_language_code': 'en', 'result_type': 'recent'}, 'source': '<a href=\"http://twitter.com/download/iphone\" rel=\"nofollow\">Twitter for iPhone</a>', 'in_reply_to_status_id': None, 'in_reply_to_status_id_str': None, 'in_reply_to_user_id': None, 'in_reply_to_user_id_str': None, 'in_reply_to_screen_name': None, 'user': {'id': 115290697, 'id_str': '115290697', 'name': 'Komal Nahta', 'screen_name': 'KomalNahta', 'location': 'Bombay', 'description': 'Film trade analyst l Host, ETC Bollywood Business l Editor, Film Information & https://t.co/m0xWohIlvA I Host, Starry Nights', 'url': 'https://t.co/Cmd2NGXe1Y', 'entities': {'url': {'urls': [{'url': 'https://t.co/Cmd2NGXe1Y', 'expanded_url': 'http://www.filminformation.com', 'display_url': 'filminformation.com', 'indices': [0, 23]}]}, 'description': {'urls': [{'url': 'https://t.co/m0xWohIlvA', 'expanded_url': 'http://filminformation.com', 'display_url': 'filminformation.com', 'indices': [79, 102]}]}}, 'protected': False, 'followers_count': 1007210, 'friends_count': 31, 'listed_count': 616, 'created_at': 'Thu Feb 18 06:08:43 +0000 2010', 'favourites_count': 117, 'utc_offset': None, 'time_zone': None, 'geo_enabled': True, 'verified': True, 'statuses_count': 11380, 'lang': None, 'contributors_enabled': False, 'is_translator': False, 'is_translation_enabled': False, 'profile_background_color': 'ACDED6', 'profile_background_image_url': 'http://abs.twimg.com/images/themes/theme18/bg.gif', 'profile_background_image_url_https': 'https://abs.twimg.com/images/themes/theme18/bg.gif', 'profile_background_tile': False, 'profile_image_url': 'http://pbs.twimg.com/profile_images/1142512614544760839/Y5PIrLI5_normal.png', 'profile_image_url_https': 'https://pbs.twimg.com/profile_images/1142512614544760839/Y5PIrLI5_normal.png', 'profile_banner_url': 'https://pbs.twimg.com/profile_banners/115290697/1566560070', 'profile_link_color': '038543', 'profile_sidebar_border_color': 'EEEEEE', 'profile_sidebar_fill_color': 'F6F6F6', 'profile_text_color': '333333', 'profile_use_background_image': True, 'has_extended_profile': False, 'default_profile': False, 'default_profile_image': False, 'following': False, 'follow_request_sent': False, 'notifications': False, 'translator_type': 'none'}, 'geo': None, 'coordinates': None, 'place': None, 'contributors': None, 'is_quote_status': False, 'retweet_count': 8, 'favorite_count': 208, 'favorited': False, 'retweeted': False, 'lang': 'en'}, 'retweet_count': 0, 'favorite_count': 0, 'favorited': False, 'retweeted': False, 'possibly_sensitive': False, 'lang': 'en'}, created_at=datetime.datetime(2020, 11, 21, 16, 44, 29), id=1330190355896147969, id_str='1330190355896147969', full_text=\"Today, NDTV journalist was saying that Bihar's higher immunity may be the reason for lower corona cases otherwise the way things were during #Bihar election, situation could be dangerous. But, nothing has happened. #COVID https://t.co/WxNOmtdsOG\", truncated=False, display_text_range=[0, 221], entities={'hashtags': [{'text': 'Bihar', 'indices': [141, 147]}, {'text': 'COVID', 'indices': [215, 221]}], 'symbols': [], 'user_mentions': [], 'urls': [{'url': 'https://t.co/WxNOmtdsOG', 'expanded_url': 'https://twitter.com/KomalNahta/status/1330117823029522434', 'display_url': 'twitter.com/KomalNahta/sta…', 'indices': [222, 245]}]}, metadata={'iso_language_code': 'en', 'result_type': 'recent'}, source='Twitter for Android', source_url='http://twitter.com/download/android', in_reply_to_status_id=None, in_reply_to_status_id_str=None, in_reply_to_user_id=None, in_reply_to_user_id_str=None, in_reply_to_screen_name=None, author=User(_api=<tweepy.api.API object at 0x00000200B4D69D30>, _json={'id': 6464852, 'id_str': '6464852', 'name': 'Satya Prakash', 'screen_name': 'sa8ypr', 'location': 'India', 'description': \"Stock Market • Economy • Social • Once Web Tech Experts • BCA & MCA, '99 - 03 • I'm the proof; Alive to reveal that BJP n RSS inject chemical poison and infect.\", 'url': 'https://t.co/qlAeTxVWvg', 'entities': {'url': {'urls': [{'url': 'https://t.co/qlAeTxVWvg', 'expanded_url': 'http://newsviews.satya-weblog.com', 'display_url': 'newsviews.satya-weblog.com', 'indices': [0, 23]}]}, 'description': {'urls': []}}, 'protected': False, 'followers_count': 1143, 'friends_count': 521, 'listed_count': 53, 'created_at': 'Thu May 31 07:43:35 +0000 2007', 'favourites_count': 13164, 'utc_offset': None, 'time_zone': None, 'geo_enabled': True, 'verified': False, 'statuses_count': 36471, 'lang': None, 'contributors_enabled': False, 'is_translator': False, 'is_translation_enabled': False, 'profile_background_color': 'ACDED6', 'profile_background_image_url': 'http://abs.twimg.com/images/themes/theme18/bg.gif', 'profile_background_image_url_https': 'https://abs.twimg.com/images/themes/theme18/bg.gif', 'profile_background_tile': False, 'profile_image_url': 'http://pbs.twimg.com/profile_images/1276569920977788928/5pZK1rvN_normal.jpg', 'profile_image_url_https': 'https://pbs.twimg.com/profile_images/1276569920977788928/5pZK1rvN_normal.jpg', 'profile_banner_url': 'https://pbs.twimg.com/profile_banners/6464852/1572082252', 'profile_link_color': 'E1771E', 'profile_sidebar_border_color': '000000', 'profile_sidebar_fill_color': 'F6F6F6', 'profile_text_color': '333333', 'profile_use_background_image': True, 'has_extended_profile': False, 'default_profile': False, 'default_profile_image': False, 'following': False, 'follow_request_sent': False, 'notifications': False, 'translator_type': 'none'}, id=6464852, id_str='6464852', name='Satya Prakash', screen_name='sa8ypr', location='India', description=\"Stock Market • Economy • Social • Once Web Tech Experts • BCA & MCA, '99 - 03 • I'm the proof; Alive to reveal that BJP n RSS inject chemical poison and infect.\", url='https://t.co/qlAeTxVWvg', entities={'url': {'urls': [{'url': 'https://t.co/qlAeTxVWvg', 'expanded_url': 'http://newsviews.satya-weblog.com', 'display_url': 'newsviews.satya-weblog.com', 'indices': [0, 23]}]}, 'description': {'urls': []}}, protected=False, followers_count=1143, friends_count=521, listed_count=53, created_at=datetime.datetime(2007, 5, 31, 7, 43, 35), favourites_count=13164, utc_offset=None, time_zone=None, geo_enabled=True, verified=False, statuses_count=36471, lang=None, contributors_enabled=False, is_translator=False, is_translation_enabled=False, profile_background_color='ACDED6', profile_background_image_url='http://abs.twimg.com/images/themes/theme18/bg.gif', profile_background_image_url_https='https://abs.twimg.com/images/themes/theme18/bg.gif', profile_background_tile=False, profile_image_url='http://pbs.twimg.com/profile_images/1276569920977788928/5pZK1rvN_normal.jpg', profile_image_url_https='https://pbs.twimg.com/profile_images/1276569920977788928/5pZK1rvN_normal.jpg', profile_banner_url='https://pbs.twimg.com/profile_banners/6464852/1572082252', profile_link_color='E1771E', profile_sidebar_border_color='000000', profile_sidebar_fill_color='F6F6F6', profile_text_color='333333', profile_use_background_image=True, has_extended_profile=False, default_profile=False, default_profile_image=False, following=False, follow_request_sent=False, notifications=False, translator_type='none'), user=User(_api=<tweepy.api.API object at 0x00000200B4D69D30>, _json={'id': 6464852, 'id_str': '6464852', 'name': 'Satya Prakash', 'screen_name': 'sa8ypr', 'location': 'India', 'description': \"Stock Market • Economy • Social • Once Web Tech Experts • BCA & MCA, '99 - 03 • I'm the proof; Alive to reveal that BJP n RSS inject chemical poison and infect.\", 'url': 'https://t.co/qlAeTxVWvg', 'entities': {'url': {'urls': [{'url': 'https://t.co/qlAeTxVWvg', 'expanded_url': 'http://newsviews.satya-weblog.com', 'display_url': 'newsviews.satya-weblog.com', 'indices': [0, 23]}]}, 'description': {'urls': []}}, 'protected': False, 'followers_count': 1143, 'friends_count': 521, 'listed_count': 53, 'created_at': 'Thu May 31 07:43:35 +0000 2007', 'favourites_count': 13164, 'utc_offset': None, 'time_zone': None, 'geo_enabled': True, 'verified': False, 'statuses_count': 36471, 'lang': None, 'contributors_enabled': False, 'is_translator': False, 'is_translation_enabled': False, 'profile_background_color': 'ACDED6', 'profile_background_image_url': 'http://abs.twimg.com/images/themes/theme18/bg.gif', 'profile_background_image_url_https': 'https://abs.twimg.com/images/themes/theme18/bg.gif', 'profile_background_tile': False, 'profile_image_url': 'http://pbs.twimg.com/profile_images/1276569920977788928/5pZK1rvN_normal.jpg', 'profile_image_url_https': 'https://pbs.twimg.com/profile_images/1276569920977788928/5pZK1rvN_normal.jpg', 'profile_banner_url': 'https://pbs.twimg.com/profile_banners/6464852/1572082252', 'profile_link_color': 'E1771E', 'profile_sidebar_border_color': '000000', 'profile_sidebar_fill_color': 'F6F6F6', 'profile_text_color': '333333', 'profile_use_background_image': True, 'has_extended_profile': False, 'default_profile': False, 'default_profile_image': False, 'following': False, 'follow_request_sent': False, 'notifications': False, 'translator_type': 'none'}, id=6464852, id_str='6464852', name='Satya Prakash', screen_name='sa8ypr', location='India', description=\"Stock Market • Economy • Social • Once Web Tech Experts • BCA & MCA, '99 - 03 • I'm the proof; Alive to reveal that BJP n RSS inject chemical poison and infect.\", url='https://t.co/qlAeTxVWvg', entities={'url': {'urls': [{'url': 'https://t.co/qlAeTxVWvg', 'expanded_url': 'http://newsviews.satya-weblog.com', 'display_url': 'newsviews.satya-weblog.com', 'indices': [0, 23]}]}, 'description': {'urls': []}}, protected=False, followers_count=1143, friends_count=521, listed_count=53, created_at=datetime.datetime(2007, 5, 31, 7, 43, 35), favourites_count=13164, utc_offset=None, time_zone=None, geo_enabled=True, verified=False, statuses_count=36471, lang=None, contributors_enabled=False, is_translator=False, is_translation_enabled=False, profile_background_color='ACDED6', profile_background_image_url='http://abs.twimg.com/images/themes/theme18/bg.gif', profile_background_image_url_https='https://abs.twimg.com/images/themes/theme18/bg.gif', profile_background_tile=False, profile_image_url='http://pbs.twimg.com/profile_images/1276569920977788928/5pZK1rvN_normal.jpg', profile_image_url_https='https://pbs.twimg.com/profile_images/1276569920977788928/5pZK1rvN_normal.jpg', profile_banner_url='https://pbs.twimg.com/profile_banners/6464852/1572082252', profile_link_color='E1771E', profile_sidebar_border_color='000000', profile_sidebar_fill_color='F6F6F6', profile_text_color='333333', profile_use_background_image=True, has_extended_profile=False, default_profile=False, default_profile_image=False, following=False, follow_request_sent=False, notifications=False, translator_type='none'), geo=None, coordinates=None, place=None, contributors=None, is_quote_status=True, quoted_status_id=1330117823029522434, quoted_status_id_str='1330117823029522434', quoted_status=Status(_api=<tweepy.api.API object at 0x00000200B4D69D30>, _json={'created_at': 'Sat Nov 21 11:56:16 +0000 2020', 'id': 1330117823029522434, 'id_str': '1330117823029522434', 'full_text': 'Chhatth proves bountiful for the box-office in Bihar. Bhojpuri film ‘Dostana’ opens today to full houses. Bhojpuri film ‘Pawan Putra’ also opens to excellent houses. Good mass-appealing films will revive cinemas, it seems!', 'truncated': False, 'display_text_range': [0, 222], 'entities': {'hashtags': [], 'symbols': [], 'user_mentions': [], 'urls': []}, 'metadata': {'iso_language_code': 'en', 'result_type': 'recent'}, 'source': '<a href=\"http://twitter.com/download/iphone\" rel=\"nofollow\">Twitter for iPhone</a>', 'in_reply_to_status_id': None, 'in_reply_to_status_id_str': None, 'in_reply_to_user_id': None, 'in_reply_to_user_id_str': None, 'in_reply_to_screen_name': None, 'user': {'id': 115290697, 'id_str': '115290697', 'name': 'Komal Nahta', 'screen_name': 'KomalNahta', 'location': 'Bombay', 'description': 'Film trade analyst l Host, ETC Bollywood Business l Editor, Film Information & https://t.co/m0xWohIlvA I Host, Starry Nights', 'url': 'https://t.co/Cmd2NGXe1Y', 'entities': {'url': {'urls': [{'url': 'https://t.co/Cmd2NGXe1Y', 'expanded_url': 'http://www.filminformation.com', 'display_url': 'filminformation.com', 'indices': [0, 23]}]}, 'description': {'urls': [{'url': 'https://t.co/m0xWohIlvA', 'expanded_url': 'http://filminformation.com', 'display_url': 'filminformation.com', 'indices': [79, 102]}]}}, 'protected': False, 'followers_count': 1007210, 'friends_count': 31, 'listed_count': 616, 'created_at': 'Thu Feb 18 06:08:43 +0000 2010', 'favourites_count': 117, 'utc_offset': None, 'time_zone': None, 'geo_enabled': True, 'verified': True, 'statuses_count': 11380, 'lang': None, 'contributors_enabled': False, 'is_translator': False, 'is_translation_enabled': False, 'profile_background_color': 'ACDED6', 'profile_background_image_url': 'http://abs.twimg.com/images/themes/theme18/bg.gif', 'profile_background_image_url_https': 'https://abs.twimg.com/images/themes/theme18/bg.gif', 'profile_background_tile': False, 'profile_image_url': 'http://pbs.twimg.com/profile_images/1142512614544760839/Y5PIrLI5_normal.png', 'profile_image_url_https': 'https://pbs.twimg.com/profile_images/1142512614544760839/Y5PIrLI5_normal.png', 'profile_banner_url': 'https://pbs.twimg.com/profile_banners/115290697/1566560070', 'profile_link_color': '038543', 'profile_sidebar_border_color': 'EEEEEE', 'profile_sidebar_fill_color': 'F6F6F6', 'profile_text_color': '333333', 'profile_use_background_image': True, 'has_extended_profile': False, 'default_profile': False, 'default_profile_image': False, 'following': False, 'follow_request_sent': False, 'notifications': False, 'translator_type': 'none'}, 'geo': None, 'coordinates': None, 'place': None, 'contributors': None, 'is_quote_status': False, 'retweet_count': 8, 'favorite_count': 208, 'favorited': False, 'retweeted': False, 'lang': 'en'}, created_at=datetime.datetime(2020, 11, 21, 11, 56, 16), id=1330117823029522434, id_str='1330117823029522434', full_text='Chhatth proves bountiful for the box-office in Bihar. Bhojpuri film ‘Dostana’ opens today to full houses. Bhojpuri film ‘Pawan Putra’ also opens to excellent houses. Good mass-appealing films will revive cinemas, it seems!', truncated=False, display_text_range=[0, 222], entities={'hashtags': [], 'symbols': [], 'user_mentions': [], 'urls': []}, metadata={'iso_language_code': 'en', 'result_type': 'recent'}, source='Twitter for iPhone', source_url='http://twitter.com/download/iphone', in_reply_to_status_id=None, in_reply_to_status_id_str=None, in_reply_to_user_id=None, in_reply_to_user_id_str=None, in_reply_to_screen_name=None, author=User(_api=<tweepy.api.API object at 0x00000200B4D69D30>, _json={'id': 115290697, 'id_str': '115290697', 'name': 'Komal Nahta', 'screen_name': 'KomalNahta', 'location': 'Bombay', 'description': 'Film trade analyst l Host, ETC Bollywood Business l Editor, Film Information & https://t.co/m0xWohIlvA I Host, Starry Nights', 'url': 'https://t.co/Cmd2NGXe1Y', 'entities': {'url': {'urls': [{'url': 'https://t.co/Cmd2NGXe1Y', 'expanded_url': 'http://www.filminformation.com', 'display_url': 'filminformation.com', 'indices': [0, 23]}]}, 'description': {'urls': [{'url': 'https://t.co/m0xWohIlvA', 'expanded_url': 'http://filminformation.com', 'display_url': 'filminformation.com', 'indices': [79, 102]}]}}, 'protected': False, 'followers_count': 1007210, 'friends_count': 31, 'listed_count': 616, 'created_at': 'Thu Feb 18 06:08:43 +0000 2010', 'favourites_count': 117, 'utc_offset': None, 'time_zone': None, 'geo_enabled': True, 'verified': True, 'statuses_count': 11380, 'lang': None, 'contributors_enabled': False, 'is_translator': False, 'is_translation_enabled': False, 'profile_background_color': 'ACDED6', 'profile_background_image_url': 'http://abs.twimg.com/images/themes/theme18/bg.gif', 'profile_background_image_url_https': 'https://abs.twimg.com/images/themes/theme18/bg.gif', 'profile_background_tile': False, 'profile_image_url': 'http://pbs.twimg.com/profile_images/1142512614544760839/Y5PIrLI5_normal.png', 'profile_image_url_https': 'https://pbs.twimg.com/profile_images/1142512614544760839/Y5PIrLI5_normal.png', 'profile_banner_url': 'https://pbs.twimg.com/profile_banners/115290697/1566560070', 'profile_link_color': '038543', 'profile_sidebar_border_color': 'EEEEEE', 'profile_sidebar_fill_color': 'F6F6F6', 'profile_text_color': '333333', 'profile_use_background_image': True, 'has_extended_profile': False, 'default_profile': False, 'default_profile_image': False, 'following': False, 'follow_request_sent': False, 'notifications': False, 'translator_type': 'none'}, id=115290697, id_str='115290697', name='Komal Nahta', screen_name='KomalNahta', location='Bombay', description='Film trade analyst l Host, ETC Bollywood Business l Editor, Film Information & https://t.co/m0xWohIlvA I Host, Starry Nights', url='https://t.co/Cmd2NGXe1Y', entities={'url': {'urls': [{'url': 'https://t.co/Cmd2NGXe1Y', 'expanded_url': 'http://www.filminformation.com', 'display_url': 'filminformation.com', 'indices': [0, 23]}]}, 'description': {'urls': [{'url': 'https://t.co/m0xWohIlvA', 'expanded_url': 'http://filminformation.com', 'display_url': 'filminformation.com', 'indices': [79, 102]}]}}, protected=False, followers_count=1007210, friends_count=31, listed_count=616, created_at=datetime.datetime(2010, 2, 18, 6, 8, 43), favourites_count=117, utc_offset=None, time_zone=None, geo_enabled=True, verified=True, statuses_count=11380, lang=None, contributors_enabled=False, is_translator=False, is_translation_enabled=False, profile_background_color='ACDED6', profile_background_image_url='http://abs.twimg.com/images/themes/theme18/bg.gif', profile_background_image_url_https='https://abs.twimg.com/images/themes/theme18/bg.gif', profile_background_tile=False, profile_image_url='http://pbs.twimg.com/profile_images/1142512614544760839/Y5PIrLI5_normal.png', profile_image_url_https='https://pbs.twimg.com/profile_images/1142512614544760839/Y5PIrLI5_normal.png', profile_banner_url='https://pbs.twimg.com/profile_banners/115290697/1566560070', profile_link_color='038543', profile_sidebar_border_color='EEEEEE', profile_sidebar_fill_color='F6F6F6', profile_text_color='333333', profile_use_background_image=True, has_extended_profile=False, default_profile=False, default_profile_image=False, following=False, follow_request_sent=False, notifications=False, translator_type='none'), user=User(_api=<tweepy.api.API object at 0x00000200B4D69D30>, _json={'id': 115290697, 'id_str': '115290697', 'name': 'Komal Nahta', 'screen_name': 'KomalNahta', 'location': 'Bombay', 'description': 'Film trade analyst l Host, ETC Bollywood Business l Editor, Film Information & https://t.co/m0xWohIlvA I Host, Starry Nights', 'url': 'https://t.co/Cmd2NGXe1Y', 'entities': {'url': {'urls': [{'url': 'https://t.co/Cmd2NGXe1Y', 'expanded_url': 'http://www.filminformation.com', 'display_url': 'filminformation.com', 'indices': [0, 23]}]}, 'description': {'urls': [{'url': 'https://t.co/m0xWohIlvA', 'expanded_url': 'http://filminformation.com', 'display_url': 'filminformation.com', 'indices': [79, 102]}]}}, 'protected': False, 'followers_count': 1007210, 'friends_count': 31, 'listed_count': 616, 'created_at': 'Thu Feb 18 06:08:43 +0000 2010', 'favourites_count': 117, 'utc_offset': None, 'time_zone': None, 'geo_enabled': True, 'verified': True, 'statuses_count': 11380, 'lang': None, 'contributors_enabled': False, 'is_translator': False, 'is_translation_enabled': False, 'profile_background_color': 'ACDED6', 'profile_background_image_url': 'http://abs.twimg.com/images/themes/theme18/bg.gif', 'profile_background_image_url_https': 'https://abs.twimg.com/images/themes/theme18/bg.gif', 'profile_background_tile': False, 'profile_image_url': 'http://pbs.twimg.com/profile_images/1142512614544760839/Y5PIrLI5_normal.png', 'profile_image_url_https': 'https://pbs.twimg.com/profile_images/1142512614544760839/Y5PIrLI5_normal.png', 'profile_banner_url': 'https://pbs.twimg.com/profile_banners/115290697/1566560070', 'profile_link_color': '038543', 'profile_sidebar_border_color': 'EEEEEE', 'profile_sidebar_fill_color': 'F6F6F6', 'profile_text_color': '333333', 'profile_use_background_image': True, 'has_extended_profile': False, 'default_profile': False, 'default_profile_image': False, 'following': False, 'follow_request_sent': False, 'notifications': False, 'translator_type': 'none'}, id=115290697, id_str='115290697', name='Komal Nahta', screen_name='KomalNahta', location='Bombay', description='Film trade analyst l Host, ETC Bollywood Business l Editor, Film Information & https://t.co/m0xWohIlvA I Host, Starry Nights', url='https://t.co/Cmd2NGXe1Y', entities={'url': {'urls': [{'url': 'https://t.co/Cmd2NGXe1Y', 'expanded_url': 'http://www.filminformation.com', 'display_url': 'filminformation.com', 'indices': [0, 23]}]}, 'description': {'urls': [{'url': 'https://t.co/m0xWohIlvA', 'expanded_url': 'http://filminformation.com', 'display_url': 'filminformation.com', 'indices': [79, 102]}]}}, protected=False, followers_count=1007210, friends_count=31, listed_count=616, created_at=datetime.datetime(2010, 2, 18, 6, 8, 43), favourites_count=117, utc_offset=None, time_zone=None, geo_enabled=True, verified=True, statuses_count=11380, lang=None, contributors_enabled=False, is_translator=False, is_translation_enabled=False, profile_background_color='ACDED6', profile_background_image_url='http://abs.twimg.com/images/themes/theme18/bg.gif', profile_background_image_url_https='https://abs.twimg.com/images/themes/theme18/bg.gif', profile_background_tile=False, profile_image_url='http://pbs.twimg.com/profile_images/1142512614544760839/Y5PIrLI5_normal.png', profile_image_url_https='https://pbs.twimg.com/profile_images/1142512614544760839/Y5PIrLI5_normal.png', profile_banner_url='https://pbs.twimg.com/profile_banners/115290697/1566560070', profile_link_color='038543', profile_sidebar_border_color='EEEEEE', profile_sidebar_fill_color='F6F6F6', profile_text_color='333333', profile_use_background_image=True, has_extended_profile=False, default_profile=False, default_profile_image=False, following=False, follow_request_sent=False, notifications=False, translator_type='none'), geo=None, coordinates=None, place=None, contributors=None, is_quote_status=False, retweet_count=8, favorite_count=208, favorited=False, retweeted=False, lang='en'), retweet_count=0, favorite_count=0, favorited=False, retweeted=False, possibly_sensitive=False, lang='en') \n",
      "\n",
      "--------------------------------------------------\n",
      "\n",
      "Status(_api=<tweepy.api.API object at 0x00000200B4D69D30>, _json={'created_at': 'Sat Nov 21 16:40:52 +0000 2020', 'id': 1330189445472137217, 'id_str': '1330189445472137217', 'full_text': \"@karanjohar Today, NDTV was telling that Bihar's higher immunity may be the reason for lower corona cases otherwise the way things were during #Bihar election things could be dangerous. But, nothing has happened. #COVID\", 'truncated': False, 'display_text_range': [12, 219], 'entities': {'hashtags': [{'text': 'Bihar', 'indices': [143, 149]}, {'text': 'COVID', 'indices': [213, 219]}], 'symbols': [], 'user_mentions': [{'screen_name': 'karanjohar', 'name': 'Karan Johar', 'id': 57928790, 'id_str': '57928790', 'indices': [0, 11]}], 'urls': []}, 'metadata': {'iso_language_code': 'en', 'result_type': 'recent'}, 'source': '<a href=\"http://twitter.com/download/android\" rel=\"nofollow\">Twitter for Android</a>', 'in_reply_to_status_id': 1330176908294807552, 'in_reply_to_status_id_str': '1330176908294807552', 'in_reply_to_user_id': 57928790, 'in_reply_to_user_id_str': '57928790', 'in_reply_to_screen_name': 'karanjohar', 'user': {'id': 6464852, 'id_str': '6464852', 'name': 'Satya Prakash', 'screen_name': 'sa8ypr', 'location': 'India', 'description': \"Stock Market • Economy • Social • Once Web Tech Experts • BCA & MCA, '99 - 03 • I'm the proof; Alive to reveal that BJP n RSS inject chemical poison and infect.\", 'url': 'https://t.co/qlAeTxVWvg', 'entities': {'url': {'urls': [{'url': 'https://t.co/qlAeTxVWvg', 'expanded_url': 'http://newsviews.satya-weblog.com', 'display_url': 'newsviews.satya-weblog.com', 'indices': [0, 23]}]}, 'description': {'urls': []}}, 'protected': False, 'followers_count': 1143, 'friends_count': 521, 'listed_count': 53, 'created_at': 'Thu May 31 07:43:35 +0000 2007', 'favourites_count': 13164, 'utc_offset': None, 'time_zone': None, 'geo_enabled': True, 'verified': False, 'statuses_count': 36471, 'lang': None, 'contributors_enabled': False, 'is_translator': False, 'is_translation_enabled': False, 'profile_background_color': 'ACDED6', 'profile_background_image_url': 'http://abs.twimg.com/images/themes/theme18/bg.gif', 'profile_background_image_url_https': 'https://abs.twimg.com/images/themes/theme18/bg.gif', 'profile_background_tile': False, 'profile_image_url': 'http://pbs.twimg.com/profile_images/1276569920977788928/5pZK1rvN_normal.jpg', 'profile_image_url_https': 'https://pbs.twimg.com/profile_images/1276569920977788928/5pZK1rvN_normal.jpg', 'profile_banner_url': 'https://pbs.twimg.com/profile_banners/6464852/1572082252', 'profile_link_color': 'E1771E', 'profile_sidebar_border_color': '000000', 'profile_sidebar_fill_color': 'F6F6F6', 'profile_text_color': '333333', 'profile_use_background_image': True, 'has_extended_profile': False, 'default_profile': False, 'default_profile_image': False, 'following': False, 'follow_request_sent': False, 'notifications': False, 'translator_type': 'none'}, 'geo': None, 'coordinates': None, 'place': None, 'contributors': None, 'is_quote_status': False, 'retweet_count': 0, 'favorite_count': 0, 'favorited': False, 'retweeted': False, 'lang': 'en'}, created_at=datetime.datetime(2020, 11, 21, 16, 40, 52), id=1330189445472137217, id_str='1330189445472137217', full_text=\"@karanjohar Today, NDTV was telling that Bihar's higher immunity may be the reason for lower corona cases otherwise the way things were during #Bihar election things could be dangerous. But, nothing has happened. #COVID\", truncated=False, display_text_range=[12, 219], entities={'hashtags': [{'text': 'Bihar', 'indices': [143, 149]}, {'text': 'COVID', 'indices': [213, 219]}], 'symbols': [], 'user_mentions': [{'screen_name': 'karanjohar', 'name': 'Karan Johar', 'id': 57928790, 'id_str': '57928790', 'indices': [0, 11]}], 'urls': []}, metadata={'iso_language_code': 'en', 'result_type': 'recent'}, source='Twitter for Android', source_url='http://twitter.com/download/android', in_reply_to_status_id=1330176908294807552, in_reply_to_status_id_str='1330176908294807552', in_reply_to_user_id=57928790, in_reply_to_user_id_str='57928790', in_reply_to_screen_name='karanjohar', author=User(_api=<tweepy.api.API object at 0x00000200B4D69D30>, _json={'id': 6464852, 'id_str': '6464852', 'name': 'Satya Prakash', 'screen_name': 'sa8ypr', 'location': 'India', 'description': \"Stock Market • Economy • Social • Once Web Tech Experts • BCA & MCA, '99 - 03 • I'm the proof; Alive to reveal that BJP n RSS inject chemical poison and infect.\", 'url': 'https://t.co/qlAeTxVWvg', 'entities': {'url': {'urls': [{'url': 'https://t.co/qlAeTxVWvg', 'expanded_url': 'http://newsviews.satya-weblog.com', 'display_url': 'newsviews.satya-weblog.com', 'indices': [0, 23]}]}, 'description': {'urls': []}}, 'protected': False, 'followers_count': 1143, 'friends_count': 521, 'listed_count': 53, 'created_at': 'Thu May 31 07:43:35 +0000 2007', 'favourites_count': 13164, 'utc_offset': None, 'time_zone': None, 'geo_enabled': True, 'verified': False, 'statuses_count': 36471, 'lang': None, 'contributors_enabled': False, 'is_translator': False, 'is_translation_enabled': False, 'profile_background_color': 'ACDED6', 'profile_background_image_url': 'http://abs.twimg.com/images/themes/theme18/bg.gif', 'profile_background_image_url_https': 'https://abs.twimg.com/images/themes/theme18/bg.gif', 'profile_background_tile': False, 'profile_image_url': 'http://pbs.twimg.com/profile_images/1276569920977788928/5pZK1rvN_normal.jpg', 'profile_image_url_https': 'https://pbs.twimg.com/profile_images/1276569920977788928/5pZK1rvN_normal.jpg', 'profile_banner_url': 'https://pbs.twimg.com/profile_banners/6464852/1572082252', 'profile_link_color': 'E1771E', 'profile_sidebar_border_color': '000000', 'profile_sidebar_fill_color': 'F6F6F6', 'profile_text_color': '333333', 'profile_use_background_image': True, 'has_extended_profile': False, 'default_profile': False, 'default_profile_image': False, 'following': False, 'follow_request_sent': False, 'notifications': False, 'translator_type': 'none'}, id=6464852, id_str='6464852', name='Satya Prakash', screen_name='sa8ypr', location='India', description=\"Stock Market • Economy • Social • Once Web Tech Experts • BCA & MCA, '99 - 03 • I'm the proof; Alive to reveal that BJP n RSS inject chemical poison and infect.\", url='https://t.co/qlAeTxVWvg', entities={'url': {'urls': [{'url': 'https://t.co/qlAeTxVWvg', 'expanded_url': 'http://newsviews.satya-weblog.com', 'display_url': 'newsviews.satya-weblog.com', 'indices': [0, 23]}]}, 'description': {'urls': []}}, protected=False, followers_count=1143, friends_count=521, listed_count=53, created_at=datetime.datetime(2007, 5, 31, 7, 43, 35), favourites_count=13164, utc_offset=None, time_zone=None, geo_enabled=True, verified=False, statuses_count=36471, lang=None, contributors_enabled=False, is_translator=False, is_translation_enabled=False, profile_background_color='ACDED6', profile_background_image_url='http://abs.twimg.com/images/themes/theme18/bg.gif', profile_background_image_url_https='https://abs.twimg.com/images/themes/theme18/bg.gif', profile_background_tile=False, profile_image_url='http://pbs.twimg.com/profile_images/1276569920977788928/5pZK1rvN_normal.jpg', profile_image_url_https='https://pbs.twimg.com/profile_images/1276569920977788928/5pZK1rvN_normal.jpg', profile_banner_url='https://pbs.twimg.com/profile_banners/6464852/1572082252', profile_link_color='E1771E', profile_sidebar_border_color='000000', profile_sidebar_fill_color='F6F6F6', profile_text_color='333333', profile_use_background_image=True, has_extended_profile=False, default_profile=False, default_profile_image=False, following=False, follow_request_sent=False, notifications=False, translator_type='none'), user=User(_api=<tweepy.api.API object at 0x00000200B4D69D30>, _json={'id': 6464852, 'id_str': '6464852', 'name': 'Satya Prakash', 'screen_name': 'sa8ypr', 'location': 'India', 'description': \"Stock Market • Economy • Social • Once Web Tech Experts • BCA & MCA, '99 - 03 • I'm the proof; Alive to reveal that BJP n RSS inject chemical poison and infect.\", 'url': 'https://t.co/qlAeTxVWvg', 'entities': {'url': {'urls': [{'url': 'https://t.co/qlAeTxVWvg', 'expanded_url': 'http://newsviews.satya-weblog.com', 'display_url': 'newsviews.satya-weblog.com', 'indices': [0, 23]}]}, 'description': {'urls': []}}, 'protected': False, 'followers_count': 1143, 'friends_count': 521, 'listed_count': 53, 'created_at': 'Thu May 31 07:43:35 +0000 2007', 'favourites_count': 13164, 'utc_offset': None, 'time_zone': None, 'geo_enabled': True, 'verified': False, 'statuses_count': 36471, 'lang': None, 'contributors_enabled': False, 'is_translator': False, 'is_translation_enabled': False, 'profile_background_color': 'ACDED6', 'profile_background_image_url': 'http://abs.twimg.com/images/themes/theme18/bg.gif', 'profile_background_image_url_https': 'https://abs.twimg.com/images/themes/theme18/bg.gif', 'profile_background_tile': False, 'profile_image_url': 'http://pbs.twimg.com/profile_images/1276569920977788928/5pZK1rvN_normal.jpg', 'profile_image_url_https': 'https://pbs.twimg.com/profile_images/1276569920977788928/5pZK1rvN_normal.jpg', 'profile_banner_url': 'https://pbs.twimg.com/profile_banners/6464852/1572082252', 'profile_link_color': 'E1771E', 'profile_sidebar_border_color': '000000', 'profile_sidebar_fill_color': 'F6F6F6', 'profile_text_color': '333333', 'profile_use_background_image': True, 'has_extended_profile': False, 'default_profile': False, 'default_profile_image': False, 'following': False, 'follow_request_sent': False, 'notifications': False, 'translator_type': 'none'}, id=6464852, id_str='6464852', name='Satya Prakash', screen_name='sa8ypr', location='India', description=\"Stock Market • Economy • Social • Once Web Tech Experts • BCA & MCA, '99 - 03 • I'm the proof; Alive to reveal that BJP n RSS inject chemical poison and infect.\", url='https://t.co/qlAeTxVWvg', entities={'url': {'urls': [{'url': 'https://t.co/qlAeTxVWvg', 'expanded_url': 'http://newsviews.satya-weblog.com', 'display_url': 'newsviews.satya-weblog.com', 'indices': [0, 23]}]}, 'description': {'urls': []}}, protected=False, followers_count=1143, friends_count=521, listed_count=53, created_at=datetime.datetime(2007, 5, 31, 7, 43, 35), favourites_count=13164, utc_offset=None, time_zone=None, geo_enabled=True, verified=False, statuses_count=36471, lang=None, contributors_enabled=False, is_translator=False, is_translation_enabled=False, profile_background_color='ACDED6', profile_background_image_url='http://abs.twimg.com/images/themes/theme18/bg.gif', profile_background_image_url_https='https://abs.twimg.com/images/themes/theme18/bg.gif', profile_background_tile=False, profile_image_url='http://pbs.twimg.com/profile_images/1276569920977788928/5pZK1rvN_normal.jpg', profile_image_url_https='https://pbs.twimg.com/profile_images/1276569920977788928/5pZK1rvN_normal.jpg', profile_banner_url='https://pbs.twimg.com/profile_banners/6464852/1572082252', profile_link_color='E1771E', profile_sidebar_border_color='000000', profile_sidebar_fill_color='F6F6F6', profile_text_color='333333', profile_use_background_image=True, has_extended_profile=False, default_profile=False, default_profile_image=False, following=False, follow_request_sent=False, notifications=False, translator_type='none'), geo=None, coordinates=None, place=None, contributors=None, is_quote_status=False, retweet_count=0, favorite_count=0, favorited=False, retweeted=False, lang='en') \n",
      "\n",
      "--------------------------------------------------\n",
      "\n",
      "Status(_api=<tweepy.api.API object at 0x00000200B4D69D30>, _json={'created_at': 'Sat Nov 21 16:31:12 +0000 2020', 'id': 1330187012440199172, 'id_str': '1330187012440199172', 'full_text': '@arvindgunasekar Your theory is solely based on your assumption that this EPS govt would fall in 2021. Time to learn from Bihar election also, peak of covid handling failure by Nitish Kumar govt and still NDA scraped through, compared EPS govt still have time to get things on track', 'truncated': False, 'display_text_range': [17, 282], 'entities': {'hashtags': [], 'symbols': [], 'user_mentions': [{'screen_name': 'arvindgunasekar', 'name': 'Arvind Gunasekar', 'id': 112709207, 'id_str': '112709207', 'indices': [0, 16]}], 'urls': []}, 'metadata': {'iso_language_code': 'en', 'result_type': 'recent'}, 'source': '<a href=\"http://twitter.com/download/iphone\" rel=\"nofollow\">Twitter for iPhone</a>', 'in_reply_to_status_id': 1330150538449711106, 'in_reply_to_status_id_str': '1330150538449711106', 'in_reply_to_user_id': 112709207, 'in_reply_to_user_id_str': '112709207', 'in_reply_to_screen_name': 'arvindgunasekar', 'user': {'id': 315660529, 'id_str': '315660529', 'name': 'Bhaskar Nagarajan', 'screen_name': 'baski652', 'location': 'Mumbai, India', 'description': '', 'url': None, 'entities': {'description': {'urls': []}}, 'protected': False, 'followers_count': 73, 'friends_count': 283, 'listed_count': 1, 'created_at': 'Sun Jun 12 07:16:15 +0000 2011', 'favourites_count': 1171, 'utc_offset': None, 'time_zone': None, 'geo_enabled': True, 'verified': False, 'statuses_count': 980, 'lang': None, 'contributors_enabled': False, 'is_translator': False, 'is_translation_enabled': False, 'profile_background_color': 'EBEBEB', 'profile_background_image_url': 'http://abs.twimg.com/images/themes/theme1/bg.png', 'profile_background_image_url_https': 'https://abs.twimg.com/images/themes/theme1/bg.png', 'profile_background_tile': True, 'profile_image_url': 'http://pbs.twimg.com/profile_images/1392340218/Bhaskar_Nagarajan_normal.jpg', 'profile_image_url_https': 'https://pbs.twimg.com/profile_images/1392340218/Bhaskar_Nagarajan_normal.jpg', 'profile_link_color': '990000', 'profile_sidebar_border_color': 'FFFFFF', 'profile_sidebar_fill_color': 'F3F3F3', 'profile_text_color': '333333', 'profile_use_background_image': True, 'has_extended_profile': True, 'default_profile': False, 'default_profile_image': False, 'following': False, 'follow_request_sent': False, 'notifications': False, 'translator_type': 'none'}, 'geo': None, 'coordinates': None, 'place': None, 'contributors': None, 'is_quote_status': False, 'retweet_count': 0, 'favorite_count': 0, 'favorited': False, 'retweeted': False, 'lang': 'en'}, created_at=datetime.datetime(2020, 11, 21, 16, 31, 12), id=1330187012440199172, id_str='1330187012440199172', full_text='@arvindgunasekar Your theory is solely based on your assumption that this EPS govt would fall in 2021. Time to learn from Bihar election also, peak of covid handling failure by Nitish Kumar govt and still NDA scraped through, compared EPS govt still have time to get things on track', truncated=False, display_text_range=[17, 282], entities={'hashtags': [], 'symbols': [], 'user_mentions': [{'screen_name': 'arvindgunasekar', 'name': 'Arvind Gunasekar', 'id': 112709207, 'id_str': '112709207', 'indices': [0, 16]}], 'urls': []}, metadata={'iso_language_code': 'en', 'result_type': 'recent'}, source='Twitter for iPhone', source_url='http://twitter.com/download/iphone', in_reply_to_status_id=1330150538449711106, in_reply_to_status_id_str='1330150538449711106', in_reply_to_user_id=112709207, in_reply_to_user_id_str='112709207', in_reply_to_screen_name='arvindgunasekar', author=User(_api=<tweepy.api.API object at 0x00000200B4D69D30>, _json={'id': 315660529, 'id_str': '315660529', 'name': 'Bhaskar Nagarajan', 'screen_name': 'baski652', 'location': 'Mumbai, India', 'description': '', 'url': None, 'entities': {'description': {'urls': []}}, 'protected': False, 'followers_count': 73, 'friends_count': 283, 'listed_count': 1, 'created_at': 'Sun Jun 12 07:16:15 +0000 2011', 'favourites_count': 1171, 'utc_offset': None, 'time_zone': None, 'geo_enabled': True, 'verified': False, 'statuses_count': 980, 'lang': None, 'contributors_enabled': False, 'is_translator': False, 'is_translation_enabled': False, 'profile_background_color': 'EBEBEB', 'profile_background_image_url': 'http://abs.twimg.com/images/themes/theme1/bg.png', 'profile_background_image_url_https': 'https://abs.twimg.com/images/themes/theme1/bg.png', 'profile_background_tile': True, 'profile_image_url': 'http://pbs.twimg.com/profile_images/1392340218/Bhaskar_Nagarajan_normal.jpg', 'profile_image_url_https': 'https://pbs.twimg.com/profile_images/1392340218/Bhaskar_Nagarajan_normal.jpg', 'profile_link_color': '990000', 'profile_sidebar_border_color': 'FFFFFF', 'profile_sidebar_fill_color': 'F3F3F3', 'profile_text_color': '333333', 'profile_use_background_image': True, 'has_extended_profile': True, 'default_profile': False, 'default_profile_image': False, 'following': False, 'follow_request_sent': False, 'notifications': False, 'translator_type': 'none'}, id=315660529, id_str='315660529', name='Bhaskar Nagarajan', screen_name='baski652', location='Mumbai, India', description='', url=None, entities={'description': {'urls': []}}, protected=False, followers_count=73, friends_count=283, listed_count=1, created_at=datetime.datetime(2011, 6, 12, 7, 16, 15), favourites_count=1171, utc_offset=None, time_zone=None, geo_enabled=True, verified=False, statuses_count=980, lang=None, contributors_enabled=False, is_translator=False, is_translation_enabled=False, profile_background_color='EBEBEB', profile_background_image_url='http://abs.twimg.com/images/themes/theme1/bg.png', profile_background_image_url_https='https://abs.twimg.com/images/themes/theme1/bg.png', profile_background_tile=True, profile_image_url='http://pbs.twimg.com/profile_images/1392340218/Bhaskar_Nagarajan_normal.jpg', profile_image_url_https='https://pbs.twimg.com/profile_images/1392340218/Bhaskar_Nagarajan_normal.jpg', profile_link_color='990000', profile_sidebar_border_color='FFFFFF', profile_sidebar_fill_color='F3F3F3', profile_text_color='333333', profile_use_background_image=True, has_extended_profile=True, default_profile=False, default_profile_image=False, following=False, follow_request_sent=False, notifications=False, translator_type='none'), user=User(_api=<tweepy.api.API object at 0x00000200B4D69D30>, _json={'id': 315660529, 'id_str': '315660529', 'name': 'Bhaskar Nagarajan', 'screen_name': 'baski652', 'location': 'Mumbai, India', 'description': '', 'url': None, 'entities': {'description': {'urls': []}}, 'protected': False, 'followers_count': 73, 'friends_count': 283, 'listed_count': 1, 'created_at': 'Sun Jun 12 07:16:15 +0000 2011', 'favourites_count': 1171, 'utc_offset': None, 'time_zone': None, 'geo_enabled': True, 'verified': False, 'statuses_count': 980, 'lang': None, 'contributors_enabled': False, 'is_translator': False, 'is_translation_enabled': False, 'profile_background_color': 'EBEBEB', 'profile_background_image_url': 'http://abs.twimg.com/images/themes/theme1/bg.png', 'profile_background_image_url_https': 'https://abs.twimg.com/images/themes/theme1/bg.png', 'profile_background_tile': True, 'profile_image_url': 'http://pbs.twimg.com/profile_images/1392340218/Bhaskar_Nagarajan_normal.jpg', 'profile_image_url_https': 'https://pbs.twimg.com/profile_images/1392340218/Bhaskar_Nagarajan_normal.jpg', 'profile_link_color': '990000', 'profile_sidebar_border_color': 'FFFFFF', 'profile_sidebar_fill_color': 'F3F3F3', 'profile_text_color': '333333', 'profile_use_background_image': True, 'has_extended_profile': True, 'default_profile': False, 'default_profile_image': False, 'following': False, 'follow_request_sent': False, 'notifications': False, 'translator_type': 'none'}, id=315660529, id_str='315660529', name='Bhaskar Nagarajan', screen_name='baski652', location='Mumbai, India', description='', url=None, entities={'description': {'urls': []}}, protected=False, followers_count=73, friends_count=283, listed_count=1, created_at=datetime.datetime(2011, 6, 12, 7, 16, 15), favourites_count=1171, utc_offset=None, time_zone=None, geo_enabled=True, verified=False, statuses_count=980, lang=None, contributors_enabled=False, is_translator=False, is_translation_enabled=False, profile_background_color='EBEBEB', profile_background_image_url='http://abs.twimg.com/images/themes/theme1/bg.png', profile_background_image_url_https='https://abs.twimg.com/images/themes/theme1/bg.png', profile_background_tile=True, profile_image_url='http://pbs.twimg.com/profile_images/1392340218/Bhaskar_Nagarajan_normal.jpg', profile_image_url_https='https://pbs.twimg.com/profile_images/1392340218/Bhaskar_Nagarajan_normal.jpg', profile_link_color='990000', profile_sidebar_border_color='FFFFFF', profile_sidebar_fill_color='F3F3F3', profile_text_color='333333', profile_use_background_image=True, has_extended_profile=True, default_profile=False, default_profile_image=False, following=False, follow_request_sent=False, notifications=False, translator_type='none'), geo=None, coordinates=None, place=None, contributors=None, is_quote_status=False, retweet_count=0, favorite_count=0, favorited=False, retweeted=False, lang='en') \n",
      "\n",
      "--------------------------------------------------\n",
      "\n",
      "Status(_api=<tweepy.api.API object at 0x00000200B4D69D30>, _json={'created_at': 'Sat Nov 21 16:24:08 +0000 2020', 'id': 1330185237410754560, 'id_str': '1330185237410754560', 'full_text': '@jothims Last election DMK lost because of Congress and missed the chance of forming govt, same happens with RJD in Bihar, u talks about other party', 'truncated': False, 'display_text_range': [9, 148], 'entities': {'hashtags': [], 'symbols': [], 'user_mentions': [{'screen_name': 'jothims', 'name': 'Jothimani', 'id': 588209274, 'id_str': '588209274', 'indices': [0, 8]}], 'urls': []}, 'metadata': {'iso_language_code': 'en', 'result_type': 'recent'}, 'source': '<a href=\"http://twitter.com/download/android\" rel=\"nofollow\">Twitter for Android</a>', 'in_reply_to_status_id': 1330133139918872577, 'in_reply_to_status_id_str': '1330133139918872577', 'in_reply_to_user_id': 588209274, 'in_reply_to_user_id_str': '588209274', 'in_reply_to_screen_name': 'jothims', 'user': {'id': 1223411517346832384, 'id_str': '1223411517346832384', 'name': 'Sriraman', 'screen_name': 'Srirama49526058', 'location': 'Chennai, India', 'description': 'fun loving, politics, social welfare, nature', 'url': None, 'entities': {'description': {'urls': []}}, 'protected': False, 'followers_count': 76, 'friends_count': 177, 'listed_count': 0, 'created_at': 'Sat Feb 01 01:04:26 +0000 2020', 'favourites_count': 592, 'utc_offset': None, 'time_zone': None, 'geo_enabled': False, 'verified': False, 'statuses_count': 9633, 'lang': None, 'contributors_enabled': False, 'is_translator': False, 'is_translation_enabled': False, 'profile_background_color': 'F5F8FA', 'profile_background_image_url': None, 'profile_background_image_url_https': None, 'profile_background_tile': False, 'profile_image_url': 'http://pbs.twimg.com/profile_images/1290807992363790336/ALG1r68Q_normal.jpg', 'profile_image_url_https': 'https://pbs.twimg.com/profile_images/1290807992363790336/ALG1r68Q_normal.jpg', 'profile_link_color': '1DA1F2', 'profile_sidebar_border_color': 'C0DEED', 'profile_sidebar_fill_color': 'DDEEF6', 'profile_text_color': '333333', 'profile_use_background_image': True, 'has_extended_profile': True, 'default_profile': True, 'default_profile_image': False, 'following': False, 'follow_request_sent': False, 'notifications': False, 'translator_type': 'none'}, 'geo': None, 'coordinates': None, 'place': None, 'contributors': None, 'is_quote_status': False, 'retweet_count': 0, 'favorite_count': 0, 'favorited': False, 'retweeted': False, 'lang': 'en'}, created_at=datetime.datetime(2020, 11, 21, 16, 24, 8), id=1330185237410754560, id_str='1330185237410754560', full_text='@jothims Last election DMK lost because of Congress and missed the chance of forming govt, same happens with RJD in Bihar, u talks about other party', truncated=False, display_text_range=[9, 148], entities={'hashtags': [], 'symbols': [], 'user_mentions': [{'screen_name': 'jothims', 'name': 'Jothimani', 'id': 588209274, 'id_str': '588209274', 'indices': [0, 8]}], 'urls': []}, metadata={'iso_language_code': 'en', 'result_type': 'recent'}, source='Twitter for Android', source_url='http://twitter.com/download/android', in_reply_to_status_id=1330133139918872577, in_reply_to_status_id_str='1330133139918872577', in_reply_to_user_id=588209274, in_reply_to_user_id_str='588209274', in_reply_to_screen_name='jothims', author=User(_api=<tweepy.api.API object at 0x00000200B4D69D30>, _json={'id': 1223411517346832384, 'id_str': '1223411517346832384', 'name': 'Sriraman', 'screen_name': 'Srirama49526058', 'location': 'Chennai, India', 'description': 'fun loving, politics, social welfare, nature', 'url': None, 'entities': {'description': {'urls': []}}, 'protected': False, 'followers_count': 76, 'friends_count': 177, 'listed_count': 0, 'created_at': 'Sat Feb 01 01:04:26 +0000 2020', 'favourites_count': 592, 'utc_offset': None, 'time_zone': None, 'geo_enabled': False, 'verified': False, 'statuses_count': 9633, 'lang': None, 'contributors_enabled': False, 'is_translator': False, 'is_translation_enabled': False, 'profile_background_color': 'F5F8FA', 'profile_background_image_url': None, 'profile_background_image_url_https': None, 'profile_background_tile': False, 'profile_image_url': 'http://pbs.twimg.com/profile_images/1290807992363790336/ALG1r68Q_normal.jpg', 'profile_image_url_https': 'https://pbs.twimg.com/profile_images/1290807992363790336/ALG1r68Q_normal.jpg', 'profile_link_color': '1DA1F2', 'profile_sidebar_border_color': 'C0DEED', 'profile_sidebar_fill_color': 'DDEEF6', 'profile_text_color': '333333', 'profile_use_background_image': True, 'has_extended_profile': True, 'default_profile': True, 'default_profile_image': False, 'following': False, 'follow_request_sent': False, 'notifications': False, 'translator_type': 'none'}, id=1223411517346832384, id_str='1223411517346832384', name='Sriraman', screen_name='Srirama49526058', location='Chennai, India', description='fun loving, politics, social welfare, nature', url=None, entities={'description': {'urls': []}}, protected=False, followers_count=76, friends_count=177, listed_count=0, created_at=datetime.datetime(2020, 2, 1, 1, 4, 26), favourites_count=592, utc_offset=None, time_zone=None, geo_enabled=False, verified=False, statuses_count=9633, lang=None, contributors_enabled=False, is_translator=False, is_translation_enabled=False, profile_background_color='F5F8FA', profile_background_image_url=None, profile_background_image_url_https=None, profile_background_tile=False, profile_image_url='http://pbs.twimg.com/profile_images/1290807992363790336/ALG1r68Q_normal.jpg', profile_image_url_https='https://pbs.twimg.com/profile_images/1290807992363790336/ALG1r68Q_normal.jpg', profile_link_color='1DA1F2', profile_sidebar_border_color='C0DEED', profile_sidebar_fill_color='DDEEF6', profile_text_color='333333', profile_use_background_image=True, has_extended_profile=True, default_profile=True, default_profile_image=False, following=False, follow_request_sent=False, notifications=False, translator_type='none'), user=User(_api=<tweepy.api.API object at 0x00000200B4D69D30>, _json={'id': 1223411517346832384, 'id_str': '1223411517346832384', 'name': 'Sriraman', 'screen_name': 'Srirama49526058', 'location': 'Chennai, India', 'description': 'fun loving, politics, social welfare, nature', 'url': None, 'entities': {'description': {'urls': []}}, 'protected': False, 'followers_count': 76, 'friends_count': 177, 'listed_count': 0, 'created_at': 'Sat Feb 01 01:04:26 +0000 2020', 'favourites_count': 592, 'utc_offset': None, 'time_zone': None, 'geo_enabled': False, 'verified': False, 'statuses_count': 9633, 'lang': None, 'contributors_enabled': False, 'is_translator': False, 'is_translation_enabled': False, 'profile_background_color': 'F5F8FA', 'profile_background_image_url': None, 'profile_background_image_url_https': None, 'profile_background_tile': False, 'profile_image_url': 'http://pbs.twimg.com/profile_images/1290807992363790336/ALG1r68Q_normal.jpg', 'profile_image_url_https': 'https://pbs.twimg.com/profile_images/1290807992363790336/ALG1r68Q_normal.jpg', 'profile_link_color': '1DA1F2', 'profile_sidebar_border_color': 'C0DEED', 'profile_sidebar_fill_color': 'DDEEF6', 'profile_text_color': '333333', 'profile_use_background_image': True, 'has_extended_profile': True, 'default_profile': True, 'default_profile_image': False, 'following': False, 'follow_request_sent': False, 'notifications': False, 'translator_type': 'none'}, id=1223411517346832384, id_str='1223411517346832384', name='Sriraman', screen_name='Srirama49526058', location='Chennai, India', description='fun loving, politics, social welfare, nature', url=None, entities={'description': {'urls': []}}, protected=False, followers_count=76, friends_count=177, listed_count=0, created_at=datetime.datetime(2020, 2, 1, 1, 4, 26), favourites_count=592, utc_offset=None, time_zone=None, geo_enabled=False, verified=False, statuses_count=9633, lang=None, contributors_enabled=False, is_translator=False, is_translation_enabled=False, profile_background_color='F5F8FA', profile_background_image_url=None, profile_background_image_url_https=None, profile_background_tile=False, profile_image_url='http://pbs.twimg.com/profile_images/1290807992363790336/ALG1r68Q_normal.jpg', profile_image_url_https='https://pbs.twimg.com/profile_images/1290807992363790336/ALG1r68Q_normal.jpg', profile_link_color='1DA1F2', profile_sidebar_border_color='C0DEED', profile_sidebar_fill_color='DDEEF6', profile_text_color='333333', profile_use_background_image=True, has_extended_profile=True, default_profile=True, default_profile_image=False, following=False, follow_request_sent=False, notifications=False, translator_type='none'), geo=None, coordinates=None, place=None, contributors=None, is_quote_status=False, retweet_count=0, favorite_count=0, favorited=False, retweeted=False, lang='en') \n",
      "\n",
      "--------------------------------------------------\n",
      "\n",
      "Status(_api=<tweepy.api.API object at 0x00000200B4D69D30>, _json={'created_at': 'Sat Nov 21 16:22:11 +0000 2020', 'id': 1330184744693329920, 'id_str': '1330184744693329920', 'full_text': 'You think AIMIM was going to make government in Bihar? \\n\\nOr in soon to be held election in Bengal? \\n\\nBut Muslims will vote for Owaisi. \\n\\nBecause he will never betray them. He wants more elections to win but not at the cost of Islam or Muslims and what does Hindutva guys do?', 'truncated': False, 'display_text_range': [0, 274], 'entities': {'hashtags': [], 'symbols': [], 'user_mentions': [], 'urls': []}, 'metadata': {'iso_language_code': 'en', 'result_type': 'recent'}, 'source': '<a href=\"http://twitter.com/download/android\" rel=\"nofollow\">Twitter for Android</a>', 'in_reply_to_status_id': 1330184229435682817, 'in_reply_to_status_id_str': '1330184229435682817', 'in_reply_to_user_id': 331101071, 'in_reply_to_user_id_str': '331101071', 'in_reply_to_screen_name': 'iRahulSahu', 'user': {'id': 331101071, 'id_str': '331101071', 'name': 'Rahul Sahu', 'screen_name': 'iRahulSahu', 'location': 'Hindu Rashtra', 'description': 'Dharma - Dev - Desh', 'url': 'https://t.co/ynyzCFxhw1', 'entities': {'url': {'urls': [{'url': 'https://t.co/ynyzCFxhw1', 'expanded_url': 'https://medium.com/@iRahulSahu', 'display_url': 'medium.com/@iRahulSahu', 'indices': [0, 23]}]}, 'description': {'urls': []}}, 'protected': False, 'followers_count': 1412, 'friends_count': 304, 'listed_count': 13, 'created_at': 'Thu Jul 07 17:07:12 +0000 2011', 'favourites_count': 32, 'utc_offset': None, 'time_zone': None, 'geo_enabled': False, 'verified': False, 'statuses_count': 13798, 'lang': None, 'contributors_enabled': False, 'is_translator': False, 'is_translation_enabled': False, 'profile_background_color': '000000', 'profile_background_image_url': 'http://abs.twimg.com/images/themes/theme18/bg.gif', 'profile_background_image_url_https': 'https://abs.twimg.com/images/themes/theme18/bg.gif', 'profile_background_tile': False, 'profile_image_url': 'http://pbs.twimg.com/profile_images/1246053801900949504/g8Nnx7ng_normal.jpg', 'profile_image_url_https': 'https://pbs.twimg.com/profile_images/1246053801900949504/g8Nnx7ng_normal.jpg', 'profile_banner_url': 'https://pbs.twimg.com/profile_banners/331101071/1540535772', 'profile_link_color': 'FF691F', 'profile_sidebar_border_color': '000000', 'profile_sidebar_fill_color': '000000', 'profile_text_color': '000000', 'profile_use_background_image': False, 'has_extended_profile': True, 'default_profile': False, 'default_profile_image': False, 'following': False, 'follow_request_sent': False, 'notifications': False, 'translator_type': 'none'}, 'geo': None, 'coordinates': None, 'place': None, 'contributors': None, 'is_quote_status': False, 'retweet_count': 0, 'favorite_count': 0, 'favorited': False, 'retweeted': False, 'lang': 'en'}, created_at=datetime.datetime(2020, 11, 21, 16, 22, 11), id=1330184744693329920, id_str='1330184744693329920', full_text='You think AIMIM was going to make government in Bihar? \\n\\nOr in soon to be held election in Bengal? \\n\\nBut Muslims will vote for Owaisi. \\n\\nBecause he will never betray them. He wants more elections to win but not at the cost of Islam or Muslims and what does Hindutva guys do?', truncated=False, display_text_range=[0, 274], entities={'hashtags': [], 'symbols': [], 'user_mentions': [], 'urls': []}, metadata={'iso_language_code': 'en', 'result_type': 'recent'}, source='Twitter for Android', source_url='http://twitter.com/download/android', in_reply_to_status_id=1330184229435682817, in_reply_to_status_id_str='1330184229435682817', in_reply_to_user_id=331101071, in_reply_to_user_id_str='331101071', in_reply_to_screen_name='iRahulSahu', author=User(_api=<tweepy.api.API object at 0x00000200B4D69D30>, _json={'id': 331101071, 'id_str': '331101071', 'name': 'Rahul Sahu', 'screen_name': 'iRahulSahu', 'location': 'Hindu Rashtra', 'description': 'Dharma - Dev - Desh', 'url': 'https://t.co/ynyzCFxhw1', 'entities': {'url': {'urls': [{'url': 'https://t.co/ynyzCFxhw1', 'expanded_url': 'https://medium.com/@iRahulSahu', 'display_url': 'medium.com/@iRahulSahu', 'indices': [0, 23]}]}, 'description': {'urls': []}}, 'protected': False, 'followers_count': 1412, 'friends_count': 304, 'listed_count': 13, 'created_at': 'Thu Jul 07 17:07:12 +0000 2011', 'favourites_count': 32, 'utc_offset': None, 'time_zone': None, 'geo_enabled': False, 'verified': False, 'statuses_count': 13798, 'lang': None, 'contributors_enabled': False, 'is_translator': False, 'is_translation_enabled': False, 'profile_background_color': '000000', 'profile_background_image_url': 'http://abs.twimg.com/images/themes/theme18/bg.gif', 'profile_background_image_url_https': 'https://abs.twimg.com/images/themes/theme18/bg.gif', 'profile_background_tile': False, 'profile_image_url': 'http://pbs.twimg.com/profile_images/1246053801900949504/g8Nnx7ng_normal.jpg', 'profile_image_url_https': 'https://pbs.twimg.com/profile_images/1246053801900949504/g8Nnx7ng_normal.jpg', 'profile_banner_url': 'https://pbs.twimg.com/profile_banners/331101071/1540535772', 'profile_link_color': 'FF691F', 'profile_sidebar_border_color': '000000', 'profile_sidebar_fill_color': '000000', 'profile_text_color': '000000', 'profile_use_background_image': False, 'has_extended_profile': True, 'default_profile': False, 'default_profile_image': False, 'following': False, 'follow_request_sent': False, 'notifications': False, 'translator_type': 'none'}, id=331101071, id_str='331101071', name='Rahul Sahu', screen_name='iRahulSahu', location='Hindu Rashtra', description='Dharma - Dev - Desh', url='https://t.co/ynyzCFxhw1', entities={'url': {'urls': [{'url': 'https://t.co/ynyzCFxhw1', 'expanded_url': 'https://medium.com/@iRahulSahu', 'display_url': 'medium.com/@iRahulSahu', 'indices': [0, 23]}]}, 'description': {'urls': []}}, protected=False, followers_count=1412, friends_count=304, listed_count=13, created_at=datetime.datetime(2011, 7, 7, 17, 7, 12), favourites_count=32, utc_offset=None, time_zone=None, geo_enabled=False, verified=False, statuses_count=13798, lang=None, contributors_enabled=False, is_translator=False, is_translation_enabled=False, profile_background_color='000000', profile_background_image_url='http://abs.twimg.com/images/themes/theme18/bg.gif', profile_background_image_url_https='https://abs.twimg.com/images/themes/theme18/bg.gif', profile_background_tile=False, profile_image_url='http://pbs.twimg.com/profile_images/1246053801900949504/g8Nnx7ng_normal.jpg', profile_image_url_https='https://pbs.twimg.com/profile_images/1246053801900949504/g8Nnx7ng_normal.jpg', profile_banner_url='https://pbs.twimg.com/profile_banners/331101071/1540535772', profile_link_color='FF691F', profile_sidebar_border_color='000000', profile_sidebar_fill_color='000000', profile_text_color='000000', profile_use_background_image=False, has_extended_profile=True, default_profile=False, default_profile_image=False, following=False, follow_request_sent=False, notifications=False, translator_type='none'), user=User(_api=<tweepy.api.API object at 0x00000200B4D69D30>, _json={'id': 331101071, 'id_str': '331101071', 'name': 'Rahul Sahu', 'screen_name': 'iRahulSahu', 'location': 'Hindu Rashtra', 'description': 'Dharma - Dev - Desh', 'url': 'https://t.co/ynyzCFxhw1', 'entities': {'url': {'urls': [{'url': 'https://t.co/ynyzCFxhw1', 'expanded_url': 'https://medium.com/@iRahulSahu', 'display_url': 'medium.com/@iRahulSahu', 'indices': [0, 23]}]}, 'description': {'urls': []}}, 'protected': False, 'followers_count': 1412, 'friends_count': 304, 'listed_count': 13, 'created_at': 'Thu Jul 07 17:07:12 +0000 2011', 'favourites_count': 32, 'utc_offset': None, 'time_zone': None, 'geo_enabled': False, 'verified': False, 'statuses_count': 13798, 'lang': None, 'contributors_enabled': False, 'is_translator': False, 'is_translation_enabled': False, 'profile_background_color': '000000', 'profile_background_image_url': 'http://abs.twimg.com/images/themes/theme18/bg.gif', 'profile_background_image_url_https': 'https://abs.twimg.com/images/themes/theme18/bg.gif', 'profile_background_tile': False, 'profile_image_url': 'http://pbs.twimg.com/profile_images/1246053801900949504/g8Nnx7ng_normal.jpg', 'profile_image_url_https': 'https://pbs.twimg.com/profile_images/1246053801900949504/g8Nnx7ng_normal.jpg', 'profile_banner_url': 'https://pbs.twimg.com/profile_banners/331101071/1540535772', 'profile_link_color': 'FF691F', 'profile_sidebar_border_color': '000000', 'profile_sidebar_fill_color': '000000', 'profile_text_color': '000000', 'profile_use_background_image': False, 'has_extended_profile': True, 'default_profile': False, 'default_profile_image': False, 'following': False, 'follow_request_sent': False, 'notifications': False, 'translator_type': 'none'}, id=331101071, id_str='331101071', name='Rahul Sahu', screen_name='iRahulSahu', location='Hindu Rashtra', description='Dharma - Dev - Desh', url='https://t.co/ynyzCFxhw1', entities={'url': {'urls': [{'url': 'https://t.co/ynyzCFxhw1', 'expanded_url': 'https://medium.com/@iRahulSahu', 'display_url': 'medium.com/@iRahulSahu', 'indices': [0, 23]}]}, 'description': {'urls': []}}, protected=False, followers_count=1412, friends_count=304, listed_count=13, created_at=datetime.datetime(2011, 7, 7, 17, 7, 12), favourites_count=32, utc_offset=None, time_zone=None, geo_enabled=False, verified=False, statuses_count=13798, lang=None, contributors_enabled=False, is_translator=False, is_translation_enabled=False, profile_background_color='000000', profile_background_image_url='http://abs.twimg.com/images/themes/theme18/bg.gif', profile_background_image_url_https='https://abs.twimg.com/images/themes/theme18/bg.gif', profile_background_tile=False, profile_image_url='http://pbs.twimg.com/profile_images/1246053801900949504/g8Nnx7ng_normal.jpg', profile_image_url_https='https://pbs.twimg.com/profile_images/1246053801900949504/g8Nnx7ng_normal.jpg', profile_banner_url='https://pbs.twimg.com/profile_banners/331101071/1540535772', profile_link_color='FF691F', profile_sidebar_border_color='000000', profile_sidebar_fill_color='000000', profile_text_color='000000', profile_use_background_image=False, has_extended_profile=True, default_profile=False, default_profile_image=False, following=False, follow_request_sent=False, notifications=False, translator_type='none'), geo=None, coordinates=None, place=None, contributors=None, is_quote_status=False, retweet_count=0, favorite_count=0, favorited=False, retweeted=False, lang='en') \n",
      "\n",
      "--------------------------------------------------\n",
      "\n",
      "Status(_api=<tweepy.api.API object at 0x00000200B4D69D30>, _json={'created_at': 'Sat Nov 21 16:20:10 +0000 2020', 'id': 1330184237333483521, 'id_str': '1330184237333483521', 'full_text': \"@MuraliSeshadri @Ethirajans I agree with you! As CONgress is a national party , it definitely deserves more seats. That's the only way to ensure DMK's defeat in the Assembly poll as it did to RJD in Bihar election.\", 'truncated': False, 'display_text_range': [28, 214], 'entities': {'hashtags': [], 'symbols': [], 'user_mentions': [{'screen_name': 'MuraliSeshadri', 'name': 'Murali Seshadri', 'id': 97349556, 'id_str': '97349556', 'indices': [0, 15]}, {'screen_name': 'Ethirajans', 'name': 'Ethirajan Srinivasan', 'id': 906105384854630400, 'id_str': '906105384854630400', 'indices': [16, 27]}], 'urls': []}, 'metadata': {'iso_language_code': 'en', 'result_type': 'recent'}, 'source': '<a href=\"https://mobile.twitter.com\" rel=\"nofollow\">Twitter Web App</a>', 'in_reply_to_status_id': 1330128396806971394, 'in_reply_to_status_id_str': '1330128396806971394', 'in_reply_to_user_id': 97349556, 'in_reply_to_user_id_str': '97349556', 'in_reply_to_screen_name': 'MuraliSeshadri', 'user': {'id': 977945409808089088, 'id_str': '977945409808089088', 'name': 'B.Venkateswaran', 'screen_name': 'BVenkat54441481', 'location': '', 'description': '', 'url': None, 'entities': {'description': {'urls': []}}, 'protected': False, 'followers_count': 76, 'friends_count': 118, 'listed_count': 1, 'created_at': 'Sun Mar 25 16:28:49 +0000 2018', 'favourites_count': 8678, 'utc_offset': None, 'time_zone': None, 'geo_enabled': False, 'verified': False, 'statuses_count': 5536, 'lang': None, 'contributors_enabled': False, 'is_translator': False, 'is_translation_enabled': False, 'profile_background_color': 'F5F8FA', 'profile_background_image_url': None, 'profile_background_image_url_https': None, 'profile_background_tile': False, 'profile_image_url': 'http://abs.twimg.com/sticky/default_profile_images/default_profile_normal.png', 'profile_image_url_https': 'https://abs.twimg.com/sticky/default_profile_images/default_profile_normal.png', 'profile_link_color': '1DA1F2', 'profile_sidebar_border_color': 'C0DEED', 'profile_sidebar_fill_color': 'DDEEF6', 'profile_text_color': '333333', 'profile_use_background_image': True, 'has_extended_profile': False, 'default_profile': True, 'default_profile_image': True, 'following': False, 'follow_request_sent': False, 'notifications': False, 'translator_type': 'none'}, 'geo': None, 'coordinates': None, 'place': None, 'contributors': None, 'is_quote_status': False, 'retweet_count': 0, 'favorite_count': 1, 'favorited': False, 'retweeted': False, 'lang': 'en'}, created_at=datetime.datetime(2020, 11, 21, 16, 20, 10), id=1330184237333483521, id_str='1330184237333483521', full_text=\"@MuraliSeshadri @Ethirajans I agree with you! As CONgress is a national party , it definitely deserves more seats. That's the only way to ensure DMK's defeat in the Assembly poll as it did to RJD in Bihar election.\", truncated=False, display_text_range=[28, 214], entities={'hashtags': [], 'symbols': [], 'user_mentions': [{'screen_name': 'MuraliSeshadri', 'name': 'Murali Seshadri', 'id': 97349556, 'id_str': '97349556', 'indices': [0, 15]}, {'screen_name': 'Ethirajans', 'name': 'Ethirajan Srinivasan', 'id': 906105384854630400, 'id_str': '906105384854630400', 'indices': [16, 27]}], 'urls': []}, metadata={'iso_language_code': 'en', 'result_type': 'recent'}, source='Twitter Web App', source_url='https://mobile.twitter.com', in_reply_to_status_id=1330128396806971394, in_reply_to_status_id_str='1330128396806971394', in_reply_to_user_id=97349556, in_reply_to_user_id_str='97349556', in_reply_to_screen_name='MuraliSeshadri', author=User(_api=<tweepy.api.API object at 0x00000200B4D69D30>, _json={'id': 977945409808089088, 'id_str': '977945409808089088', 'name': 'B.Venkateswaran', 'screen_name': 'BVenkat54441481', 'location': '', 'description': '', 'url': None, 'entities': {'description': {'urls': []}}, 'protected': False, 'followers_count': 76, 'friends_count': 118, 'listed_count': 1, 'created_at': 'Sun Mar 25 16:28:49 +0000 2018', 'favourites_count': 8678, 'utc_offset': None, 'time_zone': None, 'geo_enabled': False, 'verified': False, 'statuses_count': 5536, 'lang': None, 'contributors_enabled': False, 'is_translator': False, 'is_translation_enabled': False, 'profile_background_color': 'F5F8FA', 'profile_background_image_url': None, 'profile_background_image_url_https': None, 'profile_background_tile': False, 'profile_image_url': 'http://abs.twimg.com/sticky/default_profile_images/default_profile_normal.png', 'profile_image_url_https': 'https://abs.twimg.com/sticky/default_profile_images/default_profile_normal.png', 'profile_link_color': '1DA1F2', 'profile_sidebar_border_color': 'C0DEED', 'profile_sidebar_fill_color': 'DDEEF6', 'profile_text_color': '333333', 'profile_use_background_image': True, 'has_extended_profile': False, 'default_profile': True, 'default_profile_image': True, 'following': False, 'follow_request_sent': False, 'notifications': False, 'translator_type': 'none'}, id=977945409808089088, id_str='977945409808089088', name='B.Venkateswaran', screen_name='BVenkat54441481', location='', description='', url=None, entities={'description': {'urls': []}}, protected=False, followers_count=76, friends_count=118, listed_count=1, created_at=datetime.datetime(2018, 3, 25, 16, 28, 49), favourites_count=8678, utc_offset=None, time_zone=None, geo_enabled=False, verified=False, statuses_count=5536, lang=None, contributors_enabled=False, is_translator=False, is_translation_enabled=False, profile_background_color='F5F8FA', profile_background_image_url=None, profile_background_image_url_https=None, profile_background_tile=False, profile_image_url='http://abs.twimg.com/sticky/default_profile_images/default_profile_normal.png', profile_image_url_https='https://abs.twimg.com/sticky/default_profile_images/default_profile_normal.png', profile_link_color='1DA1F2', profile_sidebar_border_color='C0DEED', profile_sidebar_fill_color='DDEEF6', profile_text_color='333333', profile_use_background_image=True, has_extended_profile=False, default_profile=True, default_profile_image=True, following=False, follow_request_sent=False, notifications=False, translator_type='none'), user=User(_api=<tweepy.api.API object at 0x00000200B4D69D30>, _json={'id': 977945409808089088, 'id_str': '977945409808089088', 'name': 'B.Venkateswaran', 'screen_name': 'BVenkat54441481', 'location': '', 'description': '', 'url': None, 'entities': {'description': {'urls': []}}, 'protected': False, 'followers_count': 76, 'friends_count': 118, 'listed_count': 1, 'created_at': 'Sun Mar 25 16:28:49 +0000 2018', 'favourites_count': 8678, 'utc_offset': None, 'time_zone': None, 'geo_enabled': False, 'verified': False, 'statuses_count': 5536, 'lang': None, 'contributors_enabled': False, 'is_translator': False, 'is_translation_enabled': False, 'profile_background_color': 'F5F8FA', 'profile_background_image_url': None, 'profile_background_image_url_https': None, 'profile_background_tile': False, 'profile_image_url': 'http://abs.twimg.com/sticky/default_profile_images/default_profile_normal.png', 'profile_image_url_https': 'https://abs.twimg.com/sticky/default_profile_images/default_profile_normal.png', 'profile_link_color': '1DA1F2', 'profile_sidebar_border_color': 'C0DEED', 'profile_sidebar_fill_color': 'DDEEF6', 'profile_text_color': '333333', 'profile_use_background_image': True, 'has_extended_profile': False, 'default_profile': True, 'default_profile_image': True, 'following': False, 'follow_request_sent': False, 'notifications': False, 'translator_type': 'none'}, id=977945409808089088, id_str='977945409808089088', name='B.Venkateswaran', screen_name='BVenkat54441481', location='', description='', url=None, entities={'description': {'urls': []}}, protected=False, followers_count=76, friends_count=118, listed_count=1, created_at=datetime.datetime(2018, 3, 25, 16, 28, 49), favourites_count=8678, utc_offset=None, time_zone=None, geo_enabled=False, verified=False, statuses_count=5536, lang=None, contributors_enabled=False, is_translator=False, is_translation_enabled=False, profile_background_color='F5F8FA', profile_background_image_url=None, profile_background_image_url_https=None, profile_background_tile=False, profile_image_url='http://abs.twimg.com/sticky/default_profile_images/default_profile_normal.png', profile_image_url_https='https://abs.twimg.com/sticky/default_profile_images/default_profile_normal.png', profile_link_color='1DA1F2', profile_sidebar_border_color='C0DEED', profile_sidebar_fill_color='DDEEF6', profile_text_color='333333', profile_use_background_image=True, has_extended_profile=False, default_profile=True, default_profile_image=True, following=False, follow_request_sent=False, notifications=False, translator_type='none'), geo=None, coordinates=None, place=None, contributors=None, is_quote_status=False, retweet_count=0, favorite_count=1, favorited=False, retweeted=False, lang='en') \n",
      "\n",
      "--------------------------------------------------\n",
      "\n"
     ]
    }
   ],
   "source": [
    "Tweets = api.search(query, count=10, lang='en', exclude='retweets', tweet_mode='extended')\n",
    "\n",
    "for tweet in Tweets:\n",
    "    print(tweet, \"\\n\")\n",
    "    print(\"--------------------------------------------------\\n\")"
   ]
  },
  {
   "cell_type": "code",
   "execution_count": 7,
   "metadata": {},
   "outputs": [
    {
     "name": "stdout",
     "output_type": "stream",
     "text": [
      "Empty DataFrame\n",
      "Columns: [Tweets, User, User_statuses_count, user_followers, User_location, User_verified, fav_count, rt_count, tweet_date]\n",
      "Index: []\n"
     ]
    }
   ],
   "source": [
    "df = pd.DataFrame(columns = ['Tweets' , 'User' , 'User_statuses_count' , \n",
    "                            'user_followers' , 'User_location' , 'User_verified' ,\n",
    "                            'fav_count' , 'rt_count' , 'tweet_date'] )\n",
    "print(df)\n",
    "# print(df.shape)"
   ]
  },
  {
   "cell_type": "code",
   "execution_count": 8,
   "metadata": {},
   "outputs": [],
   "source": [
    "def stream(data, file_name):\n",
    "    i = 0\n",
    "    for tweet in tweepy.Cursor(api.search, q=data, count=100, lang='en').items():\n",
    "        print(i, end='\\r')\n",
    "        df.loc[i, 'Tweets'] = tweet.text\n",
    "        df.loc[i, 'User'] = tweet.user.name\n",
    "        df.loc[i, 'User_statuses_count'] = tweet.user.statuses_count\n",
    "        df.loc[i, 'user_followers'] = tweet.user.followers_count\n",
    "        df.loc[i, 'User_location'] = tweet.user.location\n",
    "        df.loc[i, 'User_verified'] = tweet.user.verified\n",
    "        df.loc[i, 'fav_count'] = tweet.favorite_count\n",
    "        df.loc[i, 'rt_count'] = tweet.retweet_count\n",
    "        df.loc[i, 'tweet_date'] = tweet.created_at\n",
    "        df.to_excel('{}.xlsx'.format(file_name))\n",
    "        i = i+1\n",
    "        if i == 1000:\n",
    "            break\n",
    "        else:\n",
    "            pass"
   ]
  },
  {
   "cell_type": "code",
   "execution_count": 9,
   "metadata": {},
   "outputs": [
    {
     "name": "stdout",
     "output_type": "stream",
     "text": [
      "999\r"
     ]
    }
   ],
   "source": [
    "stream(data=[query] , file_name='my_tweets')"
   ]
  },
  {
   "cell_type": "code",
   "execution_count": 10,
   "metadata": {},
   "outputs": [
    {
     "data": {
      "text/html": [
       "<div>\n",
       "<style scoped>\n",
       "    .dataframe tbody tr th:only-of-type {\n",
       "        vertical-align: middle;\n",
       "    }\n",
       "\n",
       "    .dataframe tbody tr th {\n",
       "        vertical-align: top;\n",
       "    }\n",
       "\n",
       "    .dataframe thead th {\n",
       "        text-align: right;\n",
       "    }\n",
       "</style>\n",
       "<table border=\"1\" class=\"dataframe\">\n",
       "  <thead>\n",
       "    <tr style=\"text-align: right;\">\n",
       "      <th></th>\n",
       "      <th>Tweets</th>\n",
       "      <th>User</th>\n",
       "      <th>User_statuses_count</th>\n",
       "      <th>user_followers</th>\n",
       "      <th>User_location</th>\n",
       "      <th>User_verified</th>\n",
       "      <th>fav_count</th>\n",
       "      <th>rt_count</th>\n",
       "      <th>tweet_date</th>\n",
       "    </tr>\n",
       "  </thead>\n",
       "  <tbody>\n",
       "    <tr>\n",
       "      <th>0</th>\n",
       "      <td>RT @Mohamme26964040: Pls join us on November 2...</td>\n",
       "      <td>Nation First</td>\n",
       "      <td>94509</td>\n",
       "      <td>121</td>\n",
       "      <td>Whole Nation</td>\n",
       "      <td>False</td>\n",
       "      <td>0</td>\n",
       "      <td>16</td>\n",
       "      <td>2020-11-21 17:15:21</td>\n",
       "    </tr>\n",
       "    <tr>\n",
       "      <th>1</th>\n",
       "      <td>RT @Jaydeep_longman: @abhijitmajumder Bihar el...</td>\n",
       "      <td>ଅଖିଳ ପାଢୀ🇮🇳</td>\n",
       "      <td>230518</td>\n",
       "      <td>5253</td>\n",
       "      <td>Jeypore</td>\n",
       "      <td>False</td>\n",
       "      <td>0</td>\n",
       "      <td>2</td>\n",
       "      <td>2020-11-21 17:14:37</td>\n",
       "    </tr>\n",
       "    <tr>\n",
       "      <th>2</th>\n",
       "      <td>RT @Jaydeep_longman: @abhijitmajumder Bihar el...</td>\n",
       "      <td>GlobalDesi 🇮🇳🇺🇲</td>\n",
       "      <td>11572</td>\n",
       "      <td>1217</td>\n",
       "      <td>India</td>\n",
       "      <td>False</td>\n",
       "      <td>0</td>\n",
       "      <td>2</td>\n",
       "      <td>2020-11-21 17:13:54</td>\n",
       "    </tr>\n",
       "    <tr>\n",
       "      <th>3</th>\n",
       "      <td>@rsprasad @narendramodi @MoHFW_INDIA @PMOIndia...</td>\n",
       "      <td>kaushik Chauhan</td>\n",
       "      <td>1283</td>\n",
       "      <td>15</td>\n",
       "      <td></td>\n",
       "      <td>False</td>\n",
       "      <td>0</td>\n",
       "      <td>0</td>\n",
       "      <td>2020-11-21 17:06:09</td>\n",
       "    </tr>\n",
       "    <tr>\n",
       "      <th>4</th>\n",
       "      <td>RT @ind_rajat92: I had forgotten that @Dev_Fad...</td>\n",
       "      <td>eagleeye192020 Proud Hindu &amp; Proud Indian</td>\n",
       "      <td>123424</td>\n",
       "      <td>308</td>\n",
       "      <td></td>\n",
       "      <td>False</td>\n",
       "      <td>0</td>\n",
       "      <td>16</td>\n",
       "      <td>2020-11-21 17:00:31</td>\n",
       "    </tr>\n",
       "  </tbody>\n",
       "</table>\n",
       "</div>"
      ],
      "text/plain": [
       "                                              Tweets  \\\n",
       "0  RT @Mohamme26964040: Pls join us on November 2...   \n",
       "1  RT @Jaydeep_longman: @abhijitmajumder Bihar el...   \n",
       "2  RT @Jaydeep_longman: @abhijitmajumder Bihar el...   \n",
       "3  @rsprasad @narendramodi @MoHFW_INDIA @PMOIndia...   \n",
       "4  RT @ind_rajat92: I had forgotten that @Dev_Fad...   \n",
       "\n",
       "                                        User User_statuses_count  \\\n",
       "0                               Nation First               94509   \n",
       "1                                ଅଖିଳ ପାଢୀ🇮🇳              230518   \n",
       "2                            GlobalDesi 🇮🇳🇺🇲               11572   \n",
       "3                            kaushik Chauhan                1283   \n",
       "4  eagleeye192020 Proud Hindu & Proud Indian              123424   \n",
       "\n",
       "  user_followers User_location User_verified fav_count rt_count  \\\n",
       "0            121  Whole Nation         False         0       16   \n",
       "1           5253       Jeypore         False         0        2   \n",
       "2           1217         India         False         0        2   \n",
       "3             15                       False         0        0   \n",
       "4            308                       False         0       16   \n",
       "\n",
       "            tweet_date  \n",
       "0  2020-11-21 17:15:21  \n",
       "1  2020-11-21 17:14:37  \n",
       "2  2020-11-21 17:13:54  \n",
       "3  2020-11-21 17:06:09  \n",
       "4  2020-11-21 17:00:31  "
      ]
     },
     "execution_count": 10,
     "metadata": {},
     "output_type": "execute_result"
    }
   ],
   "source": [
    "df.head()"
   ]
  },
  {
   "cell_type": "raw",
   "metadata": {},
   "source": [
    "Sentiment(polarity, subjectivity)\n",
    "\n",
    "Polarity score: [-1 , +1]\n",
    "\n",
    "Subjectivity: [0.0 , 1.0] \n",
    "where 0.0 is very Objective and 1.0 is very Subjective."
   ]
  },
  {
   "cell_type": "code",
   "execution_count": 12,
   "metadata": {},
   "outputs": [],
   "source": [
    "from textblob import TextBlob"
   ]
  },
  {
   "cell_type": "code",
   "execution_count": 13,
   "metadata": {},
   "outputs": [],
   "source": [
    "import re\n",
    "def clean_tweet(tweet):\n",
    "    return ' '.join(re.sub('(@[A-Za-z0-9]+)|([^0-9A-Za-z \\t])|(\\w+:\\/\\/\\S+)', ' ', tweet).split())"
   ]
  },
  {
   "cell_type": "code",
   "execution_count": 14,
   "metadata": {},
   "outputs": [],
   "source": [
    "def analyze_sentiment(tweet):\n",
    "    analysis = TextBlob(tweet)\n",
    "    if analysis.sentiment.polarity > 0:\n",
    "        return 'Positive'\n",
    "    elif analysis.sentiment.polarity == 0:\n",
    "        return 'Neutral'\n",
    "    else:\n",
    "        return 'Negative'"
   ]
  },
  {
   "cell_type": "code",
   "execution_count": 15,
   "metadata": {},
   "outputs": [],
   "source": [
    "df['clean_tweet'] = df['Tweets'].apply(lambda x : clean_tweet(x))"
   ]
  },
  {
   "cell_type": "code",
   "execution_count": 16,
   "metadata": {},
   "outputs": [
    {
     "data": {
      "text/html": [
       "<div>\n",
       "<style scoped>\n",
       "    .dataframe tbody tr th:only-of-type {\n",
       "        vertical-align: middle;\n",
       "    }\n",
       "\n",
       "    .dataframe tbody tr th {\n",
       "        vertical-align: top;\n",
       "    }\n",
       "\n",
       "    .dataframe thead th {\n",
       "        text-align: right;\n",
       "    }\n",
       "</style>\n",
       "<table border=\"1\" class=\"dataframe\">\n",
       "  <thead>\n",
       "    <tr style=\"text-align: right;\">\n",
       "      <th></th>\n",
       "      <th>Tweets</th>\n",
       "      <th>User</th>\n",
       "      <th>User_statuses_count</th>\n",
       "      <th>user_followers</th>\n",
       "      <th>User_location</th>\n",
       "      <th>User_verified</th>\n",
       "      <th>fav_count</th>\n",
       "      <th>rt_count</th>\n",
       "      <th>tweet_date</th>\n",
       "      <th>clean_tweet</th>\n",
       "    </tr>\n",
       "  </thead>\n",
       "  <tbody>\n",
       "    <tr>\n",
       "      <th>0</th>\n",
       "      <td>RT @Mohamme26964040: Pls join us on November 2...</td>\n",
       "      <td>Nation First</td>\n",
       "      <td>94509</td>\n",
       "      <td>121</td>\n",
       "      <td>Whole Nation</td>\n",
       "      <td>False</td>\n",
       "      <td>0</td>\n",
       "      <td>16</td>\n",
       "      <td>2020-11-21 17:15:21</td>\n",
       "      <td>RT Pls join us on November 21 st at 9 00PM IST...</td>\n",
       "    </tr>\n",
       "    <tr>\n",
       "      <th>1</th>\n",
       "      <td>RT @Jaydeep_longman: @abhijitmajumder Bihar el...</td>\n",
       "      <td>ଅଖିଳ ପାଢୀ🇮🇳</td>\n",
       "      <td>230518</td>\n",
       "      <td>5253</td>\n",
       "      <td>Jeypore</td>\n",
       "      <td>False</td>\n",
       "      <td>0</td>\n",
       "      <td>2</td>\n",
       "      <td>2020-11-21 17:14:37</td>\n",
       "      <td>RT longman Bihar elections has brought out ano...</td>\n",
       "    </tr>\n",
       "    <tr>\n",
       "      <th>2</th>\n",
       "      <td>RT @Jaydeep_longman: @abhijitmajumder Bihar el...</td>\n",
       "      <td>GlobalDesi 🇮🇳🇺🇲</td>\n",
       "      <td>11572</td>\n",
       "      <td>1217</td>\n",
       "      <td>India</td>\n",
       "      <td>False</td>\n",
       "      <td>0</td>\n",
       "      <td>2</td>\n",
       "      <td>2020-11-21 17:13:54</td>\n",
       "      <td>RT longman Bihar elections has brought out ano...</td>\n",
       "    </tr>\n",
       "    <tr>\n",
       "      <th>3</th>\n",
       "      <td>@rsprasad @narendramodi @MoHFW_INDIA @PMOIndia...</td>\n",
       "      <td>kaushik Chauhan</td>\n",
       "      <td>1283</td>\n",
       "      <td>15</td>\n",
       "      <td></td>\n",
       "      <td>False</td>\n",
       "      <td>0</td>\n",
       "      <td>0</td>\n",
       "      <td>2020-11-21 17:06:09</td>\n",
       "      <td>INDIA Bihar election one month before</td>\n",
       "    </tr>\n",
       "    <tr>\n",
       "      <th>4</th>\n",
       "      <td>RT @ind_rajat92: I had forgotten that @Dev_Fad...</td>\n",
       "      <td>eagleeye192020 Proud Hindu &amp; Proud Indian</td>\n",
       "      <td>123424</td>\n",
       "      <td>308</td>\n",
       "      <td></td>\n",
       "      <td>False</td>\n",
       "      <td>0</td>\n",
       "      <td>16</td>\n",
       "      <td>2020-11-21 17:00:31</td>\n",
       "      <td>RT rajat92 I had forgotten that Fadnavis the e...</td>\n",
       "    </tr>\n",
       "  </tbody>\n",
       "</table>\n",
       "</div>"
      ],
      "text/plain": [
       "                                              Tweets  \\\n",
       "0  RT @Mohamme26964040: Pls join us on November 2...   \n",
       "1  RT @Jaydeep_longman: @abhijitmajumder Bihar el...   \n",
       "2  RT @Jaydeep_longman: @abhijitmajumder Bihar el...   \n",
       "3  @rsprasad @narendramodi @MoHFW_INDIA @PMOIndia...   \n",
       "4  RT @ind_rajat92: I had forgotten that @Dev_Fad...   \n",
       "\n",
       "                                        User User_statuses_count  \\\n",
       "0                               Nation First               94509   \n",
       "1                                ଅଖିଳ ପାଢୀ🇮🇳              230518   \n",
       "2                            GlobalDesi 🇮🇳🇺🇲               11572   \n",
       "3                            kaushik Chauhan                1283   \n",
       "4  eagleeye192020 Proud Hindu & Proud Indian              123424   \n",
       "\n",
       "  user_followers User_location User_verified fav_count rt_count  \\\n",
       "0            121  Whole Nation         False         0       16   \n",
       "1           5253       Jeypore         False         0        2   \n",
       "2           1217         India         False         0        2   \n",
       "3             15                       False         0        0   \n",
       "4            308                       False         0       16   \n",
       "\n",
       "            tweet_date                                        clean_tweet  \n",
       "0  2020-11-21 17:15:21  RT Pls join us on November 21 st at 9 00PM IST...  \n",
       "1  2020-11-21 17:14:37  RT longman Bihar elections has brought out ano...  \n",
       "2  2020-11-21 17:13:54  RT longman Bihar elections has brought out ano...  \n",
       "3  2020-11-21 17:06:09              INDIA Bihar election one month before  \n",
       "4  2020-11-21 17:00:31  RT rajat92 I had forgotten that Fadnavis the e...  "
      ]
     },
     "execution_count": 16,
     "metadata": {},
     "output_type": "execute_result"
    }
   ],
   "source": [
    "df.head()"
   ]
  },
  {
   "cell_type": "code",
   "execution_count": 17,
   "metadata": {},
   "outputs": [
    {
     "data": {
      "text/html": [
       "<div>\n",
       "<style scoped>\n",
       "    .dataframe tbody tr th:only-of-type {\n",
       "        vertical-align: middle;\n",
       "    }\n",
       "\n",
       "    .dataframe tbody tr th {\n",
       "        vertical-align: top;\n",
       "    }\n",
       "\n",
       "    .dataframe thead th {\n",
       "        text-align: right;\n",
       "    }\n",
       "</style>\n",
       "<table border=\"1\" class=\"dataframe\">\n",
       "  <thead>\n",
       "    <tr style=\"text-align: right;\">\n",
       "      <th></th>\n",
       "      <th>Tweets</th>\n",
       "      <th>User</th>\n",
       "      <th>User_statuses_count</th>\n",
       "      <th>user_followers</th>\n",
       "      <th>User_location</th>\n",
       "      <th>User_verified</th>\n",
       "      <th>fav_count</th>\n",
       "      <th>rt_count</th>\n",
       "      <th>tweet_date</th>\n",
       "      <th>clean_tweet</th>\n",
       "      <th>Sentiment</th>\n",
       "    </tr>\n",
       "  </thead>\n",
       "  <tbody>\n",
       "    <tr>\n",
       "      <th>0</th>\n",
       "      <td>RT @Mohamme26964040: Pls join us on November 2...</td>\n",
       "      <td>Nation First</td>\n",
       "      <td>94509</td>\n",
       "      <td>121</td>\n",
       "      <td>Whole Nation</td>\n",
       "      <td>False</td>\n",
       "      <td>0</td>\n",
       "      <td>16</td>\n",
       "      <td>2020-11-21 17:15:21</td>\n",
       "      <td>RT Pls join us on November 21 st at 9 00PM IST...</td>\n",
       "      <td>Neutral</td>\n",
       "    </tr>\n",
       "    <tr>\n",
       "      <th>1</th>\n",
       "      <td>RT @Jaydeep_longman: @abhijitmajumder Bihar el...</td>\n",
       "      <td>ଅଖିଳ ପାଢୀ🇮🇳</td>\n",
       "      <td>230518</td>\n",
       "      <td>5253</td>\n",
       "      <td>Jeypore</td>\n",
       "      <td>False</td>\n",
       "      <td>0</td>\n",
       "      <td>2</td>\n",
       "      <td>2020-11-21 17:14:37</td>\n",
       "      <td>RT longman Bihar elections has brought out ano...</td>\n",
       "      <td>Negative</td>\n",
       "    </tr>\n",
       "    <tr>\n",
       "      <th>2</th>\n",
       "      <td>RT @Jaydeep_longman: @abhijitmajumder Bihar el...</td>\n",
       "      <td>GlobalDesi 🇮🇳🇺🇲</td>\n",
       "      <td>11572</td>\n",
       "      <td>1217</td>\n",
       "      <td>India</td>\n",
       "      <td>False</td>\n",
       "      <td>0</td>\n",
       "      <td>2</td>\n",
       "      <td>2020-11-21 17:13:54</td>\n",
       "      <td>RT longman Bihar elections has brought out ano...</td>\n",
       "      <td>Negative</td>\n",
       "    </tr>\n",
       "    <tr>\n",
       "      <th>3</th>\n",
       "      <td>@rsprasad @narendramodi @MoHFW_INDIA @PMOIndia...</td>\n",
       "      <td>kaushik Chauhan</td>\n",
       "      <td>1283</td>\n",
       "      <td>15</td>\n",
       "      <td></td>\n",
       "      <td>False</td>\n",
       "      <td>0</td>\n",
       "      <td>0</td>\n",
       "      <td>2020-11-21 17:06:09</td>\n",
       "      <td>INDIA Bihar election one month before</td>\n",
       "      <td>Neutral</td>\n",
       "    </tr>\n",
       "    <tr>\n",
       "      <th>4</th>\n",
       "      <td>RT @ind_rajat92: I had forgotten that @Dev_Fad...</td>\n",
       "      <td>eagleeye192020 Proud Hindu &amp; Proud Indian</td>\n",
       "      <td>123424</td>\n",
       "      <td>308</td>\n",
       "      <td></td>\n",
       "      <td>False</td>\n",
       "      <td>0</td>\n",
       "      <td>16</td>\n",
       "      <td>2020-11-21 17:00:31</td>\n",
       "      <td>RT rajat92 I had forgotten that Fadnavis the e...</td>\n",
       "      <td>Neutral</td>\n",
       "    </tr>\n",
       "  </tbody>\n",
       "</table>\n",
       "</div>"
      ],
      "text/plain": [
       "                                              Tweets  \\\n",
       "0  RT @Mohamme26964040: Pls join us on November 2...   \n",
       "1  RT @Jaydeep_longman: @abhijitmajumder Bihar el...   \n",
       "2  RT @Jaydeep_longman: @abhijitmajumder Bihar el...   \n",
       "3  @rsprasad @narendramodi @MoHFW_INDIA @PMOIndia...   \n",
       "4  RT @ind_rajat92: I had forgotten that @Dev_Fad...   \n",
       "\n",
       "                                        User User_statuses_count  \\\n",
       "0                               Nation First               94509   \n",
       "1                                ଅଖିଳ ପାଢୀ🇮🇳              230518   \n",
       "2                            GlobalDesi 🇮🇳🇺🇲               11572   \n",
       "3                            kaushik Chauhan                1283   \n",
       "4  eagleeye192020 Proud Hindu & Proud Indian              123424   \n",
       "\n",
       "  user_followers User_location User_verified fav_count rt_count  \\\n",
       "0            121  Whole Nation         False         0       16   \n",
       "1           5253       Jeypore         False         0        2   \n",
       "2           1217         India         False         0        2   \n",
       "3             15                       False         0        0   \n",
       "4            308                       False         0       16   \n",
       "\n",
       "            tweet_date                                        clean_tweet  \\\n",
       "0  2020-11-21 17:15:21  RT Pls join us on November 21 st at 9 00PM IST...   \n",
       "1  2020-11-21 17:14:37  RT longman Bihar elections has brought out ano...   \n",
       "2  2020-11-21 17:13:54  RT longman Bihar elections has brought out ano...   \n",
       "3  2020-11-21 17:06:09              INDIA Bihar election one month before   \n",
       "4  2020-11-21 17:00:31  RT rajat92 I had forgotten that Fadnavis the e...   \n",
       "\n",
       "  Sentiment  \n",
       "0   Neutral  \n",
       "1  Negative  \n",
       "2  Negative  \n",
       "3   Neutral  \n",
       "4   Neutral  "
      ]
     },
     "execution_count": 17,
     "metadata": {},
     "output_type": "execute_result"
    }
   ],
   "source": [
    "df['Sentiment'] = df['clean_tweet'].apply(lambda x : analyze_sentiment(x) )\n",
    "df.head()"
   ]
  },
  {
   "cell_type": "code",
   "execution_count": 18,
   "metadata": {},
   "outputs": [
    {
     "name": "stdout",
     "output_type": "stream",
     "text": [
      "Original tweet:\n",
      " RT @Jaydeep_longman: @abhijitmajumder Bihar elections has brought out another truth that all of us must be wary of.\n",
      "\n",
      "Chirag Paswan hails fr…\n",
      "\n",
      "Clean tweet:\n",
      " RT longman Bihar elections has brought out another truth that all of us must be wary of Chirag Paswan hails fr\n",
      "\n",
      "Sentiment of the tweet:\n",
      " Negative\n"
     ]
    }
   ],
   "source": [
    "n = 1\n",
    "print(\"Original tweet:\\n\",df['Tweets'][n])\n",
    "print()\n",
    "print(\"Clean tweet:\\n\",df['clean_tweet'][n])\n",
    "print()\n",
    "print(\"Sentiment of the tweet:\\n\",df['Sentiment'][n])"
   ]
  },
  {
   "cell_type": "code",
   "execution_count": 19,
   "metadata": {},
   "outputs": [
    {
     "data": {
      "text/plain": [
       "421"
      ]
     },
     "execution_count": 19,
     "metadata": {},
     "output_type": "execute_result"
    }
   ],
   "source": [
    "df[df.Sentiment == 'Positive'].shape[0]"
   ]
  },
  {
   "cell_type": "code",
   "execution_count": 20,
   "metadata": {},
   "outputs": [
    {
     "data": {
      "text/plain": [
       "441"
      ]
     },
     "execution_count": 20,
     "metadata": {},
     "output_type": "execute_result"
    }
   ],
   "source": [
    "df[df.Sentiment == 'Neutral'].shape[0]"
   ]
  },
  {
   "cell_type": "code",
   "execution_count": 21,
   "metadata": {},
   "outputs": [
    {
     "data": {
      "text/plain": [
       "138"
      ]
     },
     "execution_count": 21,
     "metadata": {},
     "output_type": "execute_result"
    }
   ],
   "source": [
    "df[df.Sentiment == 'Negative'].shape[0]"
   ]
  },
  {
   "cell_type": "code",
   "execution_count": 22,
   "metadata": {},
   "outputs": [
    {
     "name": "stdout",
     "output_type": "stream",
     "text": [
      "Original tweet:\n",
      " @krishnajindal07 Actually this shekhar Suman was trying his hands in Bihar election,  but nothing happened &amp; now he… https://t.co/t30WaxFK9W\n",
      "\n",
      "Clean tweet:\n",
      " Actually this shekhar Suman was trying his hands in Bihar election but nothing happened amp now he\n",
      "\n",
      "Sentiment of the tweet:\n",
      " Neutral\n"
     ]
    }
   ],
   "source": [
    "n = 54\n",
    "print(\"Original tweet:\\n\",df['Tweets'][n])\n",
    "print()\n",
    "print(\"Clean tweet:\\n\",df['clean_tweet'][n])\n",
    "print()\n",
    "print(\"Sentiment of the tweet:\\n\",df['Sentiment'][n])"
   ]
  },
  {
   "cell_type": "code",
   "execution_count": 23,
   "metadata": {},
   "outputs": [
    {
     "name": "stdout",
     "output_type": "stream",
     "text": [
      "Original tweet:\n",
      " RT @Pradeep_Mahaur: @PrashantKishor has created a history of continuous failures.\n",
      "1. UP in 2017 on supporting INC and SP \n",
      "2  Madhya Pradesh…\n",
      "\n",
      "Clean tweet:\n",
      " RT Mahaur has created a history of continuous failures 1 UP in 2017 on supporting INC and SP 2 Madhya Pradesh\n",
      "\n",
      "Sentiment of the tweet:\n",
      " Positive\n"
     ]
    }
   ],
   "source": [
    "n = 999\n",
    "print(\"Original tweet:\\n\",df['Tweets'][n])\n",
    "print()\n",
    "print(\"Clean tweet:\\n\",df['clean_tweet'][n])\n",
    "print()\n",
    "print(\"Sentiment of the tweet:\\n\",df['Sentiment'][n])"
   ]
  },
  {
   "cell_type": "code",
   "execution_count": 24,
   "metadata": {},
   "outputs": [
    {
     "name": "stdout",
     "output_type": "stream",
     "text": [
      "Original tweet:\n",
      " @nilotpalm3 He was only interested in publicity Bihar election\n",
      "\n",
      "Clean tweet:\n",
      " He was only interested in publicity Bihar election\n",
      "\n",
      "Sentiment of the tweet:\n",
      " Positive\n"
     ]
    }
   ],
   "source": [
    "n = 69\n",
    "print(\"Original tweet:\\n\",df['Tweets'][n])\n",
    "print()\n",
    "print(\"Clean tweet:\\n\",df['clean_tweet'][n])\n",
    "print()\n",
    "print(\"Sentiment of the tweet:\\n\",df['Sentiment'][n])"
   ]
  },
  {
   "cell_type": "code",
   "execution_count": 25,
   "metadata": {},
   "outputs": [
    {
     "name": "stdout",
     "output_type": "stream",
     "text": [
      "Original tweet:\n",
      " Next 14 days will be very crucial for people of Bihar. Chhath Puja is over. Will \"  unbelievable but true \" will re… https://t.co/I56fy2Rv8o\n",
      "\n",
      "Clean tweet:\n",
      " Next 14 days will be very crucial for people of Bihar Chhath Puja is over Will unbelievable but true will re\n",
      "\n",
      "Sentiment of the tweet:\n",
      " Positive\n"
     ]
    }
   ],
   "source": [
    "n = 420\n",
    "print(\"Original tweet:\\n\",df['Tweets'][n])\n",
    "print()\n",
    "print(\"Clean tweet:\\n\",df['clean_tweet'][n])\n",
    "print()\n",
    "print(\"Sentiment of the tweet:\\n\",df['Sentiment'][n])"
   ]
  },
  {
   "cell_type": "code",
   "execution_count": null,
   "metadata": {},
   "outputs": [],
   "source": []
  }
 ],
 "metadata": {
  "kernelspec": {
   "display_name": "Python 3",
   "language": "python",
   "name": "python3"
  },
  "language_info": {
   "codemirror_mode": {
    "name": "ipython",
    "version": 3
   },
   "file_extension": ".py",
   "mimetype": "text/x-python",
   "name": "python",
   "nbconvert_exporter": "python",
   "pygments_lexer": "ipython3",
   "version": "3.8.3"
  }
 },
 "nbformat": 4,
 "nbformat_minor": 4
}
