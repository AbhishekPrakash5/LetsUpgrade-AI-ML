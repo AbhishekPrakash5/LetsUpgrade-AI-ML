{
 "cells": [
  {
   "cell_type": "markdown",
   "metadata": {},
   "source": [
    "# Question 1 : \n",
    "Subtraction of two complex number \n",
    "# Answer :"
   ]
  },
  {
   "cell_type": "code",
   "execution_count": 1,
   "metadata": {},
   "outputs": [
    {
     "name": "stdout",
     "output_type": "stream",
     "text": [
      "(5-4j) - (3+2j) = (2-6j)\n"
     ]
    }
   ],
   "source": [
    "# first complex number 5-4i\n",
    "a = 5-4j\n",
    "# second complex number 3+2i\n",
    "b = 3+2j\n",
    "# subtraction (first - second)\n",
    "c = a - b\n",
    "\n",
    "print(f\"{a} - {b} = {c}\")"
   ]
  },
  {
   "cell_type": "markdown",
   "metadata": {},
   "source": [
    "# Question 2 : \n",
    "Fourth root of a number \n",
    "# Answer :"
   ]
  },
  {
   "cell_type": "code",
   "execution_count": 2,
   "metadata": {},
   "outputs": [
    {
     "data": {
      "text/plain": [
       "2.0"
      ]
     },
     "execution_count": 2,
     "metadata": {},
     "output_type": "execute_result"
    }
   ],
   "source": [
    "import math\n",
    "n = 16\n",
    "n_4th_root = math.sqrt(math.sqrt(n))\n",
    "n_4th_root"
   ]
  },
  {
   "cell_type": "markdown",
   "metadata": {},
   "source": [
    "# Question 3 : \n",
    "Swap two numbers with temporary variable\n",
    "# Answer :"
   ]
  },
  {
   "cell_type": "code",
   "execution_count": 3,
   "metadata": {},
   "outputs": [
    {
     "name": "stdout",
     "output_type": "stream",
     "text": [
      "Before swapping a = 5, b = 7\n",
      "After swapping a = 7, b = 5\n"
     ]
    }
   ],
   "source": [
    "a = 5\n",
    "b = 7\n",
    "temp = 0\n",
    "print(f\"Before swapping a = {a}, b = {b}\")\n",
    "# swaping\n",
    "temp = a\n",
    "a = b\n",
    "b = temp\n",
    "print(f\"After swapping a = {a}, b = {b}\")"
   ]
  },
  {
   "cell_type": "markdown",
   "metadata": {},
   "source": [
    "# Question 4 : \n",
    "Swap two numbers with temporary variable\n",
    "# Answer :"
   ]
  },
  {
   "cell_type": "code",
   "execution_count": 4,
   "metadata": {},
   "outputs": [
    {
     "name": "stdout",
     "output_type": "stream",
     "text": [
      "Before swapping a = 5, b = 7\n",
      "After swapping a = 7, b = 5\n"
     ]
    }
   ],
   "source": [
    "a = 5\n",
    "b = 7\n",
    "print(f\"Before swapping a = {a}, b = {b}\")\n",
    "# swaping\n",
    "a , b = b , a\n",
    "print(f\"After swapping a = {a}, b = {b}\")"
   ]
  },
  {
   "cell_type": "markdown",
   "metadata": {},
   "source": [
    "# Question 5 : \n",
    "Convert farenheit to kelvin and celsius\n",
    "# Answer :"
   ]
  },
  {
   "cell_type": "code",
   "execution_count": 5,
   "metadata": {},
   "outputs": [
    {
     "name": "stdout",
     "output_type": "stream",
     "text": [
      "Celsius = 6.666666666666667, Kelvin = 279.81666666666666\n"
     ]
    }
   ],
   "source": [
    "farenheit = 44\n",
    "# converting farenheit to celsius\n",
    "celsius = (farenheit - 32) * 5 / 9\n",
    "#converting farenheit to kelvin\n",
    "kelvin = ((farenheit - 32) * 5 / 9) + 273.15\n",
    "\n",
    "print(f\"Celsius = {celsius}, Kelvin = {kelvin}\")"
   ]
  },
  {
   "cell_type": "markdown",
   "metadata": {},
   "source": [
    "# Question 6 : \n",
    "Demonstrate all data type in python\n",
    "# Answer :"
   ]
  },
  {
   "cell_type": "code",
   "execution_count": 6,
   "metadata": {},
   "outputs": [
    {
     "name": "stdout",
     "output_type": "stream",
     "text": [
      "Hello is of type <class 'str'>\n",
      "2 is of type <class 'int'>\n",
      "7.0 is of type <class 'float'>\n",
      "(5+2j) is of type <class 'complex'>\n",
      "[1, 2, 3] is of type <class 'list'>\n",
      "(1, 2, 3) is of type <class 'tuple'>\n",
      "{'a': 1, 'b': 2} is of type <class 'dict'>\n",
      "{1, 2, 3} is of type <class 'set'>\n",
      "range(1, 5) is of type <class 'range'>\n",
      "True is of type <class 'bool'>\n"
     ]
    }
   ],
   "source": [
    "# String\n",
    "a = \"Hello\"\n",
    "print(a, \"is of type\", type(a))\n",
    "\n",
    "# Integer\n",
    "a = 2\n",
    "print(a, \"is of type\", type(a))\n",
    "\n",
    "# Floating point\n",
    "a = 7.0\n",
    "print(a, \"is of type\", type(a))\n",
    "\n",
    "# Complex\n",
    "a = 5+2j\n",
    "print(a, \"is of type\", type(a))\n",
    "\n",
    "# List\n",
    "a = [1,2,3]\n",
    "print(a, \"is of type\", type(a))\n",
    "\n",
    "# Tuple\n",
    "a = (1,2,3)\n",
    "print(a, \"is of type\", type(a))\n",
    "\n",
    "# Dictionary\n",
    "a = {'a' : 1, 'b' : 2}\n",
    "print(a, \"is of type\", type(a))\n",
    "\n",
    "# Set\n",
    "a = {1,2,3}\n",
    "print(a, \"is of type\", type(a))\n",
    "\n",
    "# Range\n",
    "a = range(1,5,1)\n",
    "print(a, \"is of type\", type(a))\n",
    "\n",
    "# Bool\n",
    "a = True\n",
    "print(a, \"is of type\", type(a))\n"
   ]
  },
  {
   "cell_type": "markdown",
   "metadata": {},
   "source": [
    "# Question 7 : \n",
    "Create a Markdown cell, list the steps to create github and uploading assignment\n",
    "# Answer :\n",
    "\n",
    "### Go to www.github.com and create account with your gmail.\n",
    "### Go to your repositories and click on new\n",
    "### Name the repository LetsUpgrade AI-ML\n",
    "### In description write Assignments\n",
    "### Lets the rest be defaults and click on create repository\n",
    "### Code your solution for the giving day in one notebook\n",
    "### Download that notebook and keep it in a folder named by the day of assignment, eg. Day3\n",
    "### Upload the folder on github in the LetsUpgrade AI-ML repo that you just created"
   ]
  },
  {
   "cell_type": "code",
   "execution_count": null,
   "metadata": {},
   "outputs": [],
   "source": []
  }
 ],
 "metadata": {
  "kernelspec": {
   "display_name": "Python 3",
   "language": "python",
   "name": "python3"
  },
  "language_info": {
   "codemirror_mode": {
    "name": "ipython",
    "version": 3
   },
   "file_extension": ".py",
   "mimetype": "text/x-python",
   "name": "python",
   "nbconvert_exporter": "python",
   "pygments_lexer": "ipython3",
   "version": "3.7.6"
  }
 },
 "nbformat": 4,
 "nbformat_minor": 4
}
