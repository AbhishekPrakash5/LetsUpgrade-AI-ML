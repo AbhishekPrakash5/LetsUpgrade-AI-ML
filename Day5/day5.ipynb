{
 "cells": [
  {
   "cell_type": "markdown",
   "metadata": {},
   "source": [
    "# Question 1 :\n",
    "Find first 20 non-even prime numbers\n",
    "# Answer :"
   ]
  },
  {
   "cell_type": "code",
   "execution_count": 1,
   "metadata": {},
   "outputs": [
    {
     "name": "stdout",
     "output_type": "stream",
     "text": [
      "3\n",
      "5\n",
      "7\n",
      "11\n",
      "13\n",
      "17\n",
      "19\n",
      "23\n",
      "29\n",
      "31\n",
      "37\n",
      "41\n",
      "43\n",
      "47\n",
      "53\n",
      "59\n",
      "61\n",
      "67\n",
      "71\n",
      "73\n"
     ]
    }
   ],
   "source": [
    "import math\n",
    "def checkPrime(n):\n",
    "    if n <= 1:\n",
    "        return False\n",
    "    if n == 2 or n == 3:\n",
    "        return True\n",
    "    for i in range(2, n // 2):\n",
    "        if n % i == 0:\n",
    "            return False\n",
    "    return True\n",
    "\n",
    "count = 0\n",
    "n = 3\n",
    "while(count < 20):\n",
    "    res = checkPrime(n)\n",
    "    if res == True:\n",
    "        print(n)\n",
    "        count = count + 1\n",
    "    n = n + 2"
   ]
  },
  {
   "cell_type": "markdown",
   "metadata": {},
   "source": [
    "# Question 2 :\n",
    "Implement 15 string function\n",
    "# Answer :"
   ]
  },
  {
   "cell_type": "code",
   "execution_count": 2,
   "metadata": {},
   "outputs": [
    {
     "name": "stdout",
     "output_type": "stream",
     "text": [
      "HELLO WORLD\n",
      "hello world\n",
      "11\n",
      "10\n",
      "Hello world\n",
      "2\n",
      "False\n",
      "False\n",
      "False\n",
      "False\n",
      "False\n",
      "Hello World\n",
      "Heaao Worad\n",
      "hELLO wORLD\n"
     ]
    }
   ],
   "source": [
    "s = \"Hello World\"\n",
    "print(s.upper())\n",
    "print(s.lower())\n",
    "print(len(s))\n",
    "print(s.find('d'))\n",
    "print(s.capitalize())\n",
    "print(s.count('o'))\n",
    "print(s.isalpha())\n",
    "print(s.isdigit())\n",
    "print(s.islower())\n",
    "print(s.isupper())\n",
    "print(s.isnumeric())\n",
    "print(s.strip())\n",
    "print(s.replace('l', 'a'))\n",
    "s.index('H')\n",
    "print(s.swapcase())"
   ]
  },
  {
   "cell_type": "markdown",
   "metadata": {},
   "source": [
    "# Question 3 :\n",
    "Check if string is palindrome or anagram\n",
    "# Answer :"
   ]
  },
  {
   "cell_type": "code",
   "execution_count": 3,
   "metadata": {},
   "outputs": [
    {
     "name": "stdout",
     "output_type": "stream",
     "text": [
      "Enter First String : listen\n",
      "Enter Second String : silent\n",
      "First string is not palindrome\n",
      "Second string is not palindrome\n",
      "Strings are anagram\n"
     ]
    }
   ],
   "source": [
    "def checkPalindrome(s):\n",
    "    rev = s[::-1]\n",
    "    if s == rev:\n",
    "        return True\n",
    "    else:\n",
    "        return False\n",
    "    \n",
    "def checkAnagram(s1, s2):\n",
    "    if sorted(s1) == sorted(s2):\n",
    "        return True\n",
    "    else:\n",
    "        return False\n",
    "s1 = input(\"Enter First String : \")\n",
    "s2 = input(\"Enter Second String : \")\n",
    "if checkPalindrome(s1):\n",
    "    print(\"First string is palindrome\")\n",
    "else:\n",
    "    print(\"First string is not palindrome\")\n",
    "    \n",
    "if checkPalindrome(s2):\n",
    "    print(\"Second string is palindrome\")\n",
    "else:\n",
    "    print(\"Second string is not palindrome\")\n",
    "\n",
    "if checkAnagram(s1, s2):\n",
    "    print(\"Strings are anagram\")\n",
    "else:\n",
    "    print(\"Strings are not anagram\")"
   ]
  },
  {
   "cell_type": "markdown",
   "metadata": {},
   "source": [
    "# Question 4 :\n",
    "Define a function to remove all spaces and special character and make the string lowercase\n",
    "# Answer :"
   ]
  },
  {
   "cell_type": "code",
   "execution_count": 4,
   "metadata": {},
   "outputs": [
    {
     "name": "stdout",
     "output_type": "stream",
     "text": [
      "drdarshaningleaimltrainer\n"
     ]
    }
   ],
   "source": [
    "def modify(s):\n",
    "    res = \"\"\n",
    "    for char in s:\n",
    "        if char.isalpha():\n",
    "            res += char\n",
    "    print(res.lower())\n",
    "\n",
    "modify(\"Dr. Darshan Ingle@AI-ML Trainer\")"
   ]
  },
  {
   "cell_type": "code",
   "execution_count": null,
   "metadata": {},
   "outputs": [],
   "source": []
  }
 ],
 "metadata": {
  "kernelspec": {
   "display_name": "Python 3",
   "language": "python",
   "name": "python3"
  },
  "language_info": {
   "codemirror_mode": {
    "name": "ipython",
    "version": 3
   },
   "file_extension": ".py",
   "mimetype": "text/x-python",
   "name": "python",
   "nbconvert_exporter": "python",
   "pygments_lexer": "ipython3",
   "version": "3.7.6"
  }
 },
 "nbformat": 4,
 "nbformat_minor": 4
}
